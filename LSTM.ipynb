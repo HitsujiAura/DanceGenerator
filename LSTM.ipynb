{
 "cells": [
  {
   "cell_type": "code",
   "execution_count": null,
   "metadata": {},
   "outputs": [],
   "source": []
  },
  {
   "cell_type": "code",
   "execution_count": 103,
   "metadata": {},
   "outputs": [],
   "source": [
    "import os\n",
    "import torch\n",
    "import torch.nn as nn\n",
    "import torch.nn.functional as F\n",
    "from torch.autograd import Variable\n",
    "\n",
    "import torchvision\n",
    "from torchvision import datasets\n",
    "from torchvision import transforms\n",
    "from torchvision.utils import save_image\n",
    "# from torchsummary import summary\n",
    "\n",
    "# from pushover import notify\n",
    "# from utils import makegif\n",
    "from random import randint\n",
    "\n",
    "from IPython.display import Image\n",
    "from IPython.core.display import Image, display\n",
    "\n",
    "from torch.utils.data import Dataset, DataLoader\n",
    "import torchvision.transforms as transforms\n",
    "from PIL import Image\n",
    "import matplotlib.pyplot as plt\n",
    "# import torch.nn.functional as F\n",
    "# import torchvision.transforms.functional as F\n",
    "\n",
    "from file_manipulations import getSortedFramePaths\n",
    "\n",
    "from vae_conv import VariationalAutoencoder, Encoder, Decoder"
   ]
  },
  {
   "cell_type": "code",
   "execution_count": 104,
   "metadata": {},
   "outputs": [],
   "source": [
    "def save_checkpoint (state, file_name=\"vae_lstm.pth.tar\"):\n",
    "    print('Saving Checkpoint')\n",
    "    torch.save(state, file_name)\n",
    "def load_checkpoint (checkpoint):\n",
    "    print('Loading Checkpoint')\n",
    "    vae.load_state_dict(checkpoint['state_dict'])\n",
    "#     optimizer.load_state_dict(checkpoint['optimizer'])"
   ]
  },
  {
   "cell_type": "code",
   "execution_count": 105,
   "metadata": {},
   "outputs": [],
   "source": [
    "device = torch.device(\"cuda\")"
   ]
  },
  {
   "cell_type": "code",
   "execution_count": 106,
   "metadata": {},
   "outputs": [
    {
     "data": {
      "text/plain": [
       "VariationalAutoencoder(\n",
       "  (encoder): Encoder(\n",
       "    (conv_1): Conv2d(1, 2, kernel_size=(4, 4), stride=(2, 2), padding=(1, 1))\n",
       "    (conv_2): Conv2d(2, 4, kernel_size=(4, 4), stride=(2, 2), padding=(1, 1))\n",
       "    (conv_3): Conv2d(4, 8, kernel_size=(4, 4), stride=(2, 2), padding=(1, 1))\n",
       "    (conv_4): Conv2d(8, 16, kernel_size=(4, 4), stride=(2, 2), padding=(1, 1))\n",
       "    (pool): MaxPool2d(kernel_size=2, stride=2, padding=0, dilation=1, ceil_mode=False)\n",
       "    (fc_mu): Linear(in_features=1024, out_features=784, bias=True)\n",
       "    (fc_logvar): Linear(in_features=1024, out_features=784, bias=True)\n",
       "  )\n",
       "  (decoder): Decoder(\n",
       "    (conv_trans_1): ConvTranspose2d(16, 8, kernel_size=(4, 4), stride=(2, 2), padding=(1, 1))\n",
       "    (conv_trans_2): ConvTranspose2d(8, 4, kernel_size=(4, 4), stride=(2, 2), padding=(1, 1))\n",
       "    (conv_trans_3): ConvTranspose2d(4, 2, kernel_size=(4, 4), stride=(2, 2), padding=(1, 1))\n",
       "    (conv_trans_4): ConvTranspose2d(2, 1, kernel_size=(4, 4), stride=(2, 2), padding=(1, 1))\n",
       "    (linear): Linear(in_features=784, out_features=1024, bias=True)\n",
       "    (sigmoid): Sigmoid()\n",
       "  )\n",
       ")"
      ]
     },
     "execution_count": 106,
     "metadata": {},
     "output_type": "execute_result"
    }
   ],
   "source": [
    "vae = VariationalAutoencoder().to(device)\n",
    "vae.load_state_dict(torch.load('vae_conv.pth'))\n",
    "vae.eval()"
   ]
  },
  {
   "cell_type": "code",
   "execution_count": 107,
   "metadata": {},
   "outputs": [],
   "source": [
    "# latent_dims = 2\n",
    "batch_size = 16\n",
    "device = torch.device(\"cuda\")"
   ]
  },
  {
   "cell_type": "code",
   "execution_count": 108,
   "metadata": {},
   "outputs": [],
   "source": [
    "image_path = \"/media/hitsuji/Back/Dance Data/Skeleton/Advanced/\""
   ]
  },
  {
   "cell_type": "code",
   "execution_count": 109,
   "metadata": {},
   "outputs": [],
   "source": [
    "composed_transform = torchvision.transforms.Compose([transforms.Resize(128), transforms.Grayscale(num_output_channels=1), transforms.ToTensor()])"
   ]
  },
  {
   "cell_type": "code",
   "execution_count": 110,
   "metadata": {},
   "outputs": [],
   "source": [
    "class DanceFrameDataset(Dataset):\n",
    "    def __init__(self, image_path, transforms):\n",
    "        self.transforms = transforms\n",
    "        self.image_path = image_path\n",
    "        self.seq_len = 3\n",
    "        self.image_names = getSortedFramePaths(self.image_path, ['gLH'])\n",
    "    def __len__ (self):\n",
    "        return len(self.image_names) - self.seq_len\n",
    "    def __getitem__(self, idx):\n",
    "        image_locations_x, image_location_y = self.image_names[idx:idx+self.seq_len], self.image_names[idx+self.seq_len]\n",
    "        images_x = torch.empty(self.seq_len, 784)\n",
    "        i = 0\n",
    "        with torch.no_grad():\n",
    "            for image_location in image_locations_x:\n",
    "                x = (self.transforms(Image.open(image_location)) > 0.5).float().view(1, 1, 128, 128)\n",
    "                images_x[i] = vae.encoder(x.to(device))[0]\n",
    "                i += 1\n",
    "\n",
    "            image_y = vae.decoder(vae.encoder((self.transforms(Image.open(image_location_y)) > 0.5).float().view(1, 1, 128, 128).to(device))[0])\n",
    "        \n",
    "        return images_x, image_y[0]\n",
    "\n",
    "frame_dataset = DanceFrameDataset(image_path, composed_transform)\n",
    "frame_loader = DataLoader(dataset=frame_dataset, batch_size=batch_size, shuffle=False, drop_last=True)"
   ]
  },
  {
   "cell_type": "code",
   "execution_count": 111,
   "metadata": {},
   "outputs": [
    {
     "data": {
      "image/png": "[encoded data removed]",
      "text/plain": [
       "<Figure size 432x288 with 3 Axes>"
      ]
     },
     "metadata": {
      "needs_background": "light"
     },
     "output_type": "display_data"
    }
   ],
   "source": [
    "frames, y = next(iter(frame_loader))\n",
    "for i in range(3):\n",
    "    plt.subplot(1, 4, i+1)\n",
    "    plt.imshow(frames[0][i].view(28, 28), cmap=\"gray\")"
   ]
  },
  {
   "cell_type": "code",
   "execution_count": null,
   "metadata": {},
   "outputs": [],
   "source": []
  },
  {
   "cell_type": "code",
   "execution_count": 112,
   "metadata": {},
   "outputs": [
    {
     "data": {
      "image/png": "[encoded data removed]",
      "text/plain": [
       "<Figure size 432x288 with 3 Axes>"
      ]
     },
     "metadata": {
      "needs_background": "light"
     },
     "output_type": "display_data"
    }
   ],
   "source": [
    "for i in range(3):\n",
    "    with torch.no_grad():\n",
    "        frames = frames.to(device)\n",
    "        frames_decoded = vae.decoder(frames[0].view(3, 1, 784))\n",
    "        plt.subplot(1, 5, i+1)\n",
    "        plt.imshow(frames_decoded[i].cpu().view(128, 128), cmap=\"gray\")"
   ]
  },
  {
   "cell_type": "code",
   "execution_count": 113,
   "metadata": {},
   "outputs": [
    {
     "data": {
      "text/plain": [
       "<matplotlib.image.AxesImage at 0x7f5a780af4d0>"
      ]
     },
     "execution_count": 113,
     "metadata": {},
     "output_type": "execute_result"
    },
    {
     "data": {
      "image/png": "[encoded data removed]",
      "text/plain": [
       "<Figure size 432x288 with 1 Axes>"
      ]
     },
     "metadata": {
      "needs_background": "light"
     },
     "output_type": "display_data"
    }
   ],
   "source": [
    "plt.imshow(y[0].cpu().view(128, 128), cmap=\"gray\")"
   ]
  },
  {
   "cell_type": "code",
   "execution_count": 86,
   "metadata": {},
   "outputs": [
    {
     "data": {
      "text/plain": [
       "torch.Size([16, 3, 784])"
      ]
     },
     "execution_count": 86,
     "metadata": {},
     "output_type": "execute_result"
    }
   ],
   "source": [
    "frames.shape"
   ]
  },
  {
   "cell_type": "code",
   "execution_count": null,
   "metadata": {},
   "outputs": [],
   "source": []
  },
  {
   "cell_type": "code",
   "execution_count": 114,
   "metadata": {},
   "outputs": [],
   "source": [
    "class LSTM(nn.Module):\n",
    "    def __init__(self, seq_len=3, n_features=784, n_hidden=1024, n_layers=1, output_size=3):\n",
    "        super().__init__()\n",
    "        self.n_features = n_features\n",
    "        self.seq_len = seq_len\n",
    "        self.n_hidden = n_hidden\n",
    "        self.n_layers = n_layers\n",
    "        \n",
    "        self.l_lstm = nn.LSTM(input_size=self.n_features, hidden_size=self.n_hidden, num_layers=self.n_layers, batch_first=True)\n",
    "\n",
    "        self.l_linear = torch.nn.Linear(self.n_hidden*self.seq_len, 784)\n",
    "        \n",
    "\n",
    "    def init_hidden(self, batch_size):\n",
    "        # even with batch_first = True this remains same as docs\n",
    "        hidden_state = torch.zeros(self.n_layers,batch_size,self.n_hidden).to(device)\n",
    "        cell_state = torch.zeros(self.n_layers,batch_size,self.n_hidden).to(device)\n",
    "        self.hidden = (hidden_state, cell_state)\n",
    "    \n",
    "    def forward(self, x):        \n",
    "        batch_size, seq_len, _ = x.size()\n",
    "        \n",
    "        lstm_out, self.hidden = self.l_lstm(x,self.hidden)\n",
    "        # lstm_out(with batch_first = True) is \n",
    "        # (batch_size,seq_len,num_directions * hidden_size)\n",
    "        # for following linear layer we want to keep batch_size dimension and merge rest       \n",
    "        # .contiguous() -> solves tensor compatibility error\n",
    "        x = lstm_out.contiguous().view(batch_size,-1)\n",
    "        \n",
    "        x = self.l_linear(x)\n",
    "        return x"
   ]
  },
  {
   "cell_type": "code",
   "execution_count": null,
   "metadata": {},
   "outputs": [],
   "source": []
  },
  {
   "cell_type": "code",
   "execution_count": 115,
   "metadata": {},
   "outputs": [],
   "source": [
    "n_features = 784 # this is number of parallel inputs\n",
    "n_timesteps = 3 # this is number of timesteps\n",
    "\n",
    "model = LSTM().to(device)\n",
    "criterion = nn.BCELoss()"
   ]
  },
  {
   "cell_type": "code",
   "execution_count": 116,
   "metadata": {},
   "outputs": [],
   "source": [
    "load_model = False\n",
    "if load_model:\n",
    "    load_checkpoint(torch.load('vae_lstm.pth.tar'))"
   ]
  },
  {
   "cell_type": "code",
   "execution_count": 117,
   "metadata": {},
   "outputs": [],
   "source": [
    "optimizer = torch.optim.Adam(model.parameters(), lr=0.0001)\n",
    "scheduler = torch.optim.lr_scheduler.ReduceLROnPlateau(optimizer, patience=2, verbose=True)"
   ]
  },
  {
   "cell_type": "code",
   "execution_count": 118,
   "metadata": {},
   "outputs": [],
   "source": [
    "epochs = 150"
   ]
  },
  {
   "cell_type": "code",
   "execution_count": 119,
   "metadata": {},
   "outputs": [],
   "source": [
    "loss_hist = []"
   ]
  },
  {
   "cell_type": "code",
   "execution_count": 120,
   "metadata": {},
   "outputs": [
    {
     "name": "stdout",
     "output_type": "stream",
     "text": [
      "Saving Checkpoint\n",
      "Epoch: 0 Batch:: 0/38 Loss: 0.4871281385421753\n",
      "Saving Checkpoint\n",
      "Epoch: 1 Batch:: 0/38 Loss: 0.33132845163345337\n",
      "Saving Checkpoint\n",
      "Epoch: 2 Batch:: 0/38 Loss: 0.20553290843963623\n",
      "Saving Checkpoint\n",
      "Epoch: 3 Batch:: 0/38 Loss: 0.14160354435443878\n",
      "Saving Checkpoint\n",
      "Epoch: 4 Batch:: 0/38 Loss: 0.11644591391086578\n",
      "Saving Checkpoint\n",
      "Epoch: 5 Batch:: 0/38 Loss: 0.10026905685663223\n",
      "Saving Checkpoint\n",
      "Epoch: 6 Batch:: 0/38 Loss: 0.09057584404945374\n",
      "Saving Checkpoint\n",
      "Epoch: 7 Batch:: 0/38 Loss: 0.08566264808177948\n",
      "Saving Checkpoint\n",
      "Epoch: 8 Batch:: 0/38 Loss: 0.09296491742134094\n",
      "Saving Checkpoint\n",
      "Epoch: 9 Batch:: 0/38 Loss: 0.10296119749546051\n",
      "Saving Checkpoint\n",
      "Epoch: 10 Batch:: 0/38 Loss: 0.08557896316051483\n",
      "Saving Checkpoint\n",
      "Epoch: 11 Batch:: 0/38 Loss: 0.0775848850607872\n",
      "Saving Checkpoint\n",
      "Epoch: 12 Batch:: 0/38 Loss: 0.07026296854019165\n",
      "Saving Checkpoint\n",
      "Epoch: 13 Batch:: 0/38 Loss: 0.07280085980892181\n",
      "Saving Checkpoint\n",
      "Epoch: 14 Batch:: 0/38 Loss: 0.06866662949323654\n",
      "Saving Checkpoint\n",
      "Epoch: 15 Batch:: 0/38 Loss: 0.07083098590373993\n",
      "Saving Checkpoint\n",
      "Epoch: 16 Batch:: 0/38 Loss: 0.06718586385250092\n",
      "Saving Checkpoint\n",
      "Epoch: 17 Batch:: 0/38 Loss: 0.07207544147968292\n",
      "Saving Checkpoint\n",
      "Epoch: 18 Batch:: 0/38 Loss: 0.062034621834754944\n",
      "Saving Checkpoint\n",
      "Epoch: 19 Batch:: 0/38 Loss: 0.06147812306880951\n",
      "Saving Checkpoint\n",
      "Epoch: 20 Batch:: 0/38 Loss: 0.05615510791540146\n",
      "Saving Checkpoint\n",
      "Epoch: 21 Batch:: 0/38 Loss: 0.055692438036203384\n",
      "Saving Checkpoint\n",
      "Epoch: 22 Batch:: 0/38 Loss: 0.05498433858156204\n",
      "Saving Checkpoint\n",
      "Epoch: 23 Batch:: 0/38 Loss: 0.05561816319823265\n",
      "Saving Checkpoint\n",
      "Epoch: 24 Batch:: 0/38 Loss: 0.059895820915699005\n",
      "Saving Checkpoint\n",
      "Epoch: 25 Batch:: 0/38 Loss: 0.06473810225725174\n",
      "Saving Checkpoint\n",
      "Epoch: 26 Batch:: 0/38 Loss: 0.054555539041757584\n",
      "Saving Checkpoint\n",
      "Epoch: 27 Batch:: 0/38 Loss: 0.051949985325336456\n",
      "Saving Checkpoint\n",
      "Epoch: 28 Batch:: 0/38 Loss: 0.051507771015167236\n",
      "Saving Checkpoint\n",
      "Epoch: 29 Batch:: 0/38 Loss: 0.05154930427670479\n",
      "Saving Checkpoint\n",
      "Epoch: 30 Batch:: 0/38 Loss: 0.05541158467531204\n",
      "Saving Checkpoint\n",
      "Epoch: 31 Batch:: 0/38 Loss: 0.04969044402241707\n",
      "Saving Checkpoint\n",
      "Epoch: 32 Batch:: 0/38 Loss: 0.05708194524049759\n",
      "Saving Checkpoint\n",
      "Epoch: 33 Batch:: 0/38 Loss: 0.050567708909511566\n",
      "Saving Checkpoint\n",
      "Epoch: 34 Batch:: 0/38 Loss: 0.04610197991132736\n",
      "Saving Checkpoint\n",
      "Epoch: 35 Batch:: 0/38 Loss: 0.045537397265434265\n",
      "Saving Checkpoint\n",
      "Epoch: 36 Batch:: 0/38 Loss: 0.04364442080259323\n",
      "Saving Checkpoint\n",
      "Epoch: 37 Batch:: 0/38 Loss: 0.0442315936088562\n",
      "Saving Checkpoint\n",
      "Epoch: 38 Batch:: 0/38 Loss: 0.04379639774560928\n",
      "Saving Checkpoint\n",
      "Epoch: 39 Batch:: 0/38 Loss: 0.04550057649612427\n",
      "Saving Checkpoint\n",
      "Epoch: 40 Batch:: 0/38 Loss: 0.044550925493240356\n",
      "Saving Checkpoint\n",
      "Epoch: 41 Batch:: 0/38 Loss: 0.04167860746383667\n",
      "Saving Checkpoint\n",
      "Epoch: 42 Batch:: 0/38 Loss: 0.04106450080871582\n",
      "Saving Checkpoint\n",
      "Epoch: 43 Batch:: 0/38 Loss: 0.03955552726984024\n",
      "Saving Checkpoint\n",
      "Epoch: 44 Batch:: 0/38 Loss: 0.03908459097146988\n",
      "Saving Checkpoint\n",
      "Epoch: 45 Batch:: 0/38 Loss: 0.042180050164461136\n",
      "Saving Checkpoint\n",
      "Epoch: 46 Batch:: 0/38 Loss: 0.03818744793534279\n",
      "Saving Checkpoint\n",
      "Epoch: 47 Batch:: 0/38 Loss: 0.04652643948793411\n",
      "Saving Checkpoint\n",
      "Epoch: 48 Batch:: 0/38 Loss: 0.04158082604408264\n",
      "Saving Checkpoint\n",
      "Epoch: 49 Batch:: 0/38 Loss: 0.03734983131289482\n",
      "Saving Checkpoint\n",
      "Epoch: 50 Batch:: 0/38 Loss: 0.03707360848784447\n",
      "Saving Checkpoint\n",
      "Epoch: 51 Batch:: 0/38 Loss: 0.03784022480249405\n",
      "Saving Checkpoint\n",
      "Epoch: 52 Batch:: 0/38 Loss: 0.03564764931797981\n",
      "Saving Checkpoint\n",
      "Epoch: 53 Batch:: 0/38 Loss: 0.040360137820243835\n",
      "Saving Checkpoint\n",
      "Epoch: 54 Batch:: 0/38 Loss: 0.038791630417108536\n",
      "Saving Checkpoint\n",
      "Epoch: 55 Batch:: 0/38 Loss: 0.034869760274887085\n",
      "Saving Checkpoint\n",
      "Epoch: 56 Batch:: 0/38 Loss: 0.03691893815994263\n",
      "Saving Checkpoint\n",
      "Epoch: 57 Batch:: 0/38 Loss: 0.03694002330303192\n",
      "Saving Checkpoint\n",
      "Epoch: 58 Batch:: 0/38 Loss: 0.035998545587062836\n",
      "Saving Checkpoint\n",
      "Epoch: 59 Batch:: 0/38 Loss: 0.0367358922958374\n",
      "Saving Checkpoint\n",
      "Epoch: 60 Batch:: 0/38 Loss: 0.03359426558017731\n",
      "Saving Checkpoint\n",
      "Epoch: 61 Batch:: 0/38 Loss: 0.03330628201365471\n",
      "Saving Checkpoint\n",
      "Epoch: 62 Batch:: 0/38 Loss: 0.039898861199617386\n",
      "Saving Checkpoint\n",
      "Epoch: 63 Batch:: 0/38 Loss: 0.03308498114347458\n",
      "Saving Checkpoint\n",
      "Epoch: 64 Batch:: 0/38 Loss: 0.03974510729312897\n",
      "Saving Checkpoint\n",
      "Epoch: 65 Batch:: 0/38 Loss: 0.03308790177106857\n",
      "Saving Checkpoint\n",
      "Epoch: 66 Batch:: 0/38 Loss: 0.031136495992541313\n",
      "Saving Checkpoint\n",
      "Epoch: 67 Batch:: 0/38 Loss: 0.029876958578824997\n",
      "Saving Checkpoint\n",
      "Epoch: 68 Batch:: 0/38 Loss: 0.03177396208047867\n",
      "Saving Checkpoint\n",
      "Epoch: 69 Batch:: 0/38 Loss: 0.028895825147628784\n",
      "Saving Checkpoint\n",
      "Epoch: 70 Batch:: 0/38 Loss: 0.03202056139707565\n",
      "Saving Checkpoint\n",
      "Epoch: 71 Batch:: 0/38 Loss: 0.029113562777638435\n",
      "Saving Checkpoint\n",
      "Epoch: 72 Batch:: 0/38 Loss: 0.027708400040864944\n",
      "Saving Checkpoint\n",
      "Epoch: 73 Batch:: 0/38 Loss: 0.027768634259700775\n",
      "Saving Checkpoint\n",
      "Epoch: 74 Batch:: 0/38 Loss: 0.026938017457723618\n",
      "Saving Checkpoint\n",
      "Epoch: 75 Batch:: 0/38 Loss: 0.026742324233055115\n",
      "Saving Checkpoint\n",
      "Epoch: 76 Batch:: 0/38 Loss: 0.02839246764779091\n",
      "Saving Checkpoint\n",
      "Epoch: 77 Batch:: 0/38 Loss: 0.027089320123195648\n",
      "Saving Checkpoint\n",
      "Epoch: 78 Batch:: 0/38 Loss: 0.026833094656467438\n",
      "Saving Checkpoint\n",
      "Epoch: 79 Batch:: 0/38 Loss: 0.027526818215847015\n",
      "Saving Checkpoint\n",
      "Epoch: 80 Batch:: 0/38 Loss: 0.026726029813289642\n",
      "Saving Checkpoint\n",
      "Epoch: 81 Batch:: 0/38 Loss: 0.027533870190382004\n",
      "Saving Checkpoint\n",
      "Epoch: 82 Batch:: 0/38 Loss: 0.02573508210480213\n",
      "Saving Checkpoint\n",
      "Epoch: 83 Batch:: 0/38 Loss: 0.026403486728668213\n",
      "Saving Checkpoint\n",
      "Epoch: 84 Batch:: 0/38 Loss: 0.025273669511079788\n",
      "Saving Checkpoint\n",
      "Epoch: 85 Batch:: 0/38 Loss: 0.026048677042126656\n",
      "Saving Checkpoint\n",
      "Epoch: 86 Batch:: 0/38 Loss: 0.0251089408993721\n",
      "Saving Checkpoint\n",
      "Epoch: 87 Batch:: 0/38 Loss: 0.026221299543976784\n",
      "Saving Checkpoint\n",
      "Epoch: 88 Batch:: 0/38 Loss: 0.026957720518112183\n",
      "Saving Checkpoint\n",
      "Epoch: 89 Batch:: 0/38 Loss: 0.025611821562051773\n",
      "Saving Checkpoint\n",
      "Epoch: 90 Batch:: 0/38 Loss: 0.02953699789941311\n",
      "Saving Checkpoint\n",
      "Epoch: 91 Batch:: 0/38 Loss: 0.03281538933515549\n",
      "Saving Checkpoint\n",
      "Epoch: 92 Batch:: 0/38 Loss: 0.028187619522213936\n",
      "Saving Checkpoint\n",
      "Epoch: 93 Batch:: 0/38 Loss: 0.024800481274724007\n",
      "Saving Checkpoint\n",
      "Epoch: 94 Batch:: 0/38 Loss: 0.024008169770240784\n",
      "Saving Checkpoint\n",
      "Epoch: 95 Batch:: 0/38 Loss: 0.02409263886511326\n",
      "Saving Checkpoint\n",
      "Epoch: 96 Batch:: 0/38 Loss: 0.025120427832007408\n",
      "Saving Checkpoint\n",
      "Epoch: 97 Batch:: 0/38 Loss: 0.02557179145514965\n",
      "Saving Checkpoint\n",
      "Epoch: 98 Batch:: 0/38 Loss: 0.02355310320854187\n",
      "Saving Checkpoint\n",
      "Epoch: 99 Batch:: 0/38 Loss: 0.02367062121629715\n",
      "Saving Checkpoint\n",
      "Epoch: 100 Batch:: 0/38 Loss: 0.023333599790930748\n",
      "Saving Checkpoint\n",
      "Epoch: 101 Batch:: 0/38 Loss: 0.023163337260484695\n",
      "Saving Checkpoint\n",
      "Epoch: 102 Batch:: 0/38 Loss: 0.022981055080890656\n",
      "Saving Checkpoint\n",
      "Epoch: 103 Batch:: 0/38 Loss: 0.023228418081998825\n",
      "Saving Checkpoint\n",
      "Epoch: 104 Batch:: 0/38 Loss: 0.022796615958213806\n",
      "Saving Checkpoint\n",
      "Epoch: 105 Batch:: 0/38 Loss: 0.02491605654358864\n",
      "Saving Checkpoint\n",
      "Epoch: 106 Batch:: 0/38 Loss: 0.02268453687429428\n",
      "Saving Checkpoint\n",
      "Epoch: 107 Batch:: 0/38 Loss: 0.0231359601020813\n",
      "Saving Checkpoint\n",
      "Epoch: 108 Batch:: 0/38 Loss: 0.02258702740073204\n",
      "Saving Checkpoint\n",
      "Epoch: 109 Batch:: 0/38 Loss: 0.02191014587879181\n",
      "Saving Checkpoint\n",
      "Epoch: 110 Batch:: 0/38 Loss: 0.022596651688218117\n",
      "Saving Checkpoint\n",
      "Epoch: 111 Batch:: 0/38 Loss: 0.025615019723773003\n",
      "Saving Checkpoint\n",
      "Epoch: 112 Batch:: 0/38 Loss: 0.02224511280655861\n",
      "Saving Checkpoint\n",
      "Epoch: 113 Batch:: 0/38 Loss: 0.022676771506667137\n",
      "Saving Checkpoint\n",
      "Epoch: 114 Batch:: 0/38 Loss: 0.022531094029545784\n",
      "Saving Checkpoint\n",
      "Epoch: 115 Batch:: 0/38 Loss: 0.023937348276376724\n",
      "Saving Checkpoint\n",
      "Epoch: 116 Batch:: 0/38 Loss: 0.023072104901075363\n",
      "Saving Checkpoint\n",
      "Epoch: 117 Batch:: 0/38 Loss: 0.021872883662581444\n",
      "Saving Checkpoint\n",
      "Epoch: 118 Batch:: 0/38 Loss: 0.02174629457294941\n",
      "Saving Checkpoint\n",
      "Epoch: 119 Batch:: 0/38 Loss: 0.021007180213928223\n",
      "Saving Checkpoint\n",
      "Epoch: 120 Batch:: 0/38 Loss: 0.02185085415840149\n",
      "Saving Checkpoint\n",
      "Epoch: 121 Batch:: 0/38 Loss: 0.023868609219789505\n"
     ]
    },
    {
     "name": "stdout",
     "output_type": "stream",
     "text": [
      "Saving Checkpoint\n",
      "Epoch: 122 Batch:: 0/38 Loss: 0.021105743944644928\n",
      "Saving Checkpoint\n",
      "Epoch: 123 Batch:: 0/38 Loss: 0.020522886887192726\n",
      "Saving Checkpoint\n",
      "Epoch: 124 Batch:: 0/38 Loss: 0.021738940849900246\n",
      "Saving Checkpoint\n",
      "Epoch: 125 Batch:: 0/38 Loss: 0.020714033395051956\n",
      "Saving Checkpoint\n",
      "Epoch: 126 Batch:: 0/38 Loss: 0.020352885127067566\n",
      "Saving Checkpoint\n",
      "Epoch: 127 Batch:: 0/38 Loss: 0.020074931904673576\n",
      "Saving Checkpoint\n",
      "Epoch: 128 Batch:: 0/38 Loss: 0.02067069709300995\n",
      "Saving Checkpoint\n",
      "Epoch: 129 Batch:: 0/38 Loss: 0.020746633410453796\n",
      "Saving Checkpoint\n",
      "Epoch: 130 Batch:: 0/38 Loss: 0.021998170763254166\n",
      "Saving Checkpoint\n",
      "Epoch: 131 Batch:: 0/38 Loss: 0.020771857351064682\n",
      "Saving Checkpoint\n",
      "Epoch: 132 Batch:: 0/38 Loss: 0.024077795445919037\n",
      "Saving Checkpoint\n",
      "Epoch: 133 Batch:: 0/38 Loss: 0.020556485280394554\n"
     ]
    },
    {
     "ename": "KeyboardInterrupt",
     "evalue": "",
     "output_type": "error",
     "traceback": [
      "\u001b[0;31m---------------------------------------------------------------------------\u001b[0m",
      "\u001b[0;31mKeyboardInterrupt\u001b[0m                         Traceback (most recent call last)",
      "\u001b[0;32m<ipython-input-120-cc209033c4a8>\u001b[0m in \u001b[0;36m<module>\u001b[0;34m\u001b[0m\n\u001b[1;32m     16\u001b[0m \u001b[0;34m\u001b[0m\u001b[0m\n\u001b[1;32m     17\u001b[0m         \u001b[0mloss\u001b[0m \u001b[0;34m=\u001b[0m \u001b[0mcriterion\u001b[0m\u001b[0;34m(\u001b[0m\u001b[0my_pred_decoded\u001b[0m\u001b[0;34m,\u001b[0m \u001b[0mlabel\u001b[0m\u001b[0;34m)\u001b[0m\u001b[0;34m\u001b[0m\u001b[0;34m\u001b[0m\u001b[0m\n\u001b[0;32m---> 18\u001b[0;31m         \u001b[0mloss\u001b[0m\u001b[0;34m.\u001b[0m\u001b[0mbackward\u001b[0m\u001b[0;34m(\u001b[0m\u001b[0;34m)\u001b[0m\u001b[0;34m\u001b[0m\u001b[0;34m\u001b[0m\u001b[0m\n\u001b[0m\u001b[1;32m     19\u001b[0m         \u001b[0moptimizer\u001b[0m\u001b[0;34m.\u001b[0m\u001b[0mstep\u001b[0m\u001b[0;34m(\u001b[0m\u001b[0;34m)\u001b[0m\u001b[0;34m\u001b[0m\u001b[0;34m\u001b[0m\u001b[0m\n\u001b[1;32m     20\u001b[0m \u001b[0;34m\u001b[0m\u001b[0m\n",
      "\u001b[0;32m~/anaconda3/envs/dance/lib/python3.7/site-packages/torch/tensor.py\u001b[0m in \u001b[0;36mbackward\u001b[0;34m(self, gradient, retain_graph, create_graph)\u001b[0m\n\u001b[1;32m    183\u001b[0m                 \u001b[0mproducts\u001b[0m\u001b[0;34m.\u001b[0m \u001b[0mDefaults\u001b[0m \u001b[0mto\u001b[0m\u001b[0;31m \u001b[0m\u001b[0;31m`\u001b[0m\u001b[0;31m`\u001b[0m\u001b[0;32mFalse\u001b[0m\u001b[0;31m`\u001b[0m\u001b[0;31m`\u001b[0m\u001b[0;34m.\u001b[0m\u001b[0;34m\u001b[0m\u001b[0;34m\u001b[0m\u001b[0m\n\u001b[1;32m    184\u001b[0m         \"\"\"\n\u001b[0;32m--> 185\u001b[0;31m         \u001b[0mtorch\u001b[0m\u001b[0;34m.\u001b[0m\u001b[0mautograd\u001b[0m\u001b[0;34m.\u001b[0m\u001b[0mbackward\u001b[0m\u001b[0;34m(\u001b[0m\u001b[0mself\u001b[0m\u001b[0;34m,\u001b[0m \u001b[0mgradient\u001b[0m\u001b[0;34m,\u001b[0m \u001b[0mretain_graph\u001b[0m\u001b[0;34m,\u001b[0m \u001b[0mcreate_graph\u001b[0m\u001b[0;34m)\u001b[0m\u001b[0;34m\u001b[0m\u001b[0;34m\u001b[0m\u001b[0m\n\u001b[0m\u001b[1;32m    186\u001b[0m \u001b[0;34m\u001b[0m\u001b[0m\n\u001b[1;32m    187\u001b[0m     \u001b[0;32mdef\u001b[0m \u001b[0mregister_hook\u001b[0m\u001b[0;34m(\u001b[0m\u001b[0mself\u001b[0m\u001b[0;34m,\u001b[0m \u001b[0mhook\u001b[0m\u001b[0;34m)\u001b[0m\u001b[0;34m:\u001b[0m\u001b[0;34m\u001b[0m\u001b[0;34m\u001b[0m\u001b[0m\n",
      "\u001b[0;32m~/anaconda3/envs/dance/lib/python3.7/site-packages/torch/autograd/__init__.py\u001b[0m in \u001b[0;36mbackward\u001b[0;34m(tensors, grad_tensors, retain_graph, create_graph, grad_variables)\u001b[0m\n\u001b[1;32m    125\u001b[0m     Variable._execution_engine.run_backward(\n\u001b[1;32m    126\u001b[0m         \u001b[0mtensors\u001b[0m\u001b[0;34m,\u001b[0m \u001b[0mgrad_tensors\u001b[0m\u001b[0;34m,\u001b[0m \u001b[0mretain_graph\u001b[0m\u001b[0;34m,\u001b[0m \u001b[0mcreate_graph\u001b[0m\u001b[0;34m,\u001b[0m\u001b[0;34m\u001b[0m\u001b[0;34m\u001b[0m\u001b[0m\n\u001b[0;32m--> 127\u001b[0;31m         allow_unreachable=True)  # allow_unreachable flag\n\u001b[0m\u001b[1;32m    128\u001b[0m \u001b[0;34m\u001b[0m\u001b[0m\n\u001b[1;32m    129\u001b[0m \u001b[0;34m\u001b[0m\u001b[0m\n",
      "\u001b[0;31mKeyboardInterrupt\u001b[0m: "
     ]
    }
   ],
   "source": [
    "model.train()\n",
    "\n",
    "for i in range(epochs):\n",
    "    checkpoint = {'state_dict': model.state_dict()}\n",
    "    save_checkpoint(checkpoint)\n",
    "    for idx, (seq, label) in enumerate(frame_loader):\n",
    "        optimizer.zero_grad()\n",
    "\n",
    "        seq, label = seq.to(device), label.to(device)\n",
    "        \n",
    "        model.init_hidden(batch_size)\n",
    "        \n",
    "        y_pred = model(seq)\n",
    "        \n",
    "        y_pred_decoded = vae.decoder(y_pred)\n",
    "\n",
    "        loss = criterion(y_pred_decoded, label)\n",
    "        loss.backward()\n",
    "        optimizer.step()\n",
    "        \n",
    "        loss_hist.append(loss.item())\n",
    "    \n",
    "        if idx % 50 == 0:\n",
    "            print(f'Epoch: {i} Batch:: {idx}/{len(frame_loader)} Loss: {loss}')\n",
    "    mean_loss = sum(loss_hist)/len(loss_hist)\n",
    "    scheduler.step(mean_loss)\n"
   ]
  },
  {
   "cell_type": "code",
   "execution_count": 121,
   "metadata": {},
   "outputs": [],
   "source": [
    "torch.save(model.state_dict(), 'vae_lstm.pth')"
   ]
  },
  {
   "cell_type": "code",
   "execution_count": 122,
   "metadata": {},
   "outputs": [
    {
     "data": {
      "text/plain": [
       "<matplotlib.image.AxesImage at 0x7f5a7805fe50>"
      ]
     },
     "execution_count": 122,
     "metadata": {},
     "output_type": "execute_result"
    },
    {
     "data": {
      "image/png": "[encoded data removed]",
      "text/plain": [
       "<Figure size 432x288 with 1 Axes>"
      ]
     },
     "metadata": {
      "needs_background": "light"
     },
     "output_type": "display_data"
    }
   ],
   "source": [
    "plt.imshow(label[0].cpu().view(128, 128), cmap=\"gray\")"
   ]
  },
  {
   "cell_type": "code",
   "execution_count": 123,
   "metadata": {},
   "outputs": [
    {
     "data": {
      "text/plain": [
       "<matplotlib.image.AxesImage at 0x7f5a7adc84d0>"
      ]
     },
     "execution_count": 123,
     "metadata": {},
     "output_type": "execute_result"
    },
    {
     "data": {
      "image/png": "[encoded data removed]",
      "text/plain": [
       "<Figure size 432x288 with 1 Axes>"
      ]
     },
     "metadata": {
      "needs_background": "light"
     },
     "output_type": "display_data"
    }
   ],
   "source": [
    "plt.imshow(y_pred_decoded[0].detach().cpu().view(128, 128), cmap=\"gray\")"
   ]
  },
  {
   "cell_type": "code",
   "execution_count": 124,
   "metadata": {},
   "outputs": [
    {
     "data": {
      "image/png": "[encoded data removed]",
      "text/plain": [
       "<Figure size 432x288 with 1 Axes>"
      ]
     },
     "metadata": {
      "needs_background": "light"
     },
     "output_type": "display_data"
    }
   ],
   "source": [
    "plt.plot(loss_hist, label=\"Training loss\")\n",
    "plt.legend()\n",
    "plt.show()"
   ]
  },
  {
   "cell_type": "code",
   "execution_count": 125,
   "metadata": {},
   "outputs": [],
   "source": [
    "seq_num = 10"
   ]
  },
  {
   "cell_type": "code",
   "execution_count": 126,
   "metadata": {},
   "outputs": [],
   "source": [
    "frames, y = next(iter(frame_loader))\n",
    "frames, y = frames.to(device), y.to(device)"
   ]
  },
  {
   "cell_type": "code",
   "execution_count": 127,
   "metadata": {},
   "outputs": [
    {
     "data": {
      "text/plain": [
       "torch.Size([16, 3, 784])"
      ]
     },
     "execution_count": 127,
     "metadata": {},
     "output_type": "execute_result"
    }
   ],
   "source": [
    "frames.shape"
   ]
  },
  {
   "cell_type": "code",
   "execution_count": 128,
   "metadata": {},
   "outputs": [
    {
     "name": "stdout",
     "output_type": "stream",
     "text": [
      "torch.Size([16, 1, 128, 128])\n"
     ]
    }
   ],
   "source": [
    "with torch.no_grad():\n",
    "    model.init_hidden(batch_size)\n",
    "    pred_y = vae.decoder(model(frames))\n",
    "    print(pred_y.shape)"
   ]
  },
  {
   "cell_type": "code",
   "execution_count": 129,
   "metadata": {},
   "outputs": [
    {
     "data": {
      "image/png": "[encoded data removed]",
      "text/plain": [
       "<Figure size 432x288 with 3 Axes>"
      ]
     },
     "metadata": {
      "needs_background": "light"
     },
     "output_type": "display_data"
    }
   ],
   "source": [
    "dec_seq = vae.decoder(frames[seq_num].view(3, 1, 784))\n",
    "\n",
    "for i in range(3):\n",
    "    with torch.no_grad():\n",
    "        plt.subplot(1, 6, i+1)\n",
    "        plt.imshow(dec_seq[i].view(128, 128).cpu(), cmap=\"gray\")"
   ]
  },
  {
   "cell_type": "code",
   "execution_count": 130,
   "metadata": {},
   "outputs": [
    {
     "data": {
      "text/plain": [
       "<matplotlib.image.AxesImage at 0x7f5a781a2390>"
      ]
     },
     "execution_count": 130,
     "metadata": {},
     "output_type": "execute_result"
    },
    {
     "data": {
      "image/png": "[encoded data removed]",
      "text/plain": [
       "<Figure size 432x288 with 1 Axes>"
      ]
     },
     "metadata": {
      "needs_background": "light"
     },
     "output_type": "display_data"
    }
   ],
   "source": [
    "\n",
    "plt.imshow(pred_y[seq_num].cpu().view(128, 128), cmap=\"gray\")"
   ]
  },
  {
   "cell_type": "code",
   "execution_count": 51,
   "metadata": {},
   "outputs": [
    {
     "data": {
      "text/plain": [
       "<matplotlib.image.AxesImage at 0x7f5a7a9a3910>"
      ]
     },
     "execution_count": 51,
     "metadata": {},
     "output_type": "execute_result"
    },
    {
     "data": {
      "image/png": "[encoded data removed]",
      "text/plain": [
       "<Figure size 432x288 with 1 Axes>"
      ]
     },
     "metadata": {
      "needs_background": "light"
     },
     "output_type": "display_data"
    }
   ],
   "source": [
    "plt.imshow(y[seq_num].cpu().view(128, 128), cmap=\"gray\")"
   ]
  },
  {
   "cell_type": "code",
   "execution_count": null,
   "metadata": {},
   "outputs": [],
   "source": []
  },
  {
   "cell_type": "code",
   "execution_count": null,
   "metadata": {},
   "outputs": [],
   "source": []
  }
 ],
 "metadata": {
  "kernelspec": {
   "display_name": "Python 3",
   "language": "python",
   "name": "python3"
  },
  "language_info": {
   "codemirror_mode": {
    "name": "ipython",
    "version": 3
   },
   "file_extension": ".py",
   "mimetype": "text/x-python",
   "name": "python",
   "nbconvert_exporter": "python",
   "pygments_lexer": "ipython3",
   "version": "3.7.9"
  }
 },
 "nbformat": 4,
 "nbformat_minor": 4
}
