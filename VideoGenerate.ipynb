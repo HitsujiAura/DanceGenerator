{
 "cells": [
  {
   "cell_type": "code",
   "execution_count": 1,
   "metadata": {},
   "outputs": [],
   "source": [
    "import os\n",
    "import torch\n",
    "import torch.nn as nn\n",
    "import torch.nn.functional as F\n",
    "from torch.autograd import Variable\n",
    "\n",
    "import torchvision\n",
    "from torchvision import datasets\n",
    "from torchvision import transforms\n",
    "from torchvision.utils import save_image\n",
    "# from torchsummary import summary\n",
    "\n",
    "# from pushover import notify\n",
    "# from utils import makegif\n",
    "from random import randint\n",
    "\n",
    "from IPython.display import Image\n",
    "from IPython.core.display import Image, display\n",
    "\n",
    "from torch.utils.data import Dataset, DataLoader\n",
    "import torchvision.transforms as transforms\n",
    "from PIL import Image\n",
    "import matplotlib.pyplot as plt\n",
    "# import torch.nn.functional as F\n",
    "# import torchvision.transforms.functional as F\n",
    "\n",
    "from file_manipulations import getSortedFramePaths\n",
    "\n",
    "from vae_conv import VariationalAutoencoder, Encoder, Decoder\n",
    "from vae_lstm import LSTM\n",
    "\n",
    "from images2video import Images2Video"
   ]
  },
  {
   "cell_type": "code",
   "execution_count": 2,
   "metadata": {},
   "outputs": [],
   "source": [
    "device = torch.device(\"cuda\")"
   ]
  },
  {
   "cell_type": "code",
   "execution_count": 3,
   "metadata": {
    "scrolled": true
   },
   "outputs": [
    {
     "data": {
      "text/plain": [
       "VariationalAutoencoder(\n",
       "  (encoder): Encoder(\n",
       "    (conv_1): Conv2d(1, 2, kernel_size=(4, 4), stride=(2, 2), padding=(1, 1))\n",
       "    (conv_2): Conv2d(2, 4, kernel_size=(4, 4), stride=(2, 2), padding=(1, 1))\n",
       "    (conv_3): Conv2d(4, 8, kernel_size=(4, 4), stride=(2, 2), padding=(1, 1))\n",
       "    (conv_4): Conv2d(8, 16, kernel_size=(4, 4), stride=(2, 2), padding=(1, 1))\n",
       "    (pool): MaxPool2d(kernel_size=2, stride=2, padding=0, dilation=1, ceil_mode=False)\n",
       "    (fc_mu): Linear(in_features=1024, out_features=784, bias=True)\n",
       "    (fc_logvar): Linear(in_features=1024, out_features=784, bias=True)\n",
       "  )\n",
       "  (decoder): Decoder(\n",
       "    (conv_trans_1): ConvTranspose2d(16, 8, kernel_size=(4, 4), stride=(2, 2), padding=(1, 1))\n",
       "    (conv_trans_2): ConvTranspose2d(8, 4, kernel_size=(4, 4), stride=(2, 2), padding=(1, 1))\n",
       "    (conv_trans_3): ConvTranspose2d(4, 2, kernel_size=(4, 4), stride=(2, 2), padding=(1, 1))\n",
       "    (conv_trans_4): ConvTranspose2d(2, 1, kernel_size=(4, 4), stride=(2, 2), padding=(1, 1))\n",
       "    (linear): Linear(in_features=784, out_features=1024, bias=True)\n",
       "    (sigmoid): Sigmoid()\n",
       "  )\n",
       ")"
      ]
     },
     "execution_count": 3,
     "metadata": {},
     "output_type": "execute_result"
    }
   ],
   "source": [
    "vae = VariationalAutoencoder().to(device)\n",
    "vae.load_state_dict(torch.load('vae_conv.pth'))\n",
    "vae.eval()"
   ]
  },
  {
   "cell_type": "code",
   "execution_count": 4,
   "metadata": {},
   "outputs": [
    {
     "data": {
      "text/plain": [
       "LSTM(\n",
       "  (l_lstm): LSTM(784, 1024, batch_first=True)\n",
       "  (l_linear): Linear(in_features=3072, out_features=784, bias=True)\n",
       "  (sigmoid): Sigmoid()\n",
       ")"
      ]
     },
     "execution_count": 4,
     "metadata": {},
     "output_type": "execute_result"
    }
   ],
   "source": [
    "vae_lstm = LSTM().to(device)\n",
    "vae_lstm.load_state_dict(torch.load('vae_lstm.pth'))\n",
    "vae_lstm.eval()"
   ]
  },
  {
   "cell_type": "code",
   "execution_count": 5,
   "metadata": {},
   "outputs": [],
   "source": [
    "image_path = \"/media/hitsuji/Back/Dance Data/Skeleton/Advanced/\"\n",
    "image_names = getSortedFramePaths(image_path, ['gLH'])"
   ]
  },
  {
   "cell_type": "code",
   "execution_count": 23,
   "metadata": {},
   "outputs": [],
   "source": [
    "idx, seq_len = 0, 3"
   ]
  },
  {
   "cell_type": "code",
   "execution_count": 24,
   "metadata": {},
   "outputs": [],
   "source": [
    "# encoder take the first parameter mu"
   ]
  },
  {
   "cell_type": "code",
   "execution_count": 25,
   "metadata": {},
   "outputs": [],
   "source": [
    "composed_transform = torchvision.transforms.Compose([transforms.Resize(128), transforms.Grayscale(num_output_channels=1), transforms.ToTensor()])\n",
    "start_image_locations = image_names[idx:idx+seq_len]\n",
    "images_x = torch.empty(seq_len, 1, 128, 128)\n",
    "i = 0\n",
    "\n",
    "with torch.no_grad():\n",
    "    for image_location in start_image_locations:\n",
    "        x = (composed_transform(Image.open(image_location)) > 0.5).float().view(1, 1, 128, 128)\n",
    "        images_x[i] = x\n",
    "        i += 1"
   ]
  },
  {
   "cell_type": "code",
   "execution_count": 26,
   "metadata": {},
   "outputs": [
    {
     "data": {
      "text/plain": [
       "torch.Size([3, 1, 128, 128])"
      ]
     },
     "execution_count": 26,
     "metadata": {},
     "output_type": "execute_result"
    }
   ],
   "source": [
    "images_x.shape"
   ]
  },
  {
   "cell_type": "code",
   "execution_count": 27,
   "metadata": {},
   "outputs": [],
   "source": [
    "#     = vae.decoder(vae.encoder((composed_transform(Image.open(start_image_locations[0])) > 0.5).float().view(1, 1, 128, 128).to(device))[0])"
   ]
  },
  {
   "cell_type": "code",
   "execution_count": 28,
   "metadata": {},
   "outputs": [
    {
     "data": {
      "image/png": "[encoded data removed]",
      "text/plain": [
       "<Figure size 432x288 with 3 Axes>"
      ]
     },
     "metadata": {
      "needs_background": "light"
     },
     "output_type": "display_data"
    }
   ],
   "source": [
    "for i in range(3):\n",
    "    plt.subplot(1, 4, i+1)\n",
    "    plt.imshow(images_x[i].view(128, 128), cmap=\"gray\")"
   ]
  },
  {
   "cell_type": "code",
   "execution_count": null,
   "metadata": {},
   "outputs": [],
   "source": []
  },
  {
   "cell_type": "code",
   "execution_count": null,
   "metadata": {},
   "outputs": [],
   "source": []
  },
  {
   "cell_type": "code",
   "execution_count": 29,
   "metadata": {},
   "outputs": [],
   "source": [
    "start_frames = images_x.to(device)"
   ]
  },
  {
   "cell_type": "code",
   "execution_count": null,
   "metadata": {},
   "outputs": [],
   "source": []
  },
  {
   "cell_type": "code",
   "execution_count": 30,
   "metadata": {},
   "outputs": [],
   "source": [
    "pointer = 0\n",
    "batch_size = 1\n",
    "with torch.no_grad():\n",
    "    while pointer < 600:\n",
    "        vae_lstm.init_hidden(batch_size)\n",
    "        \n",
    "        current_window = start_frames[pointer:pointer+seq_len+1]\n",
    "        encoded_window = vae.encoder(current_window)[0]\n",
    "        encoded_window = torch.unsqueeze(encoded_window, 0)\n",
    "#         print(start_frames.shape)\n",
    "        \n",
    "#         current_window = torch.unsqueeze(current_window, 0)\n",
    "        y_latent = vae_lstm(encoded_window)\n",
    "        \n",
    "#         start_frames = torch.cat((start_frames, y_latent), dim=0)\n",
    "\n",
    "        y_frame_decoded = vae.decoder(y_latent)\n",
    "        start_frames = torch.cat((start_frames, y_frame_decoded), dim=0)\n",
    "        \n",
    "        pointer += 1"
   ]
  },
  {
   "cell_type": "code",
   "execution_count": 31,
   "metadata": {},
   "outputs": [
    {
     "data": {
      "text/plain": [
       "torch.Size([603, 1, 128, 128])"
      ]
     },
     "execution_count": 31,
     "metadata": {},
     "output_type": "execute_result"
    }
   ],
   "source": [
    "start_frames.shape"
   ]
  },
  {
   "cell_type": "code",
   "execution_count": 32,
   "metadata": {},
   "outputs": [],
   "source": [
    "# plt.imshow(y_pred_decoded[0].cpu().view(128, 128), cmap=\"gray\")"
   ]
  },
  {
   "cell_type": "code",
   "execution_count": 33,
   "metadata": {},
   "outputs": [],
   "source": [
    "# new_tensor = torch.cat((start_frames, torch.unsqueeze(y_latent, 0)), dim=1)"
   ]
  },
  {
   "cell_type": "code",
   "execution_count": 34,
   "metadata": {},
   "outputs": [
    {
     "data": {
      "image/png": "[encoded data removed]",
      "text/plain": [
       "<Figure size 432x288 with 10 Axes>"
      ]
     },
     "metadata": {
      "needs_background": "light"
     },
     "output_type": "display_data"
    }
   ],
   "source": [
    "for i in range(10):\n",
    "    plt.subplot(1, 10, i+1)\n",
    "    plt.imshow(start_frames[i].cpu().view(128, 128), cmap=\"gray\")"
   ]
  },
  {
   "cell_type": "code",
   "execution_count": null,
   "metadata": {},
   "outputs": [],
   "source": []
  },
  {
   "cell_type": "code",
   "execution_count": null,
   "metadata": {},
   "outputs": [],
   "source": []
  },
  {
   "cell_type": "code",
   "execution_count": null,
   "metadata": {},
   "outputs": [],
   "source": []
  },
  {
   "cell_type": "code",
   "execution_count": 35,
   "metadata": {},
   "outputs": [],
   "source": [
    "import torchvision.transforms.functional as F"
   ]
  },
  {
   "cell_type": "code",
   "execution_count": 36,
   "metadata": {},
   "outputs": [],
   "source": [
    "i = 0\n",
    "while i < start_frames.shape[0]-1:\n",
    "    predicted_images = start_frames.cpu()\n",
    "    image = predicted_images[i]\n",
    "    image = F.to_pil_image(image)\n",
    "    image.save(f'generated/vae_lstm/predicted_{i}.png')\n",
    "    i += 1"
   ]
  },
  {
   "cell_type": "code",
   "execution_count": 37,
   "metadata": {},
   "outputs": [],
   "source": [
    "Images2Video('generated/vae_lstm/', 'generated/vae_lstm/output.avi', (128, 128))"
   ]
  },
  {
   "cell_type": "code",
   "execution_count": null,
   "metadata": {},
   "outputs": [],
   "source": []
  }
 ],
 "metadata": {
  "kernelspec": {
   "display_name": "Python 3",
   "language": "python",
   "name": "python3"
  },
  "language_info": {
   "codemirror_mode": {
    "name": "ipython",
    "version": 3
   },
   "file_extension": ".py",
   "mimetype": "text/x-python",
   "name": "python",
   "nbconvert_exporter": "python",
   "pygments_lexer": "ipython3",
   "version": "3.7.9"
  }
 },
 "nbformat": 4,
 "nbformat_minor": 4
}
