{
 "cells": [
  {
   "cell_type": "code",
   "execution_count": 1,
   "metadata": {},
   "outputs": [],
   "source": [
    "import os\n",
    "import torch\n",
    "import torch.nn as nn\n",
    "import torch.nn.functional as F\n",
    "from torch.autograd import Variable\n",
    "\n",
    "import torchvision\n",
    "from torchvision import datasets\n",
    "from torchvision import transforms\n",
    "from torchvision.utils import save_image\n",
    "# from torchsummary import summary\n",
    "\n",
    "# from pushover import notify\n",
    "# from utils import makegif\n",
    "from random import randint\n",
    "\n",
    "from IPython.display import Image\n",
    "from IPython.core.display import Image, display\n",
    "\n",
    "from torch.utils.data import Dataset, DataLoader\n",
    "import torchvision.transforms as transforms\n",
    "from PIL import Image\n",
    "import matplotlib.pyplot as plt\n",
    "# import torch.nn.functional as F\n",
    "# import torchvision.transforms.functional as F"
   ]
  },
  {
   "cell_type": "code",
   "execution_count": 2,
   "metadata": {},
   "outputs": [],
   "source": [
    "# latent_dims = 2\n",
    "num_epochs = 100\n",
    "batch_size = 32\n",
    "learning_rate = 1e-4\n",
    "variational_beta = 1\n",
    "use_gpu = True"
   ]
  },
  {
   "cell_type": "code",
   "execution_count": 3,
   "metadata": {},
   "outputs": [],
   "source": [
    "def getListOfFiles(dirName):\n",
    "    # create a list of file and sub directories \n",
    "    # names in the given directory \n",
    "    listOfFile = os.listdir(dirName)\n",
    "    allFiles = list()\n",
    "    # Iterate over all the entries\n",
    "    for entry in listOfFile:\n",
    "        # Create full path\n",
    "        fullPath = os.path.join(dirName, entry)\n",
    "        # If entry is a directory then get the list of files in this directory \n",
    "        if os.path.isdir(fullPath):\n",
    "            allFiles = allFiles + getListOfFiles(fullPath)\n",
    "        else:\n",
    "            allFiles.append(fullPath)\n",
    "                \n",
    "    return allFiles"
   ]
  },
  {
   "cell_type": "code",
   "execution_count": 4,
   "metadata": {},
   "outputs": [],
   "source": [
    "device = torch.device(\"cuda:0\" if use_gpu and torch.cuda.is_available() else \"cpu\")"
   ]
  },
  {
   "cell_type": "code",
   "execution_count": 5,
   "metadata": {},
   "outputs": [],
   "source": [
    "image_path = '/media/hitsuji/Back/Dance Data/Skeleton/Advanced/'"
   ]
  },
  {
   "cell_type": "code",
   "execution_count": 6,
   "metadata": {},
   "outputs": [],
   "source": [
    "composed_transform = torchvision.transforms.Compose([transforms.Resize(128), transforms.Grayscale(num_output_channels=1), transforms.ToTensor()])"
   ]
  },
  {
   "cell_type": "code",
   "execution_count": 7,
   "metadata": {},
   "outputs": [],
   "source": [
    "class DanceFrameDataset(Dataset):\n",
    "    def __init__(self, image_path, transforms):\n",
    "        self.transforms = transforms\n",
    "        self.image_path = image_path\n",
    "        self.image_names = getListOfFiles(self.image_path)\n",
    "    def __len__ (self):\n",
    "        return len(self.image_names)\n",
    "    def __getitem__(self, idx):\n",
    "        image_location = self.image_names[idx]\n",
    "        image = Image.open(image_location)\n",
    "        image = self.transforms(image)\n",
    "        return (image > 0.5).float()"
   ]
  },
  {
   "cell_type": "code",
   "execution_count": 8,
   "metadata": {},
   "outputs": [],
   "source": [
    "frame_dataset = DanceFrameDataset(image_path, composed_transform)"
   ]
  },
  {
   "cell_type": "code",
   "execution_count": 9,
   "metadata": {},
   "outputs": [],
   "source": [
    "frame_loader = DataLoader(dataset=frame_dataset, batch_size=batch_size, shuffle=True, drop_last=True)"
   ]
  },
  {
   "cell_type": "code",
   "execution_count": 10,
   "metadata": {},
   "outputs": [
    {
     "data": {
      "image/png": "[encoded data removed]",
      "text/plain": [
       "<Figure size 432x288 with 4 Axes>"
      ]
     },
     "metadata": {
      "needs_background": "light"
     },
     "output_type": "display_data"
    }
   ],
   "source": [
    "frames = next(iter(frame_loader))\n",
    "for i in range(4):\n",
    "    plt.subplot(2, 3, i+1)\n",
    "    plt.imshow(frames[i].view(128, 128), cmap=\"gray\")"
   ]
  },
  {
   "cell_type": "code",
   "execution_count": 11,
   "metadata": {},
   "outputs": [],
   "source": [
    "class Encoder(nn.Module):\n",
    "    def __init__(self):\n",
    "        super(Encoder, self).__init__()\n",
    "        \n",
    "        self.conv_1 = nn.Conv2d(1, 2, kernel_size=4, stride=2, padding=1)\n",
    "        self.conv_2 = nn.Conv2d(2, 4, kernel_size=4, stride=2, padding=1)\n",
    "        self.conv_3 = nn.Conv2d(4, 8, kernel_size=4, stride=2, padding=1)\n",
    "        self.conv_4 = nn.Conv2d(8, 16, kernel_size=4, stride=2, padding=1)\n",
    "\n",
    "        self.pool = nn.MaxPool2d(2, 2)\n",
    "    \n",
    "        self.fc_mu = nn.Linear(in_features=16 * 8 * 8, out_features=784)\n",
    "        self.fc_logvar = nn.Linear(in_features=16 * 8 * 8, out_features=784)\n",
    "        \n",
    "        \n",
    "    def forward(self, x):\n",
    "        # b, 1, 128, 128\n",
    "        x = self.conv_1(x)\n",
    "        # b, 2, 64, 64\n",
    "        x = self.conv_2(x)\n",
    "        # b, 4, 32, 32\n",
    "        x = self.conv_3(x)\n",
    "        # b, 8, 16, 16\n",
    "        x = self.conv_4(x)\n",
    "        # b, 16, 8, 8\n",
    "        \n",
    "        x = torch.flatten(x, start_dim=1)\n",
    "        # b, 1024\n",
    "        x_mu = self.fc_mu(x)\n",
    "        x_logvar = self.fc_logvar(x)\n",
    "        \n",
    "        return x_mu, x_logvar"
   ]
  },
  {
   "cell_type": "code",
   "execution_count": 12,
   "metadata": {},
   "outputs": [],
   "source": [
    "class Decoder(nn.Module):\n",
    "    def __init__(self):\n",
    "        super(Decoder, self).__init__()\n",
    "        self.conv_trans_1 = nn.ConvTranspose2d(16, 8, kernel_size=4, stride=2, padding=1)\n",
    "        self.conv_trans_2 = nn.ConvTranspose2d(8, 4, kernel_size=4, stride=2, padding=1)\n",
    "        self.conv_trans_3 = nn.ConvTranspose2d(4, 2, kernel_size=4, stride=2, padding=1)\n",
    "        self.conv_trans_4 = nn.ConvTranspose2d(2, 1, kernel_size=4, stride=2, padding=1)\n",
    "        \n",
    "        self.linear = nn.Linear(784, 16 * 8 * 8)\n",
    "#         self.conv_trans_5 = nn.ConvTranspose2d(2, 1, kernel_size=4, stride=2, padding=1)\n",
    "        \n",
    "        self.sigmoid = nn.Sigmoid()\n",
    "    def forward(self, x):\n",
    "        # b, 36\n",
    "        x = self.linear(x)\n",
    "        # b, 144\n",
    "        x = x.view(x.shape[0], 16, 8, 8)\n",
    "        # b, 16, 8, 8\n",
    "        x = self.conv_trans_1(x)\n",
    "        # b, 8, 16, 16\n",
    "        x = self.conv_trans_2(x)\n",
    "        # b, 4, 32, 32\n",
    "        x = self.conv_trans_3(x)\n",
    "        # b, 2, 64, 64\n",
    "        x = self.conv_trans_4(x)\n",
    "        # b, 1, 128, 128\n",
    "        x = self.sigmoid(x)\n",
    "        return x\n",
    "    "
   ]
  },
  {
   "cell_type": "code",
   "execution_count": 13,
   "metadata": {},
   "outputs": [],
   "source": [
    "class VariationalAutoencoder(nn.Module):\n",
    "    def __init__(self):\n",
    "        super(VariationalAutoencoder, self).__init__()\n",
    "        self.encoder = Encoder()\n",
    "        self.decoder = Decoder()\n",
    "    \n",
    "    def forward(self, x):\n",
    "        latent_mu, latent_logvar = self.encoder(x)\n",
    "        latent = self.latent_sample(latent_mu, latent_logvar)\n",
    "        x_recon = self.decoder(latent)\n",
    "        return x_recon, latent_mu, latent_logvar\n",
    "    \n",
    "    def latent_sample(self, mu, logvar):\n",
    "        if self.training:\n",
    "            # the reparameterization trick\n",
    "            std = logvar.mul(0.5).exp_()\n",
    "            eps = torch.empty_like(std).normal_()\n",
    "            return eps.mul(std).add_(mu)\n",
    "        else:\n",
    "            return mu"
   ]
  },
  {
   "cell_type": "code",
   "execution_count": 14,
   "metadata": {},
   "outputs": [],
   "source": [
    "vae = VariationalAutoencoder().to(device)"
   ]
  },
  {
   "cell_type": "code",
   "execution_count": 15,
   "metadata": {},
   "outputs": [],
   "source": [
    "optimizer = torch.optim.Adam(vae.parameters(), lr=learning_rate)"
   ]
  },
  {
   "cell_type": "code",
   "execution_count": 16,
   "metadata": {},
   "outputs": [],
   "source": [
    "def vae_loss(recon_x, x, mu, logvar):\n",
    "    # recon_x is the probability of a multivariate Bernoulli distribution p.\n",
    "    # -log(p(x)) is then the pixel-wise binary cross-entropy.\n",
    "    # Averaging or not averaging the binary cross-entropy over all pixels here\n",
    "    # is a subtle detail with big effect on training, since it changes the weight\n",
    "    # we need to pick for the other loss term by several orders of magnitude.\n",
    "    # Not averaging is the direct implementation of the negative log likelihood,\n",
    "    # but averaging makes the weight of the other loss term independent of the image resolution.\n",
    "    recon_loss = F.binary_cross_entropy(recon_x.view(-1, 256), x.view(-1, 256), reduction='sum')\n",
    "    \n",
    "    # KL-divergence between the prior distribution over latent vectors\n",
    "    # (the one we are going to sample from when generating new images)\n",
    "    # and the distribution estimated by the generator for the given image.\n",
    "    kldivergence = -0.5 * torch.sum(1 + logvar - mu.pow(2) - logvar.exp())\n",
    "    \n",
    "    return recon_loss + variational_beta * kldivergence"
   ]
  },
  {
   "cell_type": "code",
   "execution_count": 17,
   "metadata": {},
   "outputs": [],
   "source": [
    "vae = VariationalAutoencoder().to(device)"
   ]
  },
  {
   "cell_type": "code",
   "execution_count": 18,
   "metadata": {},
   "outputs": [],
   "source": [
    "optimizer = torch.optim.Adam(params=vae.parameters(), lr=learning_rate, weight_decay=1e-3)\n",
    "scheduler = torch.optim.lr_scheduler.ReduceLROnPlateau(optimizer, patience=5, verbose=True)"
   ]
  },
  {
   "cell_type": "code",
   "execution_count": 19,
   "metadata": {},
   "outputs": [],
   "source": [
    "loss_hist = []"
   ]
  },
  {
   "cell_type": "code",
   "execution_count": 20,
   "metadata": {},
   "outputs": [],
   "source": [
    "def save_checkpoint (state, file_name=\"vae_conv.pth.tar\"):\n",
    "    print('Saving Checkpoint')\n",
    "    torch.save(state, file_name)\n",
    "def load_checkpoint (checkpoint):\n",
    "    print('Loading Checkpoint')\n",
    "    vae.load_state_dict(checkpoint['state_dict'])\n",
    "#     optimizer.load_state_dict(checkpoint['optimizer'])"
   ]
  },
  {
   "cell_type": "code",
   "execution_count": 21,
   "metadata": {},
   "outputs": [],
   "source": [
    "load_model = True"
   ]
  },
  {
   "cell_type": "code",
   "execution_count": 22,
   "metadata": {},
   "outputs": [
    {
     "name": "stdout",
     "output_type": "stream",
     "text": [
      "Loading Checkpoint\n"
     ]
    }
   ],
   "source": [
    "if load_model:\n",
    "    load_checkpoint(torch.load('vae_conv.pth.tar'))"
   ]
  },
  {
   "cell_type": "code",
   "execution_count": 23,
   "metadata": {},
   "outputs": [
    {
     "name": "stdout",
     "output_type": "stream",
     "text": [
      "Saving Checkpoint\n",
      "Epoch [0/100] Batch 0/19 Loss: 14146.5049\n",
      "Epoch [0/100] Loss: 14058.7686\n",
      "Saving Checkpoint\n",
      "Epoch [1/100] Batch 0/19 Loss: 13810.3604\n",
      "Epoch [1/100] Loss: 13889.0371\n",
      "Saving Checkpoint\n",
      "Epoch [2/100] Batch 0/19 Loss: 14088.0215\n",
      "Epoch [2/100] Loss: 14051.7217\n",
      "Saving Checkpoint\n",
      "Epoch [3/100] Batch 0/19 Loss: 14078.4424\n",
      "Epoch [3/100] Loss: 14009.3066\n",
      "Saving Checkpoint\n",
      "Epoch [4/100] Batch 0/19 Loss: 13901.4111\n",
      "Epoch [4/100] Loss: 13726.6738\n",
      "Saving Checkpoint\n",
      "Epoch [5/100] Batch 0/19 Loss: 13580.1719\n",
      "Epoch [5/100] Loss: 13846.0215\n",
      "Saving Checkpoint\n",
      "Epoch [6/100] Batch 0/19 Loss: 13736.0820\n",
      "Epoch [6/100] Loss: 14124.6504\n",
      "Saving Checkpoint\n",
      "Epoch [7/100] Batch 0/19 Loss: 13151.4980\n",
      "Epoch [7/100] Loss: 13729.2324\n",
      "Saving Checkpoint\n",
      "Epoch [8/100] Batch 0/19 Loss: 14556.4014\n",
      "Epoch [8/100] Loss: 13611.4404\n",
      "Saving Checkpoint\n",
      "Epoch [9/100] Batch 0/19 Loss: 14159.7793\n",
      "Epoch [9/100] Loss: 14080.6816\n",
      "Saving Checkpoint\n",
      "Epoch [10/100] Batch 0/19 Loss: 14293.0254\n",
      "Epoch [10/100] Loss: 14538.1875\n",
      "Saving Checkpoint\n",
      "Epoch [11/100] Batch 0/19 Loss: 13806.0488\n",
      "Epoch [11/100] Loss: 13716.4658\n",
      "Saving Checkpoint\n",
      "Epoch [12/100] Batch 0/19 Loss: 13867.4746\n",
      "Epoch [12/100] Loss: 13714.8369\n",
      "Saving Checkpoint\n",
      "Epoch [13/100] Batch 0/19 Loss: 14316.3809\n",
      "Epoch [13/100] Loss: 14235.4033\n",
      "Saving Checkpoint\n",
      "Epoch [14/100] Batch 0/19 Loss: 13204.1152\n",
      "Epoch [14/100] Loss: 13888.8223\n",
      "Saving Checkpoint\n",
      "Epoch [15/100] Batch 0/19 Loss: 13417.4883\n",
      "Epoch [15/100] Loss: 13812.4336\n",
      "Saving Checkpoint\n",
      "Epoch [16/100] Batch 0/19 Loss: 13922.3916\n",
      "Epoch [16/100] Loss: 14360.0996\n",
      "Saving Checkpoint\n",
      "Epoch [17/100] Batch 0/19 Loss: 13672.7930\n",
      "Epoch [17/100] Loss: 14202.3115\n",
      "Saving Checkpoint\n",
      "Epoch [18/100] Batch 0/19 Loss: 14369.9600\n",
      "Epoch [18/100] Loss: 13439.5195\n",
      "Saving Checkpoint\n",
      "Epoch [19/100] Batch 0/19 Loss: 14196.5908\n",
      "Epoch [19/100] Loss: 13622.7324\n",
      "Saving Checkpoint\n",
      "Epoch [20/100] Batch 0/19 Loss: 13331.5918\n",
      "Epoch [20/100] Loss: 13785.9668\n",
      "Saving Checkpoint\n",
      "Epoch [21/100] Batch 0/19 Loss: 13789.6016\n",
      "Epoch [21/100] Loss: 14293.8125\n",
      "Saving Checkpoint\n",
      "Epoch [22/100] Batch 0/19 Loss: 14126.9707\n",
      "Epoch [22/100] Loss: 13677.8379\n",
      "Saving Checkpoint\n",
      "Epoch [23/100] Batch 0/19 Loss: 14578.3164\n",
      "Epoch [23/100] Loss: 13828.5859\n",
      "Saving Checkpoint\n",
      "Epoch [24/100] Batch 0/19 Loss: 13667.3027\n",
      "Epoch [24/100] Loss: 14106.2354\n",
      "Saving Checkpoint\n",
      "Epoch [25/100] Batch 0/19 Loss: 13400.2559\n",
      "Epoch [25/100] Loss: 13953.9355\n",
      "Saving Checkpoint\n",
      "Epoch [26/100] Batch 0/19 Loss: 13699.4395\n",
      "Epoch [26/100] Loss: 13757.1328\n",
      "Saving Checkpoint\n",
      "Epoch [27/100] Batch 0/19 Loss: 14164.9756\n",
      "Epoch [27/100] Loss: 13205.5527\n",
      "Saving Checkpoint\n",
      "Epoch [28/100] Batch 0/19 Loss: 14205.8232\n",
      "Epoch    29: reducing learning rate of group 0 to 1.0000e-05.\n",
      "Epoch [28/100] Loss: 13961.2500\n",
      "Saving Checkpoint\n",
      "Epoch [29/100] Batch 0/19 Loss: 13182.2891\n",
      "Epoch [29/100] Loss: 13325.5928\n",
      "Saving Checkpoint\n",
      "Epoch [30/100] Batch 0/19 Loss: 13227.7031\n",
      "Epoch [30/100] Loss: 13991.1104\n",
      "Saving Checkpoint\n",
      "Epoch [31/100] Batch 0/19 Loss: 13586.2451\n",
      "Epoch [31/100] Loss: 13332.7188\n",
      "Saving Checkpoint\n",
      "Epoch [32/100] Batch 0/19 Loss: 13615.8535\n",
      "Epoch [32/100] Loss: 13708.8799\n",
      "Saving Checkpoint\n",
      "Epoch [33/100] Batch 0/19 Loss: 13362.9873\n",
      "Epoch [33/100] Loss: 13053.3750\n",
      "Saving Checkpoint\n",
      "Epoch [34/100] Batch 0/19 Loss: 13548.8877\n",
      "Epoch [34/100] Loss: 13298.9756\n",
      "Saving Checkpoint\n",
      "Epoch [35/100] Batch 0/19 Loss: 13621.4258\n",
      "Epoch [35/100] Loss: 13692.5371\n",
      "Saving Checkpoint\n",
      "Epoch [36/100] Batch 0/19 Loss: 13623.4727\n",
      "Epoch [36/100] Loss: 13645.3398\n",
      "Saving Checkpoint\n",
      "Epoch [37/100] Batch 0/19 Loss: 13087.5557\n",
      "Epoch [37/100] Loss: 14556.4258\n",
      "Saving Checkpoint\n",
      "Epoch [38/100] Batch 0/19 Loss: 13998.5273\n",
      "Epoch [38/100] Loss: 13610.0635\n",
      "Saving Checkpoint\n",
      "Epoch [39/100] Batch 0/19 Loss: 13676.6426\n",
      "Epoch [39/100] Loss: 13335.4902\n",
      "Saving Checkpoint\n",
      "Epoch [40/100] Batch 0/19 Loss: 13348.9434\n",
      "Epoch [40/100] Loss: 14165.2734\n",
      "Saving Checkpoint\n",
      "Epoch [41/100] Batch 0/19 Loss: 13929.8105\n",
      "Epoch [41/100] Loss: 13483.7891\n",
      "Saving Checkpoint\n",
      "Epoch [42/100] Batch 0/19 Loss: 13601.3037\n",
      "Epoch [42/100] Loss: 13810.9004\n",
      "Saving Checkpoint\n",
      "Epoch [43/100] Batch 0/19 Loss: 14072.4844\n",
      "Epoch [43/100] Loss: 13205.0547\n",
      "Saving Checkpoint\n",
      "Epoch [44/100] Batch 0/19 Loss: 13736.5371\n",
      "Epoch [44/100] Loss: 13779.4209\n",
      "Saving Checkpoint\n",
      "Epoch [45/100] Batch 0/19 Loss: 13505.8164\n",
      "Epoch [45/100] Loss: 13671.4219\n",
      "Saving Checkpoint\n",
      "Epoch [46/100] Batch 0/19 Loss: 14040.9453\n",
      "Epoch [46/100] Loss: 13172.4697\n",
      "Saving Checkpoint\n",
      "Epoch [47/100] Batch 0/19 Loss: 13764.6113\n",
      "Epoch [47/100] Loss: 13598.9023\n",
      "Saving Checkpoint\n",
      "Epoch [48/100] Batch 0/19 Loss: 13649.8086\n",
      "Epoch [48/100] Loss: 13466.0020\n",
      "Saving Checkpoint\n",
      "Epoch [49/100] Batch 0/19 Loss: 14180.9482\n",
      "Epoch [49/100] Loss: 14568.7021\n",
      "Saving Checkpoint\n",
      "Epoch [50/100] Batch 0/19 Loss: 13897.1348\n",
      "Epoch [50/100] Loss: 13735.3750\n",
      "Saving Checkpoint\n",
      "Epoch [51/100] Batch 0/19 Loss: 13615.8633\n",
      "Epoch [51/100] Loss: 13488.3965\n",
      "Saving Checkpoint\n",
      "Epoch [52/100] Batch 0/19 Loss: 13812.5488\n",
      "Epoch [52/100] Loss: 13502.8184\n",
      "Saving Checkpoint\n",
      "Epoch [53/100] Batch 0/19 Loss: 13694.4980\n",
      "Epoch [53/100] Loss: 13855.8770\n",
      "Saving Checkpoint\n",
      "Epoch [54/100] Batch 0/19 Loss: 13775.3018\n",
      "Epoch [54/100] Loss: 13161.2686\n",
      "Saving Checkpoint\n",
      "Epoch [55/100] Batch 0/19 Loss: 13783.2588\n",
      "Epoch [55/100] Loss: 14056.4785\n",
      "Saving Checkpoint\n",
      "Epoch [56/100] Batch 0/19 Loss: 13538.8213\n",
      "Epoch [56/100] Loss: 13994.5811\n",
      "Saving Checkpoint\n",
      "Epoch [57/100] Batch 0/19 Loss: 13476.3574\n",
      "Epoch [57/100] Loss: 14072.8184\n",
      "Saving Checkpoint\n",
      "Epoch [58/100] Batch 0/19 Loss: 13630.8760\n",
      "Epoch [58/100] Loss: 13562.4814\n",
      "Saving Checkpoint\n",
      "Epoch [59/100] Batch 0/19 Loss: 13930.0186\n",
      "Epoch [59/100] Loss: 13067.7051\n",
      "Saving Checkpoint\n",
      "Epoch [60/100] Batch 0/19 Loss: 13620.7490\n",
      "Epoch [60/100] Loss: 12916.2949\n",
      "Saving Checkpoint\n",
      "Epoch [61/100] Batch 0/19 Loss: 13839.5527\n",
      "Epoch [61/100] Loss: 13476.5830\n",
      "Saving Checkpoint\n",
      "Epoch [62/100] Batch 0/19 Loss: 13327.0723\n",
      "Epoch [62/100] Loss: 13932.0176\n",
      "Saving Checkpoint\n",
      "Epoch [63/100] Batch 0/19 Loss: 13757.6309\n",
      "Epoch [63/100] Loss: 13648.7354\n",
      "Saving Checkpoint\n",
      "Epoch [64/100] Batch 0/19 Loss: 13862.9883\n",
      "Epoch [64/100] Loss: 13648.6279\n",
      "Saving Checkpoint\n",
      "Epoch [65/100] Batch 0/19 Loss: 13798.8369\n",
      "Epoch [65/100] Loss: 13868.1299\n",
      "Saving Checkpoint\n",
      "Epoch [66/100] Batch 0/19 Loss: 13427.9502\n",
      "Epoch [66/100] Loss: 13602.7617\n",
      "Saving Checkpoint\n",
      "Epoch [67/100] Batch 0/19 Loss: 13250.8848\n",
      "Epoch [67/100] Loss: 13779.2334\n",
      "Saving Checkpoint\n",
      "Epoch [68/100] Batch 0/19 Loss: 14053.7734\n",
      "Epoch [68/100] Loss: 13424.9395\n",
      "Saving Checkpoint\n",
      "Epoch [69/100] Batch 0/19 Loss: 13646.3389\n",
      "Epoch [69/100] Loss: 13468.8457\n",
      "Saving Checkpoint\n",
      "Epoch [70/100] Batch 0/19 Loss: 13580.7910\n",
      "Epoch [70/100] Loss: 13563.8965\n",
      "Saving Checkpoint\n",
      "Epoch [71/100] Batch 0/19 Loss: 13661.1934\n",
      "Epoch [71/100] Loss: 13519.5391\n",
      "Saving Checkpoint\n",
      "Epoch [72/100] Batch 0/19 Loss: 13079.2119\n",
      "Epoch [72/100] Loss: 13458.6270\n",
      "Saving Checkpoint\n",
      "Epoch [73/100] Batch 0/19 Loss: 14229.6914\n",
      "Epoch [73/100] Loss: 14008.5664\n",
      "Saving Checkpoint\n",
      "Epoch [74/100] Batch 0/19 Loss: 13940.3789\n",
      "Epoch [74/100] Loss: 13722.5596\n",
      "Saving Checkpoint\n",
      "Epoch [75/100] Batch 0/19 Loss: 14232.4121\n",
      "Epoch [75/100] Loss: 13110.1201\n",
      "Saving Checkpoint\n",
      "Epoch [76/100] Batch 0/19 Loss: 13708.5488\n",
      "Epoch [76/100] Loss: 13644.1250\n",
      "Saving Checkpoint\n",
      "Epoch [77/100] Batch 0/19 Loss: 13949.5488\n",
      "Epoch [77/100] Loss: 13752.7637\n",
      "Saving Checkpoint\n",
      "Epoch [78/100] Batch 0/19 Loss: 16984.3477\n",
      "Epoch [78/100] Loss: 13794.2617\n",
      "Saving Checkpoint\n",
      "Epoch [79/100] Batch 0/19 Loss: 13700.3555\n",
      "Epoch [79/100] Loss: 13387.1348\n",
      "Saving Checkpoint\n",
      "Epoch [80/100] Batch 0/19 Loss: 13740.1084\n",
      "Epoch [80/100] Loss: 13673.0312\n",
      "Saving Checkpoint\n",
      "Epoch [81/100] Batch 0/19 Loss: 12653.7090\n",
      "Epoch [81/100] Loss: 13354.5654\n",
      "Saving Checkpoint\n",
      "Epoch [82/100] Batch 0/19 Loss: 13580.2139\n",
      "Epoch [82/100] Loss: 13712.0176\n",
      "Saving Checkpoint\n",
      "Epoch [83/100] Batch 0/19 Loss: 13684.1387\n",
      "Epoch [83/100] Loss: 14076.4238\n",
      "Saving Checkpoint\n",
      "Epoch [84/100] Batch 0/19 Loss: 13349.3457\n"
     ]
    },
    {
     "ename": "KeyboardInterrupt",
     "evalue": "",
     "output_type": "error",
     "traceback": [
      "\u001b[0;31m---------------------------------------------------------------------------\u001b[0m",
      "\u001b[0;31mKeyboardInterrupt\u001b[0m                         Traceback (most recent call last)",
      "\u001b[0;32m<ipython-input-23-8b7ff56b5d82>\u001b[0m in \u001b[0;36m<module>\u001b[0;34m\u001b[0m\n\u001b[1;32m     25\u001b[0m \u001b[0;34m\u001b[0m\u001b[0m\n\u001b[1;32m     26\u001b[0m \u001b[0;31m#         num_batches += 1\u001b[0m\u001b[0;34m\u001b[0m\u001b[0;34m\u001b[0m\u001b[0;34m\u001b[0m\u001b[0m\n\u001b[0;32m---> 27\u001b[0;31m         \u001b[0mloss_hist\u001b[0m\u001b[0;34m.\u001b[0m\u001b[0mappend\u001b[0m\u001b[0;34m(\u001b[0m\u001b[0mloss\u001b[0m\u001b[0;34m.\u001b[0m\u001b[0mitem\u001b[0m\u001b[0;34m(\u001b[0m\u001b[0;34m)\u001b[0m\u001b[0;34m)\u001b[0m\u001b[0;34m\u001b[0m\u001b[0;34m\u001b[0m\u001b[0m\n\u001b[0m\u001b[1;32m     28\u001b[0m         \u001b[0;32mif\u001b[0m \u001b[0midx\u001b[0m \u001b[0;34m%\u001b[0m \u001b[0;36m100\u001b[0m \u001b[0;34m==\u001b[0m \u001b[0;36m0\u001b[0m\u001b[0;34m:\u001b[0m\u001b[0;34m\u001b[0m\u001b[0;34m\u001b[0m\u001b[0m\n\u001b[1;32m     29\u001b[0m             \u001b[0mprint\u001b[0m\u001b[0;34m(\u001b[0m\u001b[0;34mf\"Epoch [{epoch}/{num_epochs}] Batch {idx}/{len(frame_loader)} Loss: {loss:.4f}\"\u001b[0m\u001b[0;34m)\u001b[0m\u001b[0;34m\u001b[0m\u001b[0;34m\u001b[0m\u001b[0m\n",
      "\u001b[0;31mKeyboardInterrupt\u001b[0m: "
     ]
    }
   ],
   "source": [
    "vae.train()\n",
    "\n",
    "for epoch in range(1000):\n",
    "    checkpoint = {'state_dict': vae.state_dict()}\n",
    "    save_checkpoint(checkpoint)\n",
    "#     train_loss_avg.append(0)\n",
    "#     num_batches = 0\n",
    "    for idx, (image_batch) in enumerate(frame_loader):\n",
    "        optimizer.zero_grad()\n",
    "        \n",
    "        image_batch = image_batch.to(device)\n",
    "\n",
    "        # vae reconstruction\n",
    "        image_batch_recon, latent_mu, latent_logvar = vae(image_batch)\n",
    "        \n",
    "        # reconstruction error\n",
    "        loss = vae_loss(image_batch_recon, image_batch, latent_mu, latent_logvar)\n",
    "        \n",
    "        # backpropagation\n",
    "        loss.backward()\n",
    "        \n",
    "        # one step of the optmizer (using the gradients from backpropagation)\n",
    "        optimizer.step()\n",
    "\n",
    "        \n",
    "#         num_batches += 1\n",
    "        loss_hist.append(loss.item())\n",
    "        if idx % 100 == 0:    \n",
    "            print(f\"Epoch [{epoch}/{num_epochs}] Batch {idx}/{len(frame_loader)} Loss: {loss:.4f}\")\n",
    "    \n",
    "    mean_loss = sum(loss_hist)/len(loss_hist)\n",
    "    scheduler.step(mean_loss)\n",
    "    print(f\"Epoch [{epoch}/{num_epochs}] Loss: {loss:.4f}\")\n",
    "\n"
   ]
  },
  {
   "cell_type": "code",
   "execution_count": 57,
   "metadata": {},
   "outputs": [],
   "source": [
    "torch.save(vae.state_dict(), 'vae_conv.pth')"
   ]
  },
  {
   "cell_type": "code",
   "execution_count": null,
   "metadata": {},
   "outputs": [],
   "source": []
  },
  {
   "cell_type": "code",
   "execution_count": 24,
   "metadata": {},
   "outputs": [
    {
     "data": {
      "image/png": "[encoded data removed]",
      "text/plain": [
       "<Figure size 432x288 with 1 Axes>"
      ]
     },
     "metadata": {
      "needs_background": "light"
     },
     "output_type": "display_data"
    }
   ],
   "source": [
    "plt.plot(loss_hist, label=\"Training loss\")\n",
    "plt.legend()\n",
    "plt.show()"
   ]
  },
  {
   "cell_type": "code",
   "execution_count": 25,
   "metadata": {},
   "outputs": [
    {
     "data": {
      "image/png": "[encoded data removed]",
      "text/plain": [
       "<Figure size 432x288 with 1 Axes>"
      ]
     },
     "metadata": {
      "needs_background": "light"
     },
     "output_type": "display_data"
    }
   ],
   "source": [
    "vae.eval()\n",
    "\n",
    "with torch.no_grad():\n",
    "    img = frames\n",
    "    decoded, _, _ = vae(img.to(device))\n",
    "    plt.imshow(decoded[10].cpu().view(128, 128), cmap=\"gray\")"
   ]
  },
  {
   "cell_type": "code",
   "execution_count": null,
   "metadata": {},
   "outputs": [],
   "source": []
  },
  {
   "cell_type": "code",
   "execution_count": 26,
   "metadata": {},
   "outputs": [
    {
     "data": {
      "text/plain": [
       "<matplotlib.image.AxesImage at 0x7f211ec1ef10>"
      ]
     },
     "execution_count": 26,
     "metadata": {},
     "output_type": "execute_result"
    },
    {
     "data": {
      "image/png": "[encoded data removed]",
      "text/plain": [
       "<Figure size 432x288 with 1 Axes>"
      ]
     },
     "metadata": {
      "needs_background": "light"
     },
     "output_type": "display_data"
    }
   ],
   "source": [
    "plt.imshow(img[10].cpu().view(128, 128), cmap=\"gray\")"
   ]
  },
  {
   "cell_type": "code",
   "execution_count": 27,
   "metadata": {},
   "outputs": [
    {
     "name": "stdout",
     "output_type": "stream",
     "text": [
      "Original images\n"
     ]
    },
    {
     "data": {
      "image/png": "[encoded data removed]",
      "text/plain": [
       "<Figure size 432x288 with 1 Axes>"
      ]
     },
     "metadata": {
      "needs_background": "light"
     },
     "output_type": "display_data"
    },
    {
     "name": "stdout",
     "output_type": "stream",
     "text": [
      "VAE reconstruction:\n"
     ]
    },
    {
     "data": {
      "image/png": "[encoded data removed]",
      "text/plain": [
       "<Figure size 432x288 with 1 Axes>"
      ]
     },
     "metadata": {
      "needs_background": "light"
     },
     "output_type": "display_data"
    }
   ],
   "source": [
    "import numpy as np\n",
    "import matplotlib.pyplot as plt\n",
    "plt.ion()\n",
    "\n",
    "import torchvision.utils\n",
    "\n",
    "vae.eval()\n",
    "\n",
    "# This function takes as an input the images to reconstruct\n",
    "# and the name of the model with which the reconstructions\n",
    "# are performed\n",
    "def to_img(x):\n",
    "    x = x.clamp(0, 1)\n",
    "    return x\n",
    "\n",
    "def show_image(img):\n",
    "    img = to_img(img)\n",
    "    npimg = img.numpy()\n",
    "    plt.imshow(np.transpose(npimg, (1, 2, 0)))\n",
    "\n",
    "def visualise_output(images, model):\n",
    "\n",
    "    with torch.no_grad():\n",
    "    \n",
    "        images = images.to(device)\n",
    "        images, _, _ = model(images)\n",
    "        images = images.cpu()\n",
    "        images = to_img(images)\n",
    "        np_imagegrid = torchvision.utils.make_grid(images[1:50], 10, 5).numpy()\n",
    "        plt.imshow(np.transpose(np_imagegrid, (1, 2, 0)))\n",
    "        plt.show()\n",
    "\n",
    "images = iter(frame_loader).next()\n",
    "\n",
    "# First visualise the original images\n",
    "print('Original images')\n",
    "show_image(torchvision.utils.make_grid(images[1:50],10,5))\n",
    "plt.show()\n",
    "\n",
    "# Reconstruct and visualise the images using the vae\n",
    "print('VAE reconstruction:')\n",
    "visualise_output(images, vae)"
   ]
  },
  {
   "cell_type": "code",
   "execution_count": 28,
   "metadata": {},
   "outputs": [],
   "source": [
    "frames = next(iter(frame_loader))"
   ]
  },
  {
   "cell_type": "code",
   "execution_count": 33,
   "metadata": {},
   "outputs": [],
   "source": [
    "image_a = torch.unsqueeze(frames[10], 0)\n",
    "image_b = torch.unsqueeze(frames[30], 0)"
   ]
  },
  {
   "cell_type": "code",
   "execution_count": 34,
   "metadata": {},
   "outputs": [
    {
     "data": {
      "text/plain": [
       "torch.Size([1, 1, 128, 128])"
      ]
     },
     "execution_count": 34,
     "metadata": {},
     "output_type": "execute_result"
    }
   ],
   "source": [
    "image_a.shape"
   ]
  },
  {
   "cell_type": "code",
   "execution_count": 35,
   "metadata": {},
   "outputs": [
    {
     "data": {
      "image/png": "[encoded data removed]",
      "text/plain": [
       "<Figure size 432x288 with 9 Axes>"
      ]
     },
     "metadata": {
      "needs_background": "light"
     },
     "output_type": "display_data"
    }
   ],
   "source": [
    "# f, axs = plt.subplots(3, 3, figsize=(5,5)) \n",
    "for i in range(1, 10):\n",
    "    lambda_z = round(0.1 * i, 1)\n",
    "    with torch.no_grad():\n",
    "        image_a, image_b = image_a.to(device, dtype=torch.float), image_b.to(device, dtype=torch.float)\n",
    "        decoded_image = vae.decoder(lambda_z * vae.encoder(image_a)[0] + (1 - lambda_z) * vae.encoder(image_b)[0])\n",
    "        plt.subplot(3, 3, i)\n",
    "        plt.imshow(decoded_image.cpu().view(128, 128), cmap=\"gray\")"
   ]
  },
  {
   "cell_type": "code",
   "execution_count": 32,
   "metadata": {},
   "outputs": [
    {
     "data": {
      "image/png": "[encoded data removed]",
      "text/plain": [
       "<Figure size 432x288 with 1 Axes>"
      ]
     },
     "metadata": {
      "needs_background": "light"
     },
     "output_type": "display_data"
    }
   ],
   "source": [
    "with torch.no_grad():\n",
    "    image_a = image_a.to(device, dtype=torch.float)\n",
    "    enc = vae.encoder(image_a)\n",
    "    plt.imshow(enc[0].cpu().view(28, 28), cmap=\"gray\")"
   ]
  },
  {
   "cell_type": "code",
   "execution_count": null,
   "metadata": {},
   "outputs": [],
   "source": []
  },
  {
   "cell_type": "code",
   "execution_count": null,
   "metadata": {},
   "outputs": [],
   "source": [
    "\n"
   ]
  },
  {
   "cell_type": "code",
   "execution_count": null,
   "metadata": {},
   "outputs": [],
   "source": []
  },
  {
   "cell_type": "code",
   "execution_count": null,
   "metadata": {},
   "outputs": [],
   "source": []
  }
 ],
 "metadata": {
  "kernelspec": {
   "display_name": "Python 3",
   "language": "python",
   "name": "python3"
  },
  "language_info": {
   "codemirror_mode": {
    "name": "ipython",
    "version": 3
   },
   "file_extension": ".py",
   "mimetype": "text/x-python",
   "name": "python",
   "nbconvert_exporter": "python",
   "pygments_lexer": "ipython3",
   "version": "3.7.9"
  }
 },
 "nbformat": 4,
 "nbformat_minor": 4
}
