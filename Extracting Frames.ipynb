{
 "cells": [
  {
   "cell_type": "code",
   "execution_count": 35,
   "metadata": {},
   "outputs": [],
   "source": [
    "import cv2\n",
    "import os\n",
    "import time\n",
    "import numpy as np\n",
    "import matplotlib.pyplot as plt"
   ]
  },
  {
   "cell_type": "code",
   "execution_count": 36,
   "metadata": {},
   "outputs": [],
   "source": [
    "video_data_dir = '/media/hitsuji/Back/Dance Data/Videos/Advanced/'\n",
    "frame_data_dir = '/media/hitsuji/Back/Dance Data/Skeleton/Advanced/'"
   ]
  },
  {
   "cell_type": "code",
   "execution_count": 38,
   "metadata": {},
   "outputs": [],
   "source": [
    "video_groups = ['gLH']"
   ]
  },
  {
   "cell_type": "code",
   "execution_count": 40,
   "metadata": {},
   "outputs": [],
   "source": [
    "MODE = \"MPI\"\n",
    "\n",
    "protoFile = \"pose/mpi/pose_deploy_linevec_faster_4_stages.prototxt\"\n",
    "weightsFile = \"pose/mpi/pose_iter_160000.caffemodel\"\n",
    "nPoints = 15\n",
    "POSE_PAIRS = [[0,1], [1,2], [2,3], [3,4], [1,5], [5,6], [6,7], [1,14], [14,8], [8,9], [9,10], [14,11], [11,12], [12,13] ]"
   ]
  },
  {
   "cell_type": "code",
   "execution_count": 41,
   "metadata": {},
   "outputs": [],
   "source": [
    "inWidth = 256\n",
    "inHeight = 256\n",
    "\n",
    "net = cv2.dnn.readNetFromCaffe(protoFile, weightsFile)"
   ]
  },
  {
   "cell_type": "code",
   "execution_count": 42,
   "metadata": {},
   "outputs": [],
   "source": [
    "def PoseEstimate(frame):\n",
    "    frameCopy = np.copy(frame)\n",
    "    frameWidth = frame.shape[1]\n",
    "    frameHeight = frame.shape[0]\n",
    "    threshold = 0.1\n",
    "    \n",
    "    inpBlob = cv2.dnn.blobFromImage(frame, 1.0 / 255, (inWidth, inHeight),\n",
    "                          (0, 0, 0), swapRB=False, crop=False)\n",
    "\n",
    "    net.setInput(inpBlob)\n",
    "\n",
    "    output = net.forward()\n",
    "    H = output.shape[2]\n",
    "    W = output.shape[3]\n",
    "        \n",
    "    blank_frame = np.zeros((inHeight, inWidth, 3), np.uint8)\n",
    "    \n",
    "    points = []\n",
    "\n",
    "    for i in range(nPoints):\n",
    "        # confidence map of corresponding body's part.\n",
    "        probMap = output[0, i, :, :]\n",
    "\n",
    "        # Find global maxima of the probMap.\n",
    "        minVal, prob, minLoc, point = cv2.minMaxLoc(probMap)\n",
    "\n",
    "        # Scale the point to fit on the original image\n",
    "        x = (frameWidth * point[0]) / W\n",
    "        y = (frameHeight * point[1]) / H\n",
    "\n",
    "        if prob > threshold : \n",
    "            # Add the point to the list if the probability is greater than the threshold\n",
    "            points.append((int(x), int(y)))\n",
    "        else :\n",
    "            points.append(None)\n",
    "\n",
    "    \n",
    "    # Draw Skeleton\n",
    "    for pair in POSE_PAIRS:\n",
    "        partA = pair[0]\n",
    "        partB = pair[1]\n",
    "\n",
    "        if points[partA] and points[partB]:\n",
    "            cv2.line(blank_frame, points[partA], points[partB], (255, 255, 255), 8)\n",
    "\n",
    "    return blank_frame\n",
    "    \n",
    "    "
   ]
  },
  {
   "cell_type": "code",
   "execution_count": 43,
   "metadata": {},
   "outputs": [],
   "source": [
    "x = 650\n",
    "w = 600\n",
    "y = 350\n",
    "h = 600\n",
    "\n",
    "dsize_in = (256, 256)"
   ]
  },
  {
   "cell_type": "code",
   "execution_count": null,
   "metadata": {},
   "outputs": [],
   "source": [
    "for genre in video_groups:\n",
    "    os.mkdir(frame_data_dir + genre)\n",
    "    print(genre)\n",
    "    video_genre_dir = video_data_dir + genre + '/'\n",
    "    video_files = [name for name in \n",
    "                   os.listdir(video_genre_dir) if os.path.isfile(os.path.join(video_genre_dir, name))]\n",
    "    for video_file in video_files:\n",
    "        frame_genre_dir = frame_data_dir + genre + '/'\n",
    "        file_index = video_file.split(\".\")[0]\n",
    "        os.mkdir(frame_genre_dir + file_index)\n",
    "        cap = cv2.VideoCapture(video_genre_dir + video_file)\n",
    "        success, frame = cap.read()\n",
    "        count = 0\n",
    "        while success:\n",
    "            frame = frame[y:y+h, x:x+w]\n",
    "            frame = cv2.resize(frame, dsize_in)\n",
    "            skeleton = PoseEstimate(frame)\n",
    "            skeleton = cv2.cvtColor(skeleton, cv2.COLOR_BGR2GRAY)\n",
    "            if count:\n",
    "                if count % 3 == 0:\n",
    "                    cv2.imwrite(frame_genre_dir + file_index + \"/frame_%d.jpg\" % count, skeleton)\n",
    "            success, frame = cap.read()\n",
    "            count += 1"
   ]
  }
 ],
 "metadata": {
  "kernelspec": {
   "display_name": "Python 3 (ipykernel)",
   "language": "python",
   "name": "python3"
  },
  "language_info": {
   "codemirror_mode": {
    "name": "ipython",
    "version": 3
   },
   "file_extension": ".py",
   "mimetype": "text/x-python",
   "name": "python",
   "nbconvert_exporter": "python",
   "pygments_lexer": "ipython3",
   "version": "3.7.11"
  }
 },
 "nbformat": 4,
 "nbformat_minor": 4
}
