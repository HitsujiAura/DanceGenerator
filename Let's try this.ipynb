{
 "cells": [
  {
   "cell_type": "code",
   "execution_count": 1,
   "metadata": {},
   "outputs": [],
   "source": [
    "import math\n",
    "import os\n",
    "import torch\n",
    "import torch.nn as nn\n",
    "import torch.nn.functional as F\n",
    "from torch.autograd import Variable\n",
    "\n",
    "import random\n",
    "from random import randint\n",
    "\n",
    "import torchvision\n",
    "from torchvision import datasets\n",
    "from torchvision import transforms\n",
    "from torchvision.utils import save_image\n",
    "\n",
    "\n",
    "from IPython.display import Image\n",
    "from IPython.core.display import Image, display\n",
    "\n",
    "from torch.utils.data import Dataset, DataLoader\n",
    "import torchvision.transforms as transforms\n",
    "import torchvision.transforms.functional as FT\n",
    "\n",
    "\n",
    "from PIL import Image\n",
    "import matplotlib.pyplot as plt\n",
    "\n",
    "from file_manipulations import getSortedFramePaths\n",
    "from vae_conv import VariationalAutoencoder, Encoder, Decoder"
   ]
  },
  {
   "cell_type": "code",
   "execution_count": 2,
   "metadata": {},
   "outputs": [],
   "source": [
    "device = torch.device(\"cuda\")"
   ]
  },
  {
   "cell_type": "code",
   "execution_count": 3,
   "metadata": {},
   "outputs": [
    {
     "data": {
      "text/plain": [
       "VariationalAutoencoder(\n",
       "  (encoder): Encoder(\n",
       "    (conv_1): Conv2d(1, 2, kernel_size=(4, 4), stride=(2, 2), padding=(1, 1))\n",
       "    (conv_2): Conv2d(2, 4, kernel_size=(4, 4), stride=(2, 2), padding=(1, 1))\n",
       "    (conv_3): Conv2d(4, 8, kernel_size=(4, 4), stride=(2, 2), padding=(1, 1))\n",
       "    (conv_4): Conv2d(8, 16, kernel_size=(4, 4), stride=(2, 2), padding=(1, 1))\n",
       "    (pool): MaxPool2d(kernel_size=2, stride=2, padding=0, dilation=1, ceil_mode=False)\n",
       "    (fc_mu): Linear(in_features=512, out_features=256, bias=True)\n",
       "    (fc_logvar): Linear(in_features=512, out_features=256, bias=True)\n",
       "  )\n",
       "  (decoder): Decoder(\n",
       "    (conv_trans_1): ConvTranspose2d(8, 4, kernel_size=(4, 4), stride=(2, 2), padding=(1, 1))\n",
       "    (conv_trans_2): ConvTranspose2d(4, 2, kernel_size=(4, 4), stride=(2, 2), padding=(1, 1))\n",
       "    (conv_trans_3): ConvTranspose2d(2, 1, kernel_size=(4, 4), stride=(2, 2), padding=(1, 1))\n",
       "    (linear): Linear(in_features=256, out_features=512, bias=True)\n",
       "    (sigmoid): Sigmoid()\n",
       "  )\n",
       ")"
      ]
     },
     "execution_count": 3,
     "metadata": {},
     "output_type": "execute_result"
    }
   ],
   "source": [
    "vae = VariationalAutoencoder().to(device)\n",
    "vae.load_state_dict(torch.load('vae_conv.pth'))\n",
    "vae.eval()"
   ]
  },
  {
   "cell_type": "code",
   "execution_count": 4,
   "metadata": {},
   "outputs": [],
   "source": [
    "seq_len_x = 5\n",
    "seq_len_y = 20\n",
    "batch_size = 32\n",
    "image_size = 64"
   ]
  },
  {
   "cell_type": "code",
   "execution_count": 5,
   "metadata": {},
   "outputs": [],
   "source": [
    "image_path = \"./Dance Data/SkeletonDataClean/Skeleton/Basic/\"\n",
    "composed_transform = torchvision.transforms.Compose([transforms.Resize(image_size), transforms.Grayscale(num_output_channels=1), transforms.ToTensor()])\n",
    "\n",
    "class DanceFrameDataset(Dataset):\n",
    "    def __init__(self, image_path, transforms, seq_len_x, seq_len_y):\n",
    "        self.transforms = transforms\n",
    "        self.image_path = image_path\n",
    "        self.seq_len_x = seq_len_x\n",
    "        self.seq_len_y = seq_len_y\n",
    "        self.image_names = getSortedFramePaths(self.image_path, ['gBR', 'gHO', 'gLH','gWA'])\n",
    "    def __len__ (self):\n",
    "            return len(self.image_names) - self.seq_len_x - self.seq_len_y\n",
    "    def __getitem__(self, idx):\n",
    "        image_locations = self.image_names[idx:idx+self.seq_len_x+self.seq_len_y]\n",
    "        images = torch.empty(self.seq_len_x+self.seq_len_y, 256)\n",
    "        i = 0\n",
    "        with torch.no_grad():\n",
    "            for image_location in image_locations:\n",
    "                x = (self.transforms(Image.open(image_location)) > 0.5).float().view(1, 1, 64, 64)\n",
    "                images[i] = vae.encoder(x.to(device))[0]\n",
    "                i += 1\n",
    "        \n",
    "\n",
    "        return images[0:self.seq_len_x], images[self.seq_len_x:self.seq_len_x+self.seq_len_y]\n",
    "    \n",
    "frame_dataset = DanceFrameDataset(image_path, composed_transform, seq_len_x, seq_len_y)\n",
    "frame_loader = DataLoader(dataset=frame_dataset, batch_size=batch_size, shuffle=True, drop_last=True)"
   ]
  },
  {
   "cell_type": "code",
   "execution_count": 6,
   "metadata": {},
   "outputs": [
    {
     "data": {
      "text/plain": [
       "1941"
      ]
     },
     "execution_count": 6,
     "metadata": {},
     "output_type": "execute_result"
    }
   ],
   "source": [
    "len(frame_loader)"
   ]
  },
  {
   "cell_type": "code",
   "execution_count": 7,
   "metadata": {},
   "outputs": [
    {
     "data": {
      "image/png": "[encoded data removed]",
      "text/plain": [
       "<Figure size 432x288 with 3 Axes>"
      ]
     },
     "metadata": {
      "needs_background": "light"
     },
     "output_type": "display_data"
    }
   ],
   "source": [
    "idx = 0\n",
    "\n",
    "frames_x, frames_y = next(iter(frame_loader))\n",
    "frames_x_dec = frames_y.to(device)\n",
    "frames_x_dec = vae.decoder(frames_x_dec[idx])\n",
    "\n",
    "for i in range(3):\n",
    "    plt.subplot(1, 4, i+1)\n",
    "    plt.imshow(frames_y[0][i].view(16, 16), cmap=\"gray\")"
   ]
  },
  {
   "cell_type": "code",
   "execution_count": 8,
   "metadata": {},
   "outputs": [
    {
     "data": {
      "text/plain": [
       "torch.Size([32, 5, 256])"
      ]
     },
     "execution_count": 8,
     "metadata": {},
     "output_type": "execute_result"
    }
   ],
   "source": [
    "frames_x.shape"
   ]
  },
  {
   "cell_type": "code",
   "execution_count": 9,
   "metadata": {},
   "outputs": [
    {
     "data": {
      "image/png": "[encoded data removed]",
      "text/plain": [
       "<Figure size 432x288 with 5 Axes>"
      ]
     },
     "metadata": {
      "needs_background": "light"
     },
     "output_type": "display_data"
    }
   ],
   "source": [
    "for i in range(5):\n",
    "    plt.subplot(1, 5, i+1)\n",
    "    plt.imshow(frames_x_dec[i].detach().cpu().view(64, 64), cmap=\"gray\")"
   ]
  },
  {
   "cell_type": "code",
   "execution_count": null,
   "metadata": {},
   "outputs": [],
   "source": []
  },
  {
   "cell_type": "code",
   "execution_count": 10,
   "metadata": {},
   "outputs": [],
   "source": [
    "class Encoder(nn.Module):\n",
    "    def __init__(self, num_features, hidden_size, num_layers, p):\n",
    "        super(Encoder, self).__init__()\n",
    "        self.hidden_size = hidden_size\n",
    "        self.num_layers = num_layers\n",
    "        \n",
    "        self.dropout = nn.Dropout(p)\n",
    "        \n",
    "        self.rnn = nn.LSTM(num_features, hidden_size, num_layers, dropout=p, batch_first=True)\n",
    "        \n",
    "    def forward(self, x):\n",
    "        # (seq_len, batch_size)\n",
    "        \n",
    "        outputs, (hidden, cell) = self.rnn(x)        \n",
    "        \n",
    "        return hidden, cell\n",
    "        "
   ]
  },
  {
   "cell_type": "code",
   "execution_count": 11,
   "metadata": {},
   "outputs": [],
   "source": [
    "class Decoder(nn.Module):\n",
    "    def __init__ (self, num_features, hidden_size, num_layers, p):\n",
    "        super().__init__()\n",
    "        self.hidden_size = hidden_size\n",
    "        self.num_layers = num_layers\n",
    "        \n",
    "        self.dropout = nn.Dropout(p)\n",
    "        self.rnn = nn.LSTM(num_features, hidden_size, num_layers, dropout=p, batch_first=True)\n",
    "        self.fc =  nn.Linear(hidden_size, num_features)\n",
    "        \n",
    "    def forward(self, x, hidden, cell):\n",
    "        predictions, (hidden, cell) = self.rnn(x, (hidden, cell))\n",
    "\n",
    "        predictions = self.fc(predictions)\n",
    "\n",
    "        return predictions, hidden, cell"
   ]
  },
  {
   "cell_type": "code",
   "execution_count": 12,
   "metadata": {},
   "outputs": [],
   "source": [
    "class Seq2Seq(nn.Module):\n",
    "    def __init__(self, encoder, decoder):\n",
    "        super().__init__()\n",
    "        self.encoder = encoder\n",
    "        self.decoder = decoder\n",
    "        \n",
    "    def forward(self, source, target, teacher_force_ratio, validation):\n",
    "        batch_size = source.shape[0]\n",
    "        target_len = seq_len_y\n",
    "        \n",
    "        \n",
    "        hidden, cell = self.encoder(source)\n",
    "        \n",
    "        x = source[:, -1, :].unsqueeze(1)\n",
    "        \n",
    "        for t in range(target_len):\n",
    "            output, hidden, cell= self.decoder(x, hidden, cell)\n",
    "            \n",
    "            if 'outputs' in locals():\n",
    "                outputs = torch.cat((outputs, output), dim=1)\n",
    "            else:\n",
    "                outputs = output\n",
    "            \n",
    "            if validation == True:\n",
    "                x = output\n",
    "            else:\n",
    "                x = target[:, t, :].unsqueeze(1) if random.random() < teacher_force_ratio else output\n",
    "                \n",
    "        return outputs"
   ]
  },
  {
   "cell_type": "code",
   "execution_count": null,
   "metadata": {},
   "outputs": [],
   "source": []
  },
  {
   "cell_type": "code",
   "execution_count": 19,
   "metadata": {},
   "outputs": [],
   "source": [
    "num_epochs = 100\n",
    "learning_rate = 0.001\n",
    "\n",
    "num_features = 256\n",
    "hidden_size = 2048\n",
    "num_layers = 2\n",
    "dropout = 0.8\n",
    "\n",
    "loss_hist = []"
   ]
  },
  {
   "cell_type": "code",
   "execution_count": 20,
   "metadata": {},
   "outputs": [],
   "source": [
    "encoder_net = Encoder(num_features, hidden_size, num_layers, dropout).to(device)\n",
    "decoder_net = Decoder(num_features, hidden_size, num_layers, dropout).to(device)\n",
    "\n",
    "model = Seq2Seq(encoder_net, decoder_net).to(device)"
   ]
  },
  {
   "cell_type": "code",
   "execution_count": 22,
   "metadata": {},
   "outputs": [],
   "source": [
    "criterion = nn.MSELoss()\n",
    "optimizer = torch.optim.Adam(model.parameters(), lr=learning_rate)\n",
    "scheduler = torch.optim.lr_scheduler.ReduceLROnPlateau(optimizer, patience=2, verbose=True)"
   ]
  },
  {
   "cell_type": "code",
   "execution_count": 23,
   "metadata": {},
   "outputs": [],
   "source": [
    "load_model = False\n",
    "\n",
    "def save_checkpoint (state, file_name=\"seq2seq-teach-p2.pth.tar\"):\n",
    "    print('Saving Checkpoint')\n",
    "    torch.save(state, file_name)\n",
    "def load_checkpoint (checkpoint):\n",
    "    print('Loading Checkpoint')\n",
    "    model.load_state_dict(checkpoint['state_dict'])\n",
    "\n",
    "if load_model:\n",
    "    load_checkpoint(torch.load('seq2seq-teach.pth.tar'))"
   ]
  },
  {
   "cell_type": "code",
   "execution_count": null,
   "metadata": {},
   "outputs": [],
   "source": [
    "for epoch in range(num_epochs):\n",
    "    checkpoint = {'state_dict': model.state_dict()}\n",
    "    save_checkpoint(checkpoint)\n",
    "    for idx, (source, target) in enumerate(frame_loader):\n",
    "        optimizer.zero_grad()\n",
    "        \n",
    "        source, target = source.to(device), target.to(device)\n",
    "        \n",
    "        output = model(source, target, 0.15, False)\n",
    "        \n",
    "        loss1 = criterion(output[:, 0, :], target[:, 0, :])\n",
    "        \n",
    "        loss2 = criterion(output[:, 5, :], target[:, 5, :])\n",
    "        \n",
    "        loss3 = criterion(output[:, 10, :], target[:, 10, :])\n",
    "        \n",
    "        loss1 = criterion(output[:, 15, :], target[:, 15, :])\n",
    "        \n",
    "        loss4 = criterion(output[:, -1, :], target[:, -1, :])\n",
    "        \n",
    "        loss = loss1 + loss2 + loss3 + loss4\n",
    "\n",
    "        loss_hist.append(loss.item())\n",
    "\n",
    "        loss.backward()\n",
    "\n",
    "        torch.nn.utils.clip_grad_norm_(model.parameters(), max_norm=1)\n",
    "\n",
    "        optimizer.step()\n",
    "    \n",
    "    \n",
    "        if idx % 100 == 0:\n",
    "            print(f'Epoch: {epoch} / {num_epochs} Batch:: {idx}/{len(frame_loader)} Loss: {loss}')\n",
    "    mean_loss = sum(loss_hist)/len(loss_hist)\n",
    "    scheduler.step(mean_loss)"
   ]
  },
  {
   "cell_type": "code",
   "execution_count": null,
   "metadata": {},
   "outputs": [],
   "source": [
    "target.shape"
   ]
  },
  {
   "cell_type": "code",
   "execution_count": null,
   "metadata": {},
   "outputs": [],
   "source": []
  },
  {
   "cell_type": "code",
   "execution_count": 25,
   "metadata": {},
   "outputs": [
    {
     "data": {
      "image/png": "[encoded data removed]",
      "text/plain": [
       "<Figure size 432x288 with 1 Axes>"
      ]
     },
     "metadata": {
      "needs_background": "light"
     },
     "output_type": "display_data"
    }
   ],
   "source": [
    "plt.plot(loss_hist, label=\"Training loss\")\n",
    "plt.legend()\n",
    "plt.show()"
   ]
  },
  {
   "cell_type": "code",
   "execution_count": 26,
   "metadata": {},
   "outputs": [
    {
     "data": {
      "image/png": "[encoded data removed]",
      "text/plain": [
       "<Figure size 432x288 with 5 Axes>"
      ]
     },
     "metadata": {
      "needs_background": "light"
     },
     "output_type": "display_data"
    }
   ],
   "source": [
    "with torch.no_grad():\n",
    "    img = vae.decoder(torch.squeeze(target[8])).detach().cpu()\n",
    "    for i in range(5):\n",
    "        plt.subplot(1, 5, i+1)\n",
    "        plt.imshow(img[i].view(64, 64), cmap=\"gray\")"
   ]
  },
  {
   "cell_type": "code",
   "execution_count": 27,
   "metadata": {},
   "outputs": [
    {
     "data": {
      "image/png": "[encoded data removed]",
      "text/plain": [
       "<Figure size 432x288 with 10 Axes>"
      ]
     },
     "metadata": {
      "needs_background": "light"
     },
     "output_type": "display_data"
    }
   ],
   "source": [
    "with torch.no_grad():\n",
    "    img = vae.decoder(torch.squeeze(output[8])).detach().cpu()\n",
    "    for i in range(10):\n",
    "        plt.subplot(2, 5, i+1)\n",
    "        plt.imshow(img[i].view(64, 64), cmap=\"gray\")"
   ]
  },
  {
   "cell_type": "code",
   "execution_count": 38,
   "metadata": {},
   "outputs": [],
   "source": [
    "torch.save(model.state_dict(), 'seq2seq-teach-2.pth')"
   ]
  },
  {
   "cell_type": "code",
   "execution_count": 39,
   "metadata": {},
   "outputs": [],
   "source": [
    "img_x = vae.decoder(torch.squeeze(source[8])).detach().cpu()\n",
    "\n",
    "for i in range(seq_len_x):\n",
    "    image = img_x[i]\n",
    "    image = FT.to_pil_image(image)\n",
    "    image.save(f'generated/seq2seq/{i}.png')"
   ]
  },
  {
   "cell_type": "code",
   "execution_count": 28,
   "metadata": {},
   "outputs": [],
   "source": [
    "for i in range(seq_len_y):\n",
    "    image = img_pred[i]\n",
    "    image = FT.to_pil_image(image)\n",
    "    image.save(f'generated/seq2seq/y_{20+i}.png')"
   ]
  },
  {
   "cell_type": "code",
   "execution_count": null,
   "metadata": {},
   "outputs": [],
   "source": []
  },
  {
   "cell_type": "code",
   "execution_count": 32,
   "metadata": {},
   "outputs": [],
   "source": [
    "import cv2\n",
    "import numpy as np\n",
    "import glob\n",
    "import os\n",
    "from os.path import isfile, join\n",
    "import re\n",
    "\n",
    "def Images2Video (pathIn, pathOut, frameSize):\n",
    "\n",
    "    files = [f for f in os.listdir(pathIn) if isfile(join(pathIn, f))]\n",
    "    files.sort(key=lambda f: int(re.sub('\\D', '', f)))\n",
    "\n",
    "    out = cv2.VideoWriter(pathOut,cv2.VideoWriter_fourcc(*'DIVX'), 20, frameSize)\n",
    "    print(files)\n",
    "    for filename in files:\n",
    "        img = cv2.imread(pathIn + filename)\n",
    "        out.write(img)\n",
    "\n",
    "    out.release()"
   ]
  },
  {
   "cell_type": "code",
   "execution_count": 30,
   "metadata": {},
   "outputs": [
    {
     "name": "stdout",
     "output_type": "stream",
     "text": [
      "['0.png', '1.png', '2.png', '3.png', '4.png', 'y_20.png', 'y_21.png', 'y_22.png', 'y_23.png', 'y_24.png', 'y_25.png', 'y_26.png', 'y_27.png', 'y_28.png', 'y_29.png', 'y_30.png', 'y_31.png', 'y_32.png', 'y_33.png', 'y_34.png', 'y_35.png', 'y_36.png', 'y_37.png', 'y_38.png', 'y_39.png']\n"
     ]
    }
   ],
   "source": [
    "Images2Video('generated/seq2seq/', 'generated/seq2seq/output.avi', (64, 64))"
   ]
  }
 ],
 "metadata": {
  "kernelspec": {
   "display_name": "Python 3 (ipykernel)",
   "language": "python",
   "name": "python3"
  },
  "language_info": {
   "codemirror_mode": {
    "name": "ipython",
    "version": 3
   },
   "file_extension": ".py",
   "mimetype": "text/x-python",
   "name": "python",
   "nbconvert_exporter": "python",
   "pygments_lexer": "ipython3",
   "version": "3.7.11"
  }
 },
 "nbformat": 4,
 "nbformat_minor": 4
}
