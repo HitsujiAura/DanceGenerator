{
 "cells": [
  {
   "cell_type": "code",
   "execution_count": 1,
   "metadata": {},
   "outputs": [],
   "source": [
    "import math\n",
    "import os\n",
    "import torch\n",
    "import torch.nn as nn\n",
    "import torch.nn.functional as F\n",
    "from torch.autograd import Variable\n",
    "\n",
    "import random\n",
    "\n",
    "import torchvision\n",
    "from torchvision import datasets\n",
    "from torchvision import transforms\n",
    "from torchvision.utils import save_image\n",
    "# from torchsummary import summary\n",
    "\n",
    "# from pushover import notify\n",
    "# from utils import makegif\n",
    "from random import randint\n",
    "\n",
    "from IPython.display import Image\n",
    "from IPython.core.display import Image, display\n",
    "\n",
    "from torch.utils.data import Dataset, DataLoader\n",
    "import torchvision.transforms as transforms\n",
    "from PIL import Image\n",
    "import matplotlib.pyplot as plt\n",
    "# import torch.nn.functional as F\n",
    "import torchvision.transforms.functional as FT\n",
    "\n",
    "from file_manipulations import getSortedFramePaths\n",
    "from vae_conv import VariationalAutoencoder, Encoder, Decoder"
   ]
  },
  {
   "cell_type": "code",
   "execution_count": 2,
   "metadata": {},
   "outputs": [],
   "source": [
    "device = torch.device(\"cuda\")"
   ]
  },
  {
   "cell_type": "code",
   "execution_count": 3,
   "metadata": {},
   "outputs": [
    {
     "data": {
      "text/plain": [
       "VariationalAutoencoder(\n",
       "  (encoder): Encoder(\n",
       "    (conv_1): Conv2d(1, 2, kernel_size=(4, 4), stride=(2, 2), padding=(1, 1))\n",
       "    (conv_2): Conv2d(2, 4, kernel_size=(4, 4), stride=(2, 2), padding=(1, 1))\n",
       "    (conv_3): Conv2d(4, 8, kernel_size=(4, 4), stride=(2, 2), padding=(1, 1))\n",
       "    (conv_4): Conv2d(8, 16, kernel_size=(4, 4), stride=(2, 2), padding=(1, 1))\n",
       "    (pool): MaxPool2d(kernel_size=2, stride=2, padding=0, dilation=1, ceil_mode=False)\n",
       "    (fc_mu): Linear(in_features=512, out_features=256, bias=True)\n",
       "    (fc_logvar): Linear(in_features=512, out_features=256, bias=True)\n",
       "  )\n",
       "  (decoder): Decoder(\n",
       "    (conv_trans_1): ConvTranspose2d(8, 4, kernel_size=(4, 4), stride=(2, 2), padding=(1, 1))\n",
       "    (conv_trans_2): ConvTranspose2d(4, 2, kernel_size=(4, 4), stride=(2, 2), padding=(1, 1))\n",
       "    (conv_trans_3): ConvTranspose2d(2, 1, kernel_size=(4, 4), stride=(2, 2), padding=(1, 1))\n",
       "    (linear): Linear(in_features=256, out_features=512, bias=True)\n",
       "    (sigmoid): Sigmoid()\n",
       "  )\n",
       ")"
      ]
     },
     "execution_count": 3,
     "metadata": {},
     "output_type": "execute_result"
    }
   ],
   "source": [
    "vae = VariationalAutoencoder().to(device)\n",
    "vae.load_state_dict(torch.load('vae_conv.pth'))\n",
    "vae.eval()"
   ]
  },
  {
   "cell_type": "code",
   "execution_count": 4,
   "metadata": {},
   "outputs": [],
   "source": [
    "seq_len_x = 5\n",
    "seq_len_y = 20\n",
    "batch_size = 32\n",
    "image_size = 64"
   ]
  },
  {
   "cell_type": "code",
   "execution_count": 5,
   "metadata": {},
   "outputs": [],
   "source": [
    "image_path = \"./Dance Data/SkeletonDataClean/Skeleton/Basic/\"\n",
    "composed_transform = torchvision.transforms.Compose([transforms.Resize(image_size), transforms.Grayscale(num_output_channels=1), transforms.ToTensor()])\n",
    "\n",
    "class DanceFrameDataset(Dataset):\n",
    "    def __init__(self, image_path, transforms, seq_len_x, seq_len_y):\n",
    "        self.transforms = transforms\n",
    "        self.image_path = image_path\n",
    "        self.seq_len_x = seq_len_x\n",
    "        self.seq_len_y = seq_len_y\n",
    "        self.image_names = getSortedFramePaths(self.image_path, ['gBR', 'gHO', 'gLH','gWA'])\n",
    "    def __len__ (self):\n",
    "            return len(self.image_names) - self.seq_len_x - self.seq_len_y\n",
    "    def __getitem__(self, idx):\n",
    "        image_locations = self.image_names[idx:idx+self.seq_len_x+self.seq_len_y]\n",
    "        images = torch.empty(self.seq_len_x+self.seq_len_y, 256)\n",
    "        i = 0\n",
    "        with torch.no_grad():\n",
    "            for image_location in image_locations:\n",
    "                x = (self.transforms(Image.open(image_location)) > 0.5).float().view(1, 1, 64, 64)\n",
    "                images[i] = vae.encoder(x.to(device))[0]\n",
    "                i += 1\n",
    "        \n",
    "\n",
    "        return images[0:self.seq_len_x], images[self.seq_len_x:self.seq_len_x+self.seq_len_y]\n",
    "    \n",
    "frame_dataset = DanceFrameDataset(image_path, composed_transform, seq_len_x, seq_len_y)\n",
    "frame_loader = DataLoader(dataset=frame_dataset, batch_size=batch_size, shuffle=True, drop_last=True)"
   ]
  },
  {
   "cell_type": "code",
   "execution_count": null,
   "metadata": {},
   "outputs": [],
   "source": []
  },
  {
   "cell_type": "code",
   "execution_count": 6,
   "metadata": {},
   "outputs": [
    {
     "data": {
      "text/plain": [
       "1941"
      ]
     },
     "execution_count": 6,
     "metadata": {},
     "output_type": "execute_result"
    }
   ],
   "source": [
    "len(frame_loader)"
   ]
  },
  {
   "cell_type": "code",
   "execution_count": 7,
   "metadata": {},
   "outputs": [
    {
     "data": {
      "image/png": "[encoded data removed]",
      "text/plain": [
       "<Figure size 432x288 with 3 Axes>"
      ]
     },
     "metadata": {
      "needs_background": "light"
     },
     "output_type": "display_data"
    }
   ],
   "source": [
    "idx = 0\n",
    "\n",
    "frames_x, frames_y = next(iter(frame_loader))\n",
    "frames_x_dec = frames_y.to(device)\n",
    "frames_x_dec = vae.decoder(frames_x_dec[idx])\n",
    "\n",
    "for i in range(3):\n",
    "    plt.subplot(1, 4, i+1)\n",
    "    plt.imshow(frames_y[0][i].view(16, 16), cmap=\"gray\")"
   ]
  },
  {
   "cell_type": "code",
   "execution_count": 8,
   "metadata": {},
   "outputs": [
    {
     "data": {
      "text/plain": [
       "torch.Size([32, 5, 256])"
      ]
     },
     "execution_count": 8,
     "metadata": {},
     "output_type": "execute_result"
    }
   ],
   "source": [
    "frames_x.shape"
   ]
  },
  {
   "cell_type": "code",
   "execution_count": 9,
   "metadata": {},
   "outputs": [
    {
     "data": {
      "image/png": "[encoded data removed]",
      "text/plain": [
       "<Figure size 432x288 with 5 Axes>"
      ]
     },
     "metadata": {
      "needs_background": "light"
     },
     "output_type": "display_data"
    }
   ],
   "source": [
    "for i in range(5):\n",
    "    plt.subplot(1, 5, i+1)\n",
    "    plt.imshow(frames_x_dec[i].detach().cpu().view(64, 64), cmap=\"gray\")"
   ]
  },
  {
   "cell_type": "code",
   "execution_count": null,
   "metadata": {},
   "outputs": [],
   "source": []
  },
  {
   "cell_type": "code",
   "execution_count": 10,
   "metadata": {},
   "outputs": [],
   "source": [
    "class Encoder(nn.Module):\n",
    "    def __init__(self, num_features, hidden_size, num_layers, p):\n",
    "        super(Encoder, self).__init__()\n",
    "        self.hidden_size = hidden_size\n",
    "        self.num_layers = num_layers\n",
    "        \n",
    "        self.dropout = nn.Dropout(p)\n",
    "        \n",
    "        self.rnn = nn.LSTM(num_features, hidden_size, num_layers, dropout=p, batch_first=True)\n",
    "        \n",
    "    def forward(self, x):\n",
    "        # (seq_len, batch_size)\n",
    "        \n",
    "        outputs, (hidden, cell) = self.rnn(x)        \n",
    "        \n",
    "        return hidden, cell\n",
    "        "
   ]
  },
  {
   "cell_type": "code",
   "execution_count": 11,
   "metadata": {},
   "outputs": [],
   "source": [
    "class Decoder(nn.Module):\n",
    "    def __init__ (self, num_features, hidden_size, num_layers, p):\n",
    "        super().__init__()\n",
    "        self.hidden_size = hidden_size\n",
    "        self.num_layers = num_layers\n",
    "        \n",
    "        self.dropout = nn.Dropout(p)\n",
    "        self.rnn = nn.LSTM(num_features, hidden_size, num_layers, dropout=p, batch_first=True)\n",
    "        self.fc =  nn.Linear(hidden_size, num_features)\n",
    "        \n",
    "    def forward(self, x, hidden, cell):\n",
    "        # x -> we want (1, N) -. one word at a time\n",
    "#         x = x.unsqueeze(1)\n",
    "        \n",
    "        predictions, (hidden, cell) = self.rnn(x, (hidden, cell))\n",
    "\n",
    "        predictions = self.fc(predictions)\n",
    "#         predictions = predictions.squeeze(0)\n",
    "        return predictions, hidden, cell"
   ]
  },
  {
   "cell_type": "code",
   "execution_count": 12,
   "metadata": {},
   "outputs": [],
   "source": [
    "class Seq2Seq(nn.Module):\n",
    "    def __init__(self, encoder, decoder):\n",
    "        super().__init__()\n",
    "        self.encoder = encoder\n",
    "        self.decoder = decoder\n",
    "        \n",
    "    def forward(self, source, target, teacher_force_ratio, validation):\n",
    "        batch_size = source.shape[0] #hmm 0\n",
    "#         target_len = target.shape[1] # hmm 1\n",
    "        target_len = seq_len_y\n",
    "        \n",
    "        \n",
    "        hidden, cell = self.encoder(source)\n",
    "        \n",
    "#         x = target[:, 0, :]\n",
    "        x = source[:, -1, :].unsqueeze(1)\n",
    "        \n",
    "        for t in range(target_len):\n",
    "            output, hidden, cell= self.decoder(x, hidden, cell)\n",
    "            \n",
    "            if 'outputs' in locals():\n",
    "                outputs = torch.cat((outputs, output), dim=1)\n",
    "            else:\n",
    "                outputs = output\n",
    "            \n",
    "            if validation == True:\n",
    "                x = output\n",
    "            else:\n",
    "                x = target[:, t, :].unsqueeze(1) if random.random() < teacher_force_ratio else output\n",
    "                \n",
    "#             x = output\n",
    "            \n",
    "#             x = target[:, t, :]\n",
    "        return outputs"
   ]
  },
  {
   "cell_type": "code",
   "execution_count": null,
   "metadata": {},
   "outputs": [],
   "source": []
  },
  {
   "cell_type": "code",
   "execution_count": 19,
   "metadata": {},
   "outputs": [],
   "source": [
    "num_epochs = 100\n",
    "# learning_rate = 0.001\n",
    "learning_rate = 0.001\n",
    "\n",
    "num_features = 256\n",
    "hidden_size = 2048 # hmm was 512\n",
    "num_layers = 2\n",
    "dropout = 0.8\n",
    "\n",
    "loss_hist = []"
   ]
  },
  {
   "cell_type": "code",
   "execution_count": 20,
   "metadata": {},
   "outputs": [],
   "source": [
    "encoder_net = Encoder(num_features, hidden_size, num_layers, dropout).to(device)\n",
    "decoder_net = Decoder(num_features, hidden_size, num_layers, dropout).to(device)\n",
    "\n",
    "model = Seq2Seq(encoder_net, decoder_net).to(device)"
   ]
  },
  {
   "cell_type": "code",
   "execution_count": 21,
   "metadata": {},
   "outputs": [],
   "source": [
    "# batch, trg = next(iter(frame_loader))\n",
    "# batch, trg = batch.to(device), trg.to(device)\n",
    "# yhat = model(batch, trg, 0.5, True)\n",
    "\n",
    "# from torchviz import make_dot\n",
    "# make_dot(yhat, params=dict(list(model.named_parameters()))).render(\"seq_torchviz\", format=\"png\")"
   ]
  },
  {
   "cell_type": "code",
   "execution_count": 22,
   "metadata": {},
   "outputs": [],
   "source": [
    "criterion = nn.MSELoss()\n",
    "optimizer = torch.optim.Adam(model.parameters(), lr=learning_rate)\n",
    "scheduler = torch.optim.lr_scheduler.ReduceLROnPlateau(optimizer, patience=2, verbose=True)"
   ]
  },
  {
   "cell_type": "code",
   "execution_count": 23,
   "metadata": {},
   "outputs": [],
   "source": [
    "load_model = False\n",
    "\n",
    "### chnged to p2 be careful\n",
    "\n",
    "def save_checkpoint (state, file_name=\"seq2seq-teach-p2.pth.tar\"):\n",
    "    print('Saving Checkpoint')\n",
    "    torch.save(state, file_name)\n",
    "def load_checkpoint (checkpoint):\n",
    "    print('Loading Checkpoint')\n",
    "    model.load_state_dict(checkpoint['state_dict'])\n",
    "#     optimizer.load_state_dict(checkpoint['optimizer'])\n",
    "\n",
    "if load_model:\n",
    "#     model.load_state_dict(torch.load('seq2seq-teach.pth.tar'))\n",
    "    load_checkpoint(torch.load('seq2seq-teach.pth.tar'))"
   ]
  },
  {
   "cell_type": "code",
   "execution_count": 24,
   "metadata": {},
   "outputs": [
    {
     "name": "stdout",
     "output_type": "stream",
     "text": [
      "Saving Checkpoint\n",
      "Epoch: 0 / 100 Batch:: 0/1941 Loss: 1.301318883895874\n",
      "Epoch: 0 / 100 Batch:: 100/1941 Loss: 1.3389101028442383\n",
      "Epoch: 0 / 100 Batch:: 200/1941 Loss: 1.3083834648132324\n",
      "Epoch: 0 / 100 Batch:: 300/1941 Loss: 1.3037174940109253\n",
      "Epoch: 0 / 100 Batch:: 400/1941 Loss: 1.28902006149292\n",
      "Epoch: 0 / 100 Batch:: 500/1941 Loss: 1.2360519170761108\n",
      "Epoch: 0 / 100 Batch:: 600/1941 Loss: 1.2218788862228394\n",
      "Epoch: 0 / 100 Batch:: 700/1941 Loss: 1.2822235822677612\n",
      "Epoch: 0 / 100 Batch:: 800/1941 Loss: 1.1853055953979492\n",
      "Epoch: 0 / 100 Batch:: 900/1941 Loss: 1.271877646446228\n",
      "Epoch: 0 / 100 Batch:: 1000/1941 Loss: 1.226902723312378\n",
      "Epoch: 0 / 100 Batch:: 1100/1941 Loss: 1.2121729850769043\n",
      "Epoch: 0 / 100 Batch:: 1200/1941 Loss: 1.2239888906478882\n",
      "Epoch: 0 / 100 Batch:: 1300/1941 Loss: 1.2568868398666382\n",
      "Epoch: 0 / 100 Batch:: 1400/1941 Loss: 1.2722235918045044\n",
      "Epoch: 0 / 100 Batch:: 1500/1941 Loss: 1.3273582458496094\n",
      "Epoch: 0 / 100 Batch:: 1600/1941 Loss: 1.261323094367981\n",
      "Epoch: 0 / 100 Batch:: 1700/1941 Loss: 1.2716350555419922\n",
      "Epoch: 0 / 100 Batch:: 1800/1941 Loss: 1.2181317806243896\n",
      "Epoch: 0 / 100 Batch:: 1900/1941 Loss: 1.3276664018630981\n",
      "Saving Checkpoint\n",
      "Epoch: 1 / 100 Batch:: 0/1941 Loss: 1.2261879444122314\n",
      "Epoch: 1 / 100 Batch:: 100/1941 Loss: 1.212817907333374\n",
      "Epoch: 1 / 100 Batch:: 200/1941 Loss: 1.3316839933395386\n",
      "Epoch: 1 / 100 Batch:: 300/1941 Loss: 1.299297571182251\n",
      "Epoch: 1 / 100 Batch:: 400/1941 Loss: 1.2348642349243164\n",
      "Epoch: 1 / 100 Batch:: 500/1941 Loss: 1.276114821434021\n",
      "Epoch: 1 / 100 Batch:: 600/1941 Loss: 1.2845429182052612\n",
      "Epoch: 1 / 100 Batch:: 700/1941 Loss: 1.2902567386627197\n",
      "Epoch: 1 / 100 Batch:: 800/1941 Loss: 1.1584057807922363\n",
      "Epoch: 1 / 100 Batch:: 900/1941 Loss: 1.246437668800354\n",
      "Epoch: 1 / 100 Batch:: 1000/1941 Loss: 1.125099539756775\n",
      "Epoch: 1 / 100 Batch:: 1100/1941 Loss: 1.259940505027771\n",
      "Epoch: 1 / 100 Batch:: 1200/1941 Loss: 1.2368115186691284\n",
      "Epoch: 1 / 100 Batch:: 1300/1941 Loss: 1.2308909893035889\n",
      "Epoch: 1 / 100 Batch:: 1400/1941 Loss: 1.2346551418304443\n",
      "Epoch: 1 / 100 Batch:: 1500/1941 Loss: 1.2072656154632568\n",
      "Epoch: 1 / 100 Batch:: 1600/1941 Loss: 1.270933985710144\n",
      "Epoch: 1 / 100 Batch:: 1700/1941 Loss: 1.2405810356140137\n",
      "Epoch: 1 / 100 Batch:: 1800/1941 Loss: 1.246039867401123\n",
      "Epoch: 1 / 100 Batch:: 1900/1941 Loss: 1.2241239547729492\n",
      "Saving Checkpoint\n",
      "Epoch: 2 / 100 Batch:: 0/1941 Loss: 1.2442821264266968\n",
      "Epoch: 2 / 100 Batch:: 100/1941 Loss: 1.1805353164672852\n",
      "Epoch: 2 / 100 Batch:: 200/1941 Loss: 1.2909648418426514\n",
      "Epoch: 2 / 100 Batch:: 300/1941 Loss: 1.2136383056640625\n",
      "Epoch: 2 / 100 Batch:: 400/1941 Loss: 1.2142534255981445\n",
      "Epoch: 2 / 100 Batch:: 500/1941 Loss: 1.1756306886672974\n",
      "Epoch: 2 / 100 Batch:: 600/1941 Loss: 1.2668747901916504\n",
      "Epoch: 2 / 100 Batch:: 700/1941 Loss: 1.2656447887420654\n",
      "Epoch: 2 / 100 Batch:: 800/1941 Loss: 1.224834680557251\n",
      "Epoch: 2 / 100 Batch:: 900/1941 Loss: 1.1175642013549805\n",
      "Epoch: 2 / 100 Batch:: 1000/1941 Loss: 1.13955819606781\n",
      "Epoch: 2 / 100 Batch:: 1100/1941 Loss: 1.270688533782959\n",
      "Epoch: 2 / 100 Batch:: 1200/1941 Loss: 1.3075610399246216\n",
      "Epoch: 2 / 100 Batch:: 1300/1941 Loss: 1.1875627040863037\n",
      "Epoch: 2 / 100 Batch:: 1400/1941 Loss: 1.1921461820602417\n",
      "Epoch: 2 / 100 Batch:: 1500/1941 Loss: 1.2034069299697876\n",
      "Epoch: 2 / 100 Batch:: 1600/1941 Loss: 1.0779519081115723\n",
      "Epoch: 2 / 100 Batch:: 1700/1941 Loss: 1.1412848234176636\n",
      "Epoch: 2 / 100 Batch:: 1800/1941 Loss: 1.1717774868011475\n",
      "Epoch: 2 / 100 Batch:: 1900/1941 Loss: 1.2635382413864136\n",
      "Saving Checkpoint\n",
      "Epoch: 3 / 100 Batch:: 0/1941 Loss: 1.1426856517791748\n",
      "Epoch: 3 / 100 Batch:: 100/1941 Loss: 1.1860973834991455\n",
      "Epoch: 3 / 100 Batch:: 200/1941 Loss: 1.2413382530212402\n",
      "Epoch: 3 / 100 Batch:: 300/1941 Loss: 1.212782621383667\n",
      "Epoch: 3 / 100 Batch:: 400/1941 Loss: 1.1709659099578857\n",
      "Epoch: 3 / 100 Batch:: 500/1941 Loss: 1.1922996044158936\n",
      "Epoch: 3 / 100 Batch:: 600/1941 Loss: 1.1958284378051758\n",
      "Epoch: 3 / 100 Batch:: 700/1941 Loss: 1.1508362293243408\n",
      "Epoch: 3 / 100 Batch:: 800/1941 Loss: 1.123030424118042\n",
      "Epoch: 3 / 100 Batch:: 900/1941 Loss: 1.1884013414382935\n",
      "Epoch: 3 / 100 Batch:: 1000/1941 Loss: 1.2794791460037231\n",
      "Epoch: 3 / 100 Batch:: 1100/1941 Loss: 1.1508080959320068\n",
      "Epoch: 3 / 100 Batch:: 1200/1941 Loss: 1.1895231008529663\n",
      "Epoch: 3 / 100 Batch:: 1300/1941 Loss: 1.1572678089141846\n",
      "Epoch: 3 / 100 Batch:: 1400/1941 Loss: 1.1711034774780273\n",
      "Epoch: 3 / 100 Batch:: 1500/1941 Loss: 1.1843876838684082\n",
      "Epoch: 3 / 100 Batch:: 1600/1941 Loss: 1.126030683517456\n",
      "Epoch: 3 / 100 Batch:: 1700/1941 Loss: 1.2211031913757324\n",
      "Epoch: 3 / 100 Batch:: 1800/1941 Loss: 1.1611998081207275\n",
      "Epoch: 3 / 100 Batch:: 1900/1941 Loss: 1.1972270011901855\n",
      "Saving Checkpoint\n",
      "Epoch: 4 / 100 Batch:: 0/1941 Loss: 1.1919100284576416\n",
      "Epoch: 4 / 100 Batch:: 100/1941 Loss: 1.1498241424560547\n",
      "Epoch: 4 / 100 Batch:: 200/1941 Loss: 1.1217432022094727\n",
      "Epoch: 4 / 100 Batch:: 300/1941 Loss: 1.1391916275024414\n",
      "Epoch: 4 / 100 Batch:: 400/1941 Loss: 1.0864490270614624\n",
      "Epoch: 4 / 100 Batch:: 500/1941 Loss: 1.128660798072815\n",
      "Epoch: 4 / 100 Batch:: 600/1941 Loss: 1.125807762145996\n",
      "Epoch: 4 / 100 Batch:: 700/1941 Loss: 1.026032567024231\n",
      "Epoch: 4 / 100 Batch:: 800/1941 Loss: 1.1738041639328003\n",
      "Epoch: 4 / 100 Batch:: 900/1941 Loss: 1.164328694343567\n",
      "Epoch: 4 / 100 Batch:: 1000/1941 Loss: 1.1104493141174316\n",
      "Epoch: 4 / 100 Batch:: 1100/1941 Loss: 1.0980868339538574\n",
      "Epoch: 4 / 100 Batch:: 1200/1941 Loss: 1.1994515657424927\n",
      "Epoch: 4 / 100 Batch:: 1300/1941 Loss: 1.173396348953247\n",
      "Epoch: 4 / 100 Batch:: 1400/1941 Loss: 1.1386786699295044\n",
      "Epoch: 4 / 100 Batch:: 1500/1941 Loss: 1.1849703788757324\n",
      "Epoch: 4 / 100 Batch:: 1600/1941 Loss: 1.1891722679138184\n",
      "Epoch: 4 / 100 Batch:: 1700/1941 Loss: 1.1673471927642822\n",
      "Epoch: 4 / 100 Batch:: 1800/1941 Loss: 1.0350574254989624\n",
      "Epoch: 4 / 100 Batch:: 1900/1941 Loss: 1.1732981204986572\n",
      "Saving Checkpoint\n",
      "Epoch: 5 / 100 Batch:: 0/1941 Loss: 1.1487603187561035\n",
      "Epoch: 5 / 100 Batch:: 100/1941 Loss: 1.0718029737472534\n",
      "Epoch: 5 / 100 Batch:: 200/1941 Loss: 1.139026403427124\n",
      "Epoch: 5 / 100 Batch:: 300/1941 Loss: 1.0879936218261719\n",
      "Epoch: 5 / 100 Batch:: 400/1941 Loss: 1.2081925868988037\n",
      "Epoch: 5 / 100 Batch:: 500/1941 Loss: 1.1078147888183594\n",
      "Epoch: 5 / 100 Batch:: 600/1941 Loss: 1.1169970035552979\n",
      "Epoch: 5 / 100 Batch:: 700/1941 Loss: 1.1430890560150146\n",
      "Epoch: 5 / 100 Batch:: 800/1941 Loss: 1.1543792486190796\n",
      "Epoch: 5 / 100 Batch:: 900/1941 Loss: 1.1370067596435547\n",
      "Epoch: 5 / 100 Batch:: 1000/1941 Loss: 1.0885263681411743\n",
      "Epoch: 5 / 100 Batch:: 1100/1941 Loss: 1.0940943956375122\n",
      "Epoch: 5 / 100 Batch:: 1200/1941 Loss: 1.1172229051589966\n",
      "Epoch: 5 / 100 Batch:: 1300/1941 Loss: 1.1224768161773682\n",
      "Epoch: 5 / 100 Batch:: 1400/1941 Loss: 1.1427955627441406\n",
      "Epoch: 5 / 100 Batch:: 1500/1941 Loss: 1.143178939819336\n",
      "Epoch: 5 / 100 Batch:: 1600/1941 Loss: 1.1453628540039062\n",
      "Epoch: 5 / 100 Batch:: 1700/1941 Loss: 1.054336667060852\n",
      "Epoch: 5 / 100 Batch:: 1800/1941 Loss: 1.1322308778762817\n",
      "Epoch: 5 / 100 Batch:: 1900/1941 Loss: 1.1693675518035889\n",
      "Saving Checkpoint\n",
      "Epoch: 6 / 100 Batch:: 0/1941 Loss: 1.0541021823883057\n",
      "Epoch: 6 / 100 Batch:: 100/1941 Loss: 1.1244609355926514\n",
      "Epoch: 6 / 100 Batch:: 200/1941 Loss: 1.0776169300079346\n",
      "Epoch: 6 / 100 Batch:: 300/1941 Loss: 1.1209968328475952\n",
      "Epoch: 6 / 100 Batch:: 400/1941 Loss: 1.054613709449768\n",
      "Epoch: 6 / 100 Batch:: 500/1941 Loss: 1.1802709102630615\n",
      "Epoch: 6 / 100 Batch:: 600/1941 Loss: 1.0642791986465454\n",
      "Epoch: 6 / 100 Batch:: 700/1941 Loss: 1.1443421840667725\n",
      "Epoch: 6 / 100 Batch:: 800/1941 Loss: 1.0672898292541504\n",
      "Epoch: 6 / 100 Batch:: 900/1941 Loss: 1.135441780090332\n",
      "Epoch: 6 / 100 Batch:: 1000/1941 Loss: 1.0930558443069458\n",
      "Epoch: 6 / 100 Batch:: 1100/1941 Loss: 1.0712109804153442\n",
      "Epoch: 6 / 100 Batch:: 1200/1941 Loss: 1.1249133348464966\n",
      "Epoch: 6 / 100 Batch:: 1300/1941 Loss: 1.1431292295455933\n",
      "Epoch: 6 / 100 Batch:: 1400/1941 Loss: 1.065108299255371\n",
      "Epoch: 6 / 100 Batch:: 1500/1941 Loss: 1.077493667602539\n",
      "Epoch: 6 / 100 Batch:: 1600/1941 Loss: 1.1315419673919678\n",
      "Epoch: 6 / 100 Batch:: 1700/1941 Loss: 1.118431806564331\n",
      "Epoch: 6 / 100 Batch:: 1800/1941 Loss: 1.1401913166046143\n",
      "Epoch: 6 / 100 Batch:: 1900/1941 Loss: 1.0427451133728027\n",
      "Saving Checkpoint\n",
      "Epoch: 7 / 100 Batch:: 0/1941 Loss: 1.1766266822814941\n"
     ]
    },
    {
     "name": "stdout",
     "output_type": "stream",
     "text": [
      "Epoch: 7 / 100 Batch:: 100/1941 Loss: 1.0434143543243408\n",
      "Epoch: 7 / 100 Batch:: 200/1941 Loss: 1.1157889366149902\n",
      "Epoch: 7 / 100 Batch:: 300/1941 Loss: 1.1004915237426758\n",
      "Epoch: 7 / 100 Batch:: 400/1941 Loss: 1.1092572212219238\n",
      "Epoch: 7 / 100 Batch:: 500/1941 Loss: 1.0425057411193848\n",
      "Epoch: 7 / 100 Batch:: 600/1941 Loss: 1.1646466255187988\n",
      "Epoch: 7 / 100 Batch:: 700/1941 Loss: 1.2260366678237915\n",
      "Epoch: 7 / 100 Batch:: 800/1941 Loss: 1.0710195302963257\n",
      "Epoch: 7 / 100 Batch:: 900/1941 Loss: 1.1834020614624023\n",
      "Epoch: 7 / 100 Batch:: 1000/1941 Loss: 1.120373010635376\n",
      "Epoch: 7 / 100 Batch:: 1100/1941 Loss: 1.0569682121276855\n",
      "Epoch: 7 / 100 Batch:: 1200/1941 Loss: 1.0006213188171387\n",
      "Epoch: 7 / 100 Batch:: 1300/1941 Loss: 1.0153629779815674\n",
      "Epoch: 7 / 100 Batch:: 1400/1941 Loss: 1.0825778245925903\n",
      "Epoch: 7 / 100 Batch:: 1500/1941 Loss: 1.0933082103729248\n",
      "Epoch: 7 / 100 Batch:: 1600/1941 Loss: 1.0331523418426514\n",
      "Epoch: 7 / 100 Batch:: 1700/1941 Loss: 1.1380524635314941\n",
      "Epoch: 7 / 100 Batch:: 1800/1941 Loss: 1.0500261783599854\n",
      "Epoch: 7 / 100 Batch:: 1900/1941 Loss: 1.0379093885421753\n",
      "Saving Checkpoint\n",
      "Epoch: 8 / 100 Batch:: 0/1941 Loss: 1.0982435941696167\n",
      "Epoch: 8 / 100 Batch:: 100/1941 Loss: 1.0290029048919678\n",
      "Epoch: 8 / 100 Batch:: 200/1941 Loss: 1.0594735145568848\n",
      "Epoch: 8 / 100 Batch:: 300/1941 Loss: 1.1186836957931519\n",
      "Epoch: 8 / 100 Batch:: 400/1941 Loss: 1.0324287414550781\n",
      "Epoch: 8 / 100 Batch:: 500/1941 Loss: 1.03938889503479\n",
      "Epoch: 8 / 100 Batch:: 600/1941 Loss: 1.1034821271896362\n",
      "Epoch: 8 / 100 Batch:: 700/1941 Loss: 1.0268604755401611\n",
      "Epoch: 8 / 100 Batch:: 800/1941 Loss: 1.081697702407837\n",
      "Epoch: 8 / 100 Batch:: 900/1941 Loss: 1.114439606666565\n",
      "Epoch: 8 / 100 Batch:: 1000/1941 Loss: 1.144985556602478\n",
      "Epoch: 8 / 100 Batch:: 1100/1941 Loss: 1.1624482870101929\n",
      "Epoch: 8 / 100 Batch:: 1200/1941 Loss: 1.0508126020431519\n",
      "Epoch: 8 / 100 Batch:: 1300/1941 Loss: 1.0767316818237305\n",
      "Epoch: 8 / 100 Batch:: 1400/1941 Loss: 1.148582935333252\n",
      "Epoch: 8 / 100 Batch:: 1500/1941 Loss: 1.0506596565246582\n",
      "Epoch: 8 / 100 Batch:: 1600/1941 Loss: 1.1447319984436035\n",
      "Epoch: 8 / 100 Batch:: 1700/1941 Loss: 1.010765552520752\n",
      "Epoch: 8 / 100 Batch:: 1800/1941 Loss: 1.0881441831588745\n",
      "Epoch: 8 / 100 Batch:: 1900/1941 Loss: 1.0283408164978027\n",
      "Saving Checkpoint\n",
      "Epoch: 9 / 100 Batch:: 0/1941 Loss: 1.141681432723999\n",
      "Epoch: 9 / 100 Batch:: 100/1941 Loss: 1.0414986610412598\n"
     ]
    },
    {
     "ename": "KeyboardInterrupt",
     "evalue": "",
     "output_type": "error",
     "traceback": [
      "\u001b[0;31m---------------------------------------------------------------------------\u001b[0m",
      "\u001b[0;31mKeyboardInterrupt\u001b[0m                         Traceback (most recent call last)",
      "\u001b[0;32m<ipython-input-24-966e427f2b58>\u001b[0m in \u001b[0;36m<module>\u001b[0;34m\u001b[0m\n\u001b[1;32m      2\u001b[0m     \u001b[0mcheckpoint\u001b[0m \u001b[0;34m=\u001b[0m \u001b[0;34m{\u001b[0m\u001b[0;34m'state_dict'\u001b[0m\u001b[0;34m:\u001b[0m \u001b[0mmodel\u001b[0m\u001b[0;34m.\u001b[0m\u001b[0mstate_dict\u001b[0m\u001b[0;34m(\u001b[0m\u001b[0;34m)\u001b[0m\u001b[0;34m}\u001b[0m\u001b[0;34m\u001b[0m\u001b[0;34m\u001b[0m\u001b[0m\n\u001b[1;32m      3\u001b[0m     \u001b[0msave_checkpoint\u001b[0m\u001b[0;34m(\u001b[0m\u001b[0mcheckpoint\u001b[0m\u001b[0;34m)\u001b[0m\u001b[0;34m\u001b[0m\u001b[0;34m\u001b[0m\u001b[0m\n\u001b[0;32m----> 4\u001b[0;31m     \u001b[0;32mfor\u001b[0m \u001b[0midx\u001b[0m\u001b[0;34m,\u001b[0m \u001b[0;34m(\u001b[0m\u001b[0msource\u001b[0m\u001b[0;34m,\u001b[0m \u001b[0mtarget\u001b[0m\u001b[0;34m)\u001b[0m \u001b[0;32min\u001b[0m \u001b[0menumerate\u001b[0m\u001b[0;34m(\u001b[0m\u001b[0mframe_loader\u001b[0m\u001b[0;34m)\u001b[0m\u001b[0;34m:\u001b[0m\u001b[0;34m\u001b[0m\u001b[0;34m\u001b[0m\u001b[0m\n\u001b[0m\u001b[1;32m      5\u001b[0m         \u001b[0moptimizer\u001b[0m\u001b[0;34m.\u001b[0m\u001b[0mzero_grad\u001b[0m\u001b[0;34m(\u001b[0m\u001b[0;34m)\u001b[0m\u001b[0;34m\u001b[0m\u001b[0;34m\u001b[0m\u001b[0m\n\u001b[1;32m      6\u001b[0m \u001b[0;34m\u001b[0m\u001b[0m\n",
      "\u001b[0;32m~/anaconda3/envs/dance/lib/python3.7/site-packages/torch/utils/data/dataloader.py\u001b[0m in \u001b[0;36m__next__\u001b[0;34m(self)\u001b[0m\n\u001b[1;32m    361\u001b[0m \u001b[0;34m\u001b[0m\u001b[0m\n\u001b[1;32m    362\u001b[0m     \u001b[0;32mdef\u001b[0m \u001b[0m__next__\u001b[0m\u001b[0;34m(\u001b[0m\u001b[0mself\u001b[0m\u001b[0;34m)\u001b[0m\u001b[0;34m:\u001b[0m\u001b[0;34m\u001b[0m\u001b[0;34m\u001b[0m\u001b[0m\n\u001b[0;32m--> 363\u001b[0;31m         \u001b[0mdata\u001b[0m \u001b[0;34m=\u001b[0m \u001b[0mself\u001b[0m\u001b[0;34m.\u001b[0m\u001b[0m_next_data\u001b[0m\u001b[0;34m(\u001b[0m\u001b[0;34m)\u001b[0m\u001b[0;34m\u001b[0m\u001b[0;34m\u001b[0m\u001b[0m\n\u001b[0m\u001b[1;32m    364\u001b[0m         \u001b[0mself\u001b[0m\u001b[0;34m.\u001b[0m\u001b[0m_num_yielded\u001b[0m \u001b[0;34m+=\u001b[0m \u001b[0;36m1\u001b[0m\u001b[0;34m\u001b[0m\u001b[0;34m\u001b[0m\u001b[0m\n\u001b[1;32m    365\u001b[0m         \u001b[0;32mif\u001b[0m \u001b[0mself\u001b[0m\u001b[0;34m.\u001b[0m\u001b[0m_dataset_kind\u001b[0m \u001b[0;34m==\u001b[0m \u001b[0m_DatasetKind\u001b[0m\u001b[0;34m.\u001b[0m\u001b[0mIterable\u001b[0m \u001b[0;32mand\u001b[0m\u001b[0;31m \u001b[0m\u001b[0;31m\\\u001b[0m\u001b[0;34m\u001b[0m\u001b[0;34m\u001b[0m\u001b[0m\n",
      "\u001b[0;32m~/anaconda3/envs/dance/lib/python3.7/site-packages/torch/utils/data/dataloader.py\u001b[0m in \u001b[0;36m_next_data\u001b[0;34m(self)\u001b[0m\n\u001b[1;32m    401\u001b[0m     \u001b[0;32mdef\u001b[0m \u001b[0m_next_data\u001b[0m\u001b[0;34m(\u001b[0m\u001b[0mself\u001b[0m\u001b[0;34m)\u001b[0m\u001b[0;34m:\u001b[0m\u001b[0;34m\u001b[0m\u001b[0;34m\u001b[0m\u001b[0m\n\u001b[1;32m    402\u001b[0m         \u001b[0mindex\u001b[0m \u001b[0;34m=\u001b[0m \u001b[0mself\u001b[0m\u001b[0;34m.\u001b[0m\u001b[0m_next_index\u001b[0m\u001b[0;34m(\u001b[0m\u001b[0;34m)\u001b[0m  \u001b[0;31m# may raise StopIteration\u001b[0m\u001b[0;34m\u001b[0m\u001b[0;34m\u001b[0m\u001b[0m\n\u001b[0;32m--> 403\u001b[0;31m         \u001b[0mdata\u001b[0m \u001b[0;34m=\u001b[0m \u001b[0mself\u001b[0m\u001b[0;34m.\u001b[0m\u001b[0m_dataset_fetcher\u001b[0m\u001b[0;34m.\u001b[0m\u001b[0mfetch\u001b[0m\u001b[0;34m(\u001b[0m\u001b[0mindex\u001b[0m\u001b[0;34m)\u001b[0m  \u001b[0;31m# may raise StopIteration\u001b[0m\u001b[0;34m\u001b[0m\u001b[0;34m\u001b[0m\u001b[0m\n\u001b[0m\u001b[1;32m    404\u001b[0m         \u001b[0;32mif\u001b[0m \u001b[0mself\u001b[0m\u001b[0;34m.\u001b[0m\u001b[0m_pin_memory\u001b[0m\u001b[0;34m:\u001b[0m\u001b[0;34m\u001b[0m\u001b[0;34m\u001b[0m\u001b[0m\n\u001b[1;32m    405\u001b[0m             \u001b[0mdata\u001b[0m \u001b[0;34m=\u001b[0m \u001b[0m_utils\u001b[0m\u001b[0;34m.\u001b[0m\u001b[0mpin_memory\u001b[0m\u001b[0;34m.\u001b[0m\u001b[0mpin_memory\u001b[0m\u001b[0;34m(\u001b[0m\u001b[0mdata\u001b[0m\u001b[0;34m)\u001b[0m\u001b[0;34m\u001b[0m\u001b[0;34m\u001b[0m\u001b[0m\n",
      "\u001b[0;32m~/anaconda3/envs/dance/lib/python3.7/site-packages/torch/utils/data/_utils/fetch.py\u001b[0m in \u001b[0;36mfetch\u001b[0;34m(self, possibly_batched_index)\u001b[0m\n\u001b[1;32m     42\u001b[0m     \u001b[0;32mdef\u001b[0m \u001b[0mfetch\u001b[0m\u001b[0;34m(\u001b[0m\u001b[0mself\u001b[0m\u001b[0;34m,\u001b[0m \u001b[0mpossibly_batched_index\u001b[0m\u001b[0;34m)\u001b[0m\u001b[0;34m:\u001b[0m\u001b[0;34m\u001b[0m\u001b[0;34m\u001b[0m\u001b[0m\n\u001b[1;32m     43\u001b[0m         \u001b[0;32mif\u001b[0m \u001b[0mself\u001b[0m\u001b[0;34m.\u001b[0m\u001b[0mauto_collation\u001b[0m\u001b[0;34m:\u001b[0m\u001b[0;34m\u001b[0m\u001b[0;34m\u001b[0m\u001b[0m\n\u001b[0;32m---> 44\u001b[0;31m             \u001b[0mdata\u001b[0m \u001b[0;34m=\u001b[0m \u001b[0;34m[\u001b[0m\u001b[0mself\u001b[0m\u001b[0;34m.\u001b[0m\u001b[0mdataset\u001b[0m\u001b[0;34m[\u001b[0m\u001b[0midx\u001b[0m\u001b[0;34m]\u001b[0m \u001b[0;32mfor\u001b[0m \u001b[0midx\u001b[0m \u001b[0;32min\u001b[0m \u001b[0mpossibly_batched_index\u001b[0m\u001b[0;34m]\u001b[0m\u001b[0;34m\u001b[0m\u001b[0;34m\u001b[0m\u001b[0m\n\u001b[0m\u001b[1;32m     45\u001b[0m         \u001b[0;32melse\u001b[0m\u001b[0;34m:\u001b[0m\u001b[0;34m\u001b[0m\u001b[0;34m\u001b[0m\u001b[0m\n\u001b[1;32m     46\u001b[0m             \u001b[0mdata\u001b[0m \u001b[0;34m=\u001b[0m \u001b[0mself\u001b[0m\u001b[0;34m.\u001b[0m\u001b[0mdataset\u001b[0m\u001b[0;34m[\u001b[0m\u001b[0mpossibly_batched_index\u001b[0m\u001b[0;34m]\u001b[0m\u001b[0;34m\u001b[0m\u001b[0;34m\u001b[0m\u001b[0m\n",
      "\u001b[0;32m~/anaconda3/envs/dance/lib/python3.7/site-packages/torch/utils/data/_utils/fetch.py\u001b[0m in \u001b[0;36m<listcomp>\u001b[0;34m(.0)\u001b[0m\n\u001b[1;32m     42\u001b[0m     \u001b[0;32mdef\u001b[0m \u001b[0mfetch\u001b[0m\u001b[0;34m(\u001b[0m\u001b[0mself\u001b[0m\u001b[0;34m,\u001b[0m \u001b[0mpossibly_batched_index\u001b[0m\u001b[0;34m)\u001b[0m\u001b[0;34m:\u001b[0m\u001b[0;34m\u001b[0m\u001b[0;34m\u001b[0m\u001b[0m\n\u001b[1;32m     43\u001b[0m         \u001b[0;32mif\u001b[0m \u001b[0mself\u001b[0m\u001b[0;34m.\u001b[0m\u001b[0mauto_collation\u001b[0m\u001b[0;34m:\u001b[0m\u001b[0;34m\u001b[0m\u001b[0;34m\u001b[0m\u001b[0m\n\u001b[0;32m---> 44\u001b[0;31m             \u001b[0mdata\u001b[0m \u001b[0;34m=\u001b[0m \u001b[0;34m[\u001b[0m\u001b[0mself\u001b[0m\u001b[0;34m.\u001b[0m\u001b[0mdataset\u001b[0m\u001b[0;34m[\u001b[0m\u001b[0midx\u001b[0m\u001b[0;34m]\u001b[0m \u001b[0;32mfor\u001b[0m \u001b[0midx\u001b[0m \u001b[0;32min\u001b[0m \u001b[0mpossibly_batched_index\u001b[0m\u001b[0;34m]\u001b[0m\u001b[0;34m\u001b[0m\u001b[0;34m\u001b[0m\u001b[0m\n\u001b[0m\u001b[1;32m     45\u001b[0m         \u001b[0;32melse\u001b[0m\u001b[0;34m:\u001b[0m\u001b[0;34m\u001b[0m\u001b[0;34m\u001b[0m\u001b[0m\n\u001b[1;32m     46\u001b[0m             \u001b[0mdata\u001b[0m \u001b[0;34m=\u001b[0m \u001b[0mself\u001b[0m\u001b[0;34m.\u001b[0m\u001b[0mdataset\u001b[0m\u001b[0;34m[\u001b[0m\u001b[0mpossibly_batched_index\u001b[0m\u001b[0;34m]\u001b[0m\u001b[0;34m\u001b[0m\u001b[0;34m\u001b[0m\u001b[0m\n",
      "\u001b[0;32m<ipython-input-5-95e4415c9d9e>\u001b[0m in \u001b[0;36m__getitem__\u001b[0;34m(self, idx)\u001b[0m\n\u001b[1;32m     17\u001b[0m         \u001b[0;32mwith\u001b[0m \u001b[0mtorch\u001b[0m\u001b[0;34m.\u001b[0m\u001b[0mno_grad\u001b[0m\u001b[0;34m(\u001b[0m\u001b[0;34m)\u001b[0m\u001b[0;34m:\u001b[0m\u001b[0;34m\u001b[0m\u001b[0;34m\u001b[0m\u001b[0m\n\u001b[1;32m     18\u001b[0m             \u001b[0;32mfor\u001b[0m \u001b[0mimage_location\u001b[0m \u001b[0;32min\u001b[0m \u001b[0mimage_locations\u001b[0m\u001b[0;34m:\u001b[0m\u001b[0;34m\u001b[0m\u001b[0;34m\u001b[0m\u001b[0m\n\u001b[0;32m---> 19\u001b[0;31m                 \u001b[0mx\u001b[0m \u001b[0;34m=\u001b[0m \u001b[0;34m(\u001b[0m\u001b[0mself\u001b[0m\u001b[0;34m.\u001b[0m\u001b[0mtransforms\u001b[0m\u001b[0;34m(\u001b[0m\u001b[0mImage\u001b[0m\u001b[0;34m.\u001b[0m\u001b[0mopen\u001b[0m\u001b[0;34m(\u001b[0m\u001b[0mimage_location\u001b[0m\u001b[0;34m)\u001b[0m\u001b[0;34m)\u001b[0m \u001b[0;34m>\u001b[0m \u001b[0;36m0.5\u001b[0m\u001b[0;34m)\u001b[0m\u001b[0;34m.\u001b[0m\u001b[0mfloat\u001b[0m\u001b[0;34m(\u001b[0m\u001b[0;34m)\u001b[0m\u001b[0;34m.\u001b[0m\u001b[0mview\u001b[0m\u001b[0;34m(\u001b[0m\u001b[0;36m1\u001b[0m\u001b[0;34m,\u001b[0m \u001b[0;36m1\u001b[0m\u001b[0;34m,\u001b[0m \u001b[0;36m64\u001b[0m\u001b[0;34m,\u001b[0m \u001b[0;36m64\u001b[0m\u001b[0;34m)\u001b[0m\u001b[0;34m\u001b[0m\u001b[0;34m\u001b[0m\u001b[0m\n\u001b[0m\u001b[1;32m     20\u001b[0m                 \u001b[0mimages\u001b[0m\u001b[0;34m[\u001b[0m\u001b[0mi\u001b[0m\u001b[0;34m]\u001b[0m \u001b[0;34m=\u001b[0m \u001b[0mvae\u001b[0m\u001b[0;34m.\u001b[0m\u001b[0mencoder\u001b[0m\u001b[0;34m(\u001b[0m\u001b[0mx\u001b[0m\u001b[0;34m.\u001b[0m\u001b[0mto\u001b[0m\u001b[0;34m(\u001b[0m\u001b[0mdevice\u001b[0m\u001b[0;34m)\u001b[0m\u001b[0;34m)\u001b[0m\u001b[0;34m[\u001b[0m\u001b[0;36m0\u001b[0m\u001b[0;34m]\u001b[0m\u001b[0;34m\u001b[0m\u001b[0;34m\u001b[0m\u001b[0m\n\u001b[1;32m     21\u001b[0m                 \u001b[0mi\u001b[0m \u001b[0;34m+=\u001b[0m \u001b[0;36m1\u001b[0m\u001b[0;34m\u001b[0m\u001b[0;34m\u001b[0m\u001b[0m\n",
      "\u001b[0;32m~/anaconda3/envs/dance/lib/python3.7/site-packages/torchvision/transforms/transforms.py\u001b[0m in \u001b[0;36m__call__\u001b[0;34m(self, img)\u001b[0m\n\u001b[1;32m     59\u001b[0m     \u001b[0;32mdef\u001b[0m \u001b[0m__call__\u001b[0m\u001b[0;34m(\u001b[0m\u001b[0mself\u001b[0m\u001b[0;34m,\u001b[0m \u001b[0mimg\u001b[0m\u001b[0;34m)\u001b[0m\u001b[0;34m:\u001b[0m\u001b[0;34m\u001b[0m\u001b[0;34m\u001b[0m\u001b[0m\n\u001b[1;32m     60\u001b[0m         \u001b[0;32mfor\u001b[0m \u001b[0mt\u001b[0m \u001b[0;32min\u001b[0m \u001b[0mself\u001b[0m\u001b[0;34m.\u001b[0m\u001b[0mtransforms\u001b[0m\u001b[0;34m:\u001b[0m\u001b[0;34m\u001b[0m\u001b[0;34m\u001b[0m\u001b[0m\n\u001b[0;32m---> 61\u001b[0;31m             \u001b[0mimg\u001b[0m \u001b[0;34m=\u001b[0m \u001b[0mt\u001b[0m\u001b[0;34m(\u001b[0m\u001b[0mimg\u001b[0m\u001b[0;34m)\u001b[0m\u001b[0;34m\u001b[0m\u001b[0;34m\u001b[0m\u001b[0m\n\u001b[0m\u001b[1;32m     62\u001b[0m         \u001b[0;32mreturn\u001b[0m \u001b[0mimg\u001b[0m\u001b[0;34m\u001b[0m\u001b[0;34m\u001b[0m\u001b[0m\n\u001b[1;32m     63\u001b[0m \u001b[0;34m\u001b[0m\u001b[0m\n",
      "\u001b[0;32m~/anaconda3/envs/dance/lib/python3.7/site-packages/torchvision/transforms/transforms.py\u001b[0m in \u001b[0;36m__call__\u001b[0;34m(self, pic)\u001b[0m\n\u001b[1;32m     90\u001b[0m             \u001b[0mTensor\u001b[0m\u001b[0;34m:\u001b[0m \u001b[0mConverted\u001b[0m \u001b[0mimage\u001b[0m\u001b[0;34m.\u001b[0m\u001b[0;34m\u001b[0m\u001b[0;34m\u001b[0m\u001b[0m\n\u001b[1;32m     91\u001b[0m         \"\"\"\n\u001b[0;32m---> 92\u001b[0;31m         \u001b[0;32mreturn\u001b[0m \u001b[0mF\u001b[0m\u001b[0;34m.\u001b[0m\u001b[0mto_tensor\u001b[0m\u001b[0;34m(\u001b[0m\u001b[0mpic\u001b[0m\u001b[0;34m)\u001b[0m\u001b[0;34m\u001b[0m\u001b[0;34m\u001b[0m\u001b[0m\n\u001b[0m\u001b[1;32m     93\u001b[0m \u001b[0;34m\u001b[0m\u001b[0m\n\u001b[1;32m     94\u001b[0m     \u001b[0;32mdef\u001b[0m \u001b[0m__repr__\u001b[0m\u001b[0;34m(\u001b[0m\u001b[0mself\u001b[0m\u001b[0;34m)\u001b[0m\u001b[0;34m:\u001b[0m\u001b[0;34m\u001b[0m\u001b[0;34m\u001b[0m\u001b[0m\n",
      "\u001b[0;32m~/anaconda3/envs/dance/lib/python3.7/site-packages/torchvision/transforms/functional.py\u001b[0m in \u001b[0;36mto_tensor\u001b[0;34m(pic)\u001b[0m\n\u001b[1;32m     76\u001b[0m         \u001b[0mimg\u001b[0m \u001b[0;34m=\u001b[0m \u001b[0;36m255\u001b[0m \u001b[0;34m*\u001b[0m \u001b[0mtorch\u001b[0m\u001b[0;34m.\u001b[0m\u001b[0mfrom_numpy\u001b[0m\u001b[0;34m(\u001b[0m\u001b[0mnp\u001b[0m\u001b[0;34m.\u001b[0m\u001b[0marray\u001b[0m\u001b[0;34m(\u001b[0m\u001b[0mpic\u001b[0m\u001b[0;34m,\u001b[0m \u001b[0mnp\u001b[0m\u001b[0;34m.\u001b[0m\u001b[0muint8\u001b[0m\u001b[0;34m,\u001b[0m \u001b[0mcopy\u001b[0m\u001b[0;34m=\u001b[0m\u001b[0;32mFalse\u001b[0m\u001b[0;34m)\u001b[0m\u001b[0;34m)\u001b[0m\u001b[0;34m\u001b[0m\u001b[0;34m\u001b[0m\u001b[0m\n\u001b[1;32m     77\u001b[0m     \u001b[0;32melse\u001b[0m\u001b[0;34m:\u001b[0m\u001b[0;34m\u001b[0m\u001b[0;34m\u001b[0m\u001b[0m\n\u001b[0;32m---> 78\u001b[0;31m         \u001b[0mimg\u001b[0m \u001b[0;34m=\u001b[0m \u001b[0mtorch\u001b[0m\u001b[0;34m.\u001b[0m\u001b[0mByteTensor\u001b[0m\u001b[0;34m(\u001b[0m\u001b[0mtorch\u001b[0m\u001b[0;34m.\u001b[0m\u001b[0mByteStorage\u001b[0m\u001b[0;34m.\u001b[0m\u001b[0mfrom_buffer\u001b[0m\u001b[0;34m(\u001b[0m\u001b[0mpic\u001b[0m\u001b[0;34m.\u001b[0m\u001b[0mtobytes\u001b[0m\u001b[0;34m(\u001b[0m\u001b[0;34m)\u001b[0m\u001b[0;34m)\u001b[0m\u001b[0;34m)\u001b[0m\u001b[0;34m\u001b[0m\u001b[0;34m\u001b[0m\u001b[0m\n\u001b[0m\u001b[1;32m     79\u001b[0m \u001b[0;34m\u001b[0m\u001b[0m\n\u001b[1;32m     80\u001b[0m     \u001b[0mimg\u001b[0m \u001b[0;34m=\u001b[0m \u001b[0mimg\u001b[0m\u001b[0;34m.\u001b[0m\u001b[0mview\u001b[0m\u001b[0;34m(\u001b[0m\u001b[0mpic\u001b[0m\u001b[0;34m.\u001b[0m\u001b[0msize\u001b[0m\u001b[0;34m[\u001b[0m\u001b[0;36m1\u001b[0m\u001b[0;34m]\u001b[0m\u001b[0;34m,\u001b[0m \u001b[0mpic\u001b[0m\u001b[0;34m.\u001b[0m\u001b[0msize\u001b[0m\u001b[0;34m[\u001b[0m\u001b[0;36m0\u001b[0m\u001b[0;34m]\u001b[0m\u001b[0;34m,\u001b[0m \u001b[0mlen\u001b[0m\u001b[0;34m(\u001b[0m\u001b[0mpic\u001b[0m\u001b[0;34m.\u001b[0m\u001b[0mgetbands\u001b[0m\u001b[0;34m(\u001b[0m\u001b[0;34m)\u001b[0m\u001b[0;34m)\u001b[0m\u001b[0;34m)\u001b[0m\u001b[0;34m\u001b[0m\u001b[0;34m\u001b[0m\u001b[0m\n",
      "\u001b[0;31mKeyboardInterrupt\u001b[0m: "
     ]
    }
   ],
   "source": [
    "for epoch in range(num_epochs):\n",
    "    checkpoint = {'state_dict': model.state_dict()}\n",
    "    save_checkpoint(checkpoint)\n",
    "    for idx, (source, target) in enumerate(frame_loader):\n",
    "        optimizer.zero_grad()\n",
    "        \n",
    "        source, target = source.to(device), target.to(device)\n",
    "        \n",
    "        output = model(source, target, 0.15, False)\n",
    "        \n",
    "        loss1 = criterion(output[:, 0, :], target[:, 0, :])\n",
    "        \n",
    "        loss2 = criterion(output[:, 5, :], target[:, 5, :])\n",
    "        \n",
    "        loss3 = criterion(output[:, 10, :], target[:, 10, :])\n",
    "        \n",
    "        loss1 = criterion(output[:, 15, :], target[:, 15, :])\n",
    "        \n",
    "        loss4 = criterion(output[:, -1, :], target[:, -1, :])\n",
    "        \n",
    "        loss = loss1 + loss2 + loss3 + loss4\n",
    "\n",
    "        loss_hist.append(loss.item())\n",
    "\n",
    "        loss.backward()\n",
    "\n",
    "        torch.nn.utils.clip_grad_norm_(model.parameters(), max_norm=1)\n",
    "\n",
    "        optimizer.step()\n",
    "    \n",
    "    \n",
    "        if idx % 100 == 0:\n",
    "            print(f'Epoch: {epoch} / {num_epochs} Batch:: {idx}/{len(frame_loader)} Loss: {loss}')\n",
    "    mean_loss = sum(loss_hist)/len(loss_hist)\n",
    "    scheduler.step(mean_loss)"
   ]
  },
  {
   "cell_type": "code",
   "execution_count": null,
   "metadata": {},
   "outputs": [],
   "source": [
    "target.shape"
   ]
  },
  {
   "cell_type": "code",
   "execution_count": null,
   "metadata": {},
   "outputs": [],
   "source": []
  },
  {
   "cell_type": "code",
   "execution_count": 25,
   "metadata": {},
   "outputs": [
    {
     "data": {
      "image/png": "[encoded data removed]",
      "text/plain": [
       "<Figure size 432x288 with 1 Axes>"
      ]
     },
     "metadata": {
      "needs_background": "light"
     },
     "output_type": "display_data"
    }
   ],
   "source": [
    "plt.plot(loss_hist, label=\"Training loss\")\n",
    "plt.legend()\n",
    "plt.show()"
   ]
  },
  {
   "cell_type": "code",
   "execution_count": 26,
   "metadata": {},
   "outputs": [
    {
     "data": {
      "image/png": "[encoded data removed]",
      "text/plain": [
       "<Figure size 432x288 with 5 Axes>"
      ]
     },
     "metadata": {
      "needs_background": "light"
     },
     "output_type": "display_data"
    }
   ],
   "source": [
    "with torch.no_grad():\n",
    "    img = vae.decoder(torch.squeeze(target[8])).detach().cpu()\n",
    "    for i in range(5):\n",
    "        plt.subplot(1, 5, i+1)\n",
    "        plt.imshow(img[i].view(64, 64), cmap=\"gray\")"
   ]
  },
  {
   "cell_type": "code",
   "execution_count": 27,
   "metadata": {},
   "outputs": [
    {
     "data": {
      "image/png": "[encoded data removed]",
      "text/plain": [
       "<Figure size 432x288 with 10 Axes>"
      ]
     },
     "metadata": {
      "needs_background": "light"
     },
     "output_type": "display_data"
    }
   ],
   "source": [
    "with torch.no_grad():\n",
    "    img = vae.decoder(torch.squeeze(output[8])).detach().cpu()\n",
    "    for i in range(10):\n",
    "        plt.subplot(2, 5, i+1)\n",
    "        plt.imshow(img[i].view(64, 64), cmap=\"gray\")"
   ]
  },
  {
   "cell_type": "code",
   "execution_count": 22,
   "metadata": {},
   "outputs": [],
   "source": [
    "with torch.no_grad():\n",
    "    img_trg = vae.decoder(torch.squeeze(target[8])).detach().cpu()\n",
    "#     for i in range(seq_len_y):\n",
    "#         plt.subplot(2, seq_len_y/2, i+1)\n",
    "#         plt.imshow(img[i].view(64, 64), cmap=\"gray\")"
   ]
  },
  {
   "cell_type": "code",
   "execution_count": 23,
   "metadata": {},
   "outputs": [],
   "source": [
    "with torch.no_grad():\n",
    "    img_pred = vae.decoder(torch.squeeze(output[8])).detach().cpu()\n",
    "#     for i in range(seq_len_y):\n",
    "#         plt.subplot(2, seq_len_y/2, i+1)\n",
    "#         plt.imshow(img_pred[i].view(64, 64), cmap=\"gray\")"
   ]
  },
  {
   "cell_type": "code",
   "execution_count": null,
   "metadata": {},
   "outputs": [],
   "source": []
  },
  {
   "cell_type": "code",
   "execution_count": 38,
   "metadata": {},
   "outputs": [],
   "source": [
    "torch.save(model.state_dict(), 'seq2seq-teach-2.pth')"
   ]
  },
  {
   "cell_type": "code",
   "execution_count": 39,
   "metadata": {},
   "outputs": [],
   "source": [
    "img_x = vae.decoder(torch.squeeze(source[8])).detach().cpu()\n",
    "\n",
    "for i in range(seq_len_x):\n",
    "    image = img_x[i]\n",
    "    image = FT.to_pil_image(image)\n",
    "    image.save(f'generated/seq2seq/{i}.png')"
   ]
  },
  {
   "cell_type": "code",
   "execution_count": 28,
   "metadata": {},
   "outputs": [],
   "source": [
    "for i in range(seq_len_y):\n",
    "    image = img_pred[i]\n",
    "    image = FT.to_pil_image(image)\n",
    "    image.save(f'generated/seq2seq/y_{20+i}.png')"
   ]
  },
  {
   "cell_type": "code",
   "execution_count": null,
   "metadata": {},
   "outputs": [],
   "source": []
  },
  {
   "cell_type": "code",
   "execution_count": 32,
   "metadata": {},
   "outputs": [],
   "source": [
    "import cv2\n",
    "import numpy as np\n",
    "import glob\n",
    "import os\n",
    "from os.path import isfile, join\n",
    "import re\n",
    "\n",
    "def Images2Video (pathIn, pathOut, frameSize):\n",
    "\n",
    "    # frameSize = (256, 256)\n",
    "    # i = 3\n",
    "    # pathIn = f'./generated/rnn/{i}/'\n",
    "    # pathOut = f'video{i}.avi'\n",
    "\n",
    "    files = [f for f in os.listdir(pathIn) if isfile(join(pathIn, f))]\n",
    "    files.sort(key=lambda f: int(re.sub('\\D', '', f)))\n",
    "\n",
    "    out = cv2.VideoWriter(pathOut,cv2.VideoWriter_fourcc(*'DIVX'), 20, frameSize)\n",
    "    print(files)\n",
    "    for filename in files:\n",
    "        img = cv2.imread(pathIn + filename)\n",
    "        out.write(img)\n",
    "\n",
    "    out.release()"
   ]
  },
  {
   "cell_type": "code",
   "execution_count": 30,
   "metadata": {},
   "outputs": [
    {
     "name": "stdout",
     "output_type": "stream",
     "text": [
      "['0.png', '1.png', '2.png', '3.png', '4.png', 'y_20.png', 'y_21.png', 'y_22.png', 'y_23.png', 'y_24.png', 'y_25.png', 'y_26.png', 'y_27.png', 'y_28.png', 'y_29.png', 'y_30.png', 'y_31.png', 'y_32.png', 'y_33.png', 'y_34.png', 'y_35.png', 'y_36.png', 'y_37.png', 'y_38.png', 'y_39.png']\n"
     ]
    }
   ],
   "source": [
    "Images2Video('generated/seq2seq/', 'generated/seq2seq/output.avi', (64, 64))"
   ]
  },
  {
   "cell_type": "code",
   "execution_count": 27,
   "metadata": {},
   "outputs": [],
   "source": [
    "# image_names = getSortedFramePaths('./Dance Data/SkeletonDataClean/Skeleton/', ['Test'])"
   ]
  },
  {
   "cell_type": "code",
   "execution_count": 28,
   "metadata": {},
   "outputs": [],
   "source": [
    "image_path = './Dance Data/SkeletonDataClean/Skeleton/'\n",
    "composed_transform = torchvision.transforms.Compose([transforms.Resize(image_size), transforms.Grayscale(num_output_channels=1), transforms.ToTensor()])\n",
    "\n",
    "class DanceFrameDataset(Dataset):\n",
    "    def __init__(self, image_path, transforms, seq_len_x, seq_len_y):\n",
    "        self.transforms = transforms\n",
    "        self.image_path = image_path\n",
    "        self.seq_len_x = seq_len_x\n",
    "        self.seq_len_y = seq_len_y\n",
    "        self.image_names = getSortedFramePaths(self.image_path, ['Test'])\n",
    "    def __len__ (self):\n",
    "            return len(self.image_names) - self.seq_len_x - self.seq_len_y\n",
    "    def __getitem__(self, idx):\n",
    "        image_locations = self.image_names[idx:idx+self.seq_len_x+self.seq_len_y]\n",
    "        images = torch.empty(self.seq_len_x+self.seq_len_y, 256)\n",
    "        i = 0\n",
    "        with torch.no_grad():\n",
    "            for image_location in image_locations:\n",
    "                x = (self.transforms(Image.open(image_location)) > 0.5).float().view(1, 1, 64, 64)\n",
    "                images[i] = vae.encoder(x.to(device))[0]\n",
    "                i += 1\n",
    "        \n",
    "\n",
    "        return images[0:self.seq_len_x], images[self.seq_len_x:self.seq_len_x+self.seq_len_y]\n",
    "    \n",
    "frame_dataset = DanceFrameDataset(image_path, composed_transform, seq_len_x, seq_len_y)\n",
    "train_loader = DataLoader(dataset=frame_dataset, batch_size=batch_size, shuffle=True, drop_last=True)"
   ]
  },
  {
   "cell_type": "code",
   "execution_count": 29,
   "metadata": {},
   "outputs": [
    {
     "data": {
      "text/plain": [
       "65"
      ]
     },
     "execution_count": 29,
     "metadata": {},
     "output_type": "execute_result"
    }
   ],
   "source": [
    "len(train_loader)"
   ]
  },
  {
   "cell_type": "code",
   "execution_count": 30,
   "metadata": {},
   "outputs": [],
   "source": [
    "test_output_folder = './Dance Data/SkeletonDataClean/Skeleton/TestOutput/'\n",
    "rnd = random.randint(0, 32)"
   ]
  },
  {
   "cell_type": "code",
   "execution_count": 34,
   "metadata": {},
   "outputs": [
    {
     "name": "stdout",
     "output_type": "stream",
     "text": [
      "['0.png', '1.png', '2.png', '3.png', '4.png', '20.png', '21.png', '22.png', '23.png', '24.png', '25.png', '26.png', '27.png', '28.png', '29.png', '30.png', '31.png', '32.png', '33.png', '34.png', '35.png', '36.png', '37.png', '38.png', '39.png']\n",
      "['0.png', '1.png', '2.png', '3.png', '4.png', '20.png', '21.png', '22.png', '23.png', '24.png', '25.png', '26.png', '27.png', '28.png', '29.png', '30.png', '31.png', '32.png', '33.png', '34.png', '35.png', '36.png', '37.png', '38.png', '39.png']\n",
      "['0.png', '1.png', '2.png', '3.png', '4.png', '20.png', '21.png', '22.png', '23.png', '24.png', '25.png', '26.png', '27.png', '28.png', '29.png', '30.png', '31.png', '32.png', '33.png', '34.png', '35.png', '36.png', '37.png', '38.png', '39.png']\n",
      "['0.png', '1.png', '2.png', '3.png', '4.png', '20.png', '21.png', '22.png', '23.png', '24.png', '25.png', '26.png', '27.png', '28.png', '29.png', '30.png', '31.png', '32.png', '33.png', '34.png', '35.png', '36.png', '37.png', '38.png', '39.png']\n",
      "['0.png', '1.png', '2.png', '3.png', '4.png', '20.png', '21.png', '22.png', '23.png', '24.png', '25.png', '26.png', '27.png', '28.png', '29.png', '30.png', '31.png', '32.png', '33.png', '34.png', '35.png', '36.png', '37.png', '38.png', '39.png']\n",
      "['0.png', '1.png', '2.png', '3.png', '4.png', '20.png', '21.png', '22.png', '23.png', '24.png', '25.png', '26.png', '27.png', '28.png', '29.png', '30.png', '31.png', '32.png', '33.png', '34.png', '35.png', '36.png', '37.png', '38.png', '39.png']\n",
      "['0.png', '1.png', '2.png', '3.png', '4.png', '20.png', '21.png', '22.png', '23.png', '24.png', '25.png', '26.png', '27.png', '28.png', '29.png', '30.png', '31.png', '32.png', '33.png', '34.png', '35.png', '36.png', '37.png', '38.png', '39.png']\n",
      "['0.png', '1.png', '2.png', '3.png', '4.png', '20.png', '21.png', '22.png', '23.png', '24.png', '25.png', '26.png', '27.png', '28.png', '29.png', '30.png', '31.png', '32.png', '33.png', '34.png', '35.png', '36.png', '37.png', '38.png', '39.png']\n",
      "['0.png', '1.png', '2.png', '3.png', '4.png', '20.png', '21.png', '22.png', '23.png', '24.png', '25.png', '26.png', '27.png', '28.png', '29.png', '30.png', '31.png', '32.png', '33.png', '34.png', '35.png', '36.png', '37.png', '38.png', '39.png']\n",
      "['0.png', '1.png', '2.png', '3.png', '4.png', '20.png', '21.png', '22.png', '23.png', '24.png', '25.png', '26.png', '27.png', '28.png', '29.png', '30.png', '31.png', '32.png', '33.png', '34.png', '35.png', '36.png', '37.png', '38.png', '39.png']\n",
      "['0.png', '1.png', '2.png', '3.png', '4.png', '20.png', '21.png', '22.png', '23.png', '24.png', '25.png', '26.png', '27.png', '28.png', '29.png', '30.png', '31.png', '32.png', '33.png', '34.png', '35.png', '36.png', '37.png', '38.png', '39.png']\n",
      "['0.png', '1.png', '2.png', '3.png', '4.png', '20.png', '21.png', '22.png', '23.png', '24.png', '25.png', '26.png', '27.png', '28.png', '29.png', '30.png', '31.png', '32.png', '33.png', '34.png', '35.png', '36.png', '37.png', '38.png', '39.png']\n",
      "['0.png', '1.png', '2.png', '3.png', '4.png', '20.png', '21.png', '22.png', '23.png', '24.png', '25.png', '26.png', '27.png', '28.png', '29.png', '30.png', '31.png', '32.png', '33.png', '34.png', '35.png', '36.png', '37.png', '38.png', '39.png']\n",
      "['0.png', '1.png', '2.png', '3.png', '4.png', '20.png', '21.png', '22.png', '23.png', '24.png', '25.png', '26.png', '27.png', '28.png', '29.png', '30.png', '31.png', '32.png', '33.png', '34.png', '35.png', '36.png', '37.png', '38.png', '39.png']\n",
      "['0.png', '1.png', '2.png', '3.png', '4.png', '20.png', '21.png', '22.png', '23.png', '24.png', '25.png', '26.png', '27.png', '28.png', '29.png', '30.png', '31.png', '32.png', '33.png', '34.png', '35.png', '36.png', '37.png', '38.png', '39.png']\n",
      "['0.png', '1.png', '2.png', '3.png', '4.png', '20.png', '21.png', '22.png', '23.png', '24.png', '25.png', '26.png', '27.png', '28.png', '29.png', '30.png', '31.png', '32.png', '33.png', '34.png', '35.png', '36.png', '37.png', '38.png', '39.png']\n",
      "['0.png', '1.png', '2.png', '3.png', '4.png', '20.png', '21.png', '22.png', '23.png', '24.png', '25.png', '26.png', '27.png', '28.png', '29.png', '30.png', '31.png', '32.png', '33.png', '34.png', '35.png', '36.png', '37.png', '38.png', '39.png']\n",
      "['0.png', '1.png', '2.png', '3.png', '4.png', '20.png', '21.png', '22.png', '23.png', '24.png', '25.png', '26.png', '27.png', '28.png', '29.png', '30.png', '31.png', '32.png', '33.png', '34.png', '35.png', '36.png', '37.png', '38.png', '39.png']\n",
      "['0.png', '1.png', '2.png', '3.png', '4.png', '20.png', '21.png', '22.png', '23.png', '24.png', '25.png', '26.png', '27.png', '28.png', '29.png', '30.png', '31.png', '32.png', '33.png', '34.png', '35.png', '36.png', '37.png', '38.png', '39.png']\n",
      "['0.png', '1.png', '2.png', '3.png', '4.png', '20.png', '21.png', '22.png', '23.png', '24.png', '25.png', '26.png', '27.png', '28.png', '29.png', '30.png', '31.png', '32.png', '33.png', '34.png', '35.png', '36.png', '37.png', '38.png', '39.png']\n",
      "['0.png', '1.png', '2.png', '3.png', '4.png', '20.png', '21.png', '22.png', '23.png', '24.png', '25.png', '26.png', '27.png', '28.png', '29.png', '30.png', '31.png', '32.png', '33.png', '34.png', '35.png', '36.png', '37.png', '38.png', '39.png']\n",
      "['0.png', '1.png', '2.png', '3.png', '4.png', '20.png', '21.png', '22.png', '23.png', '24.png', '25.png', '26.png', '27.png', '28.png', '29.png', '30.png', '31.png', '32.png', '33.png', '34.png', '35.png', '36.png', '37.png', '38.png', '39.png']\n",
      "['0.png', '1.png', '2.png', '3.png', '4.png', '20.png', '21.png', '22.png', '23.png', '24.png', '25.png', '26.png', '27.png', '28.png', '29.png', '30.png', '31.png', '32.png', '33.png', '34.png', '35.png', '36.png', '37.png', '38.png', '39.png']\n",
      "['0.png', '1.png', '2.png', '3.png', '4.png', '20.png', '21.png', '22.png', '23.png', '24.png', '25.png', '26.png', '27.png', '28.png', '29.png', '30.png', '31.png', '32.png', '33.png', '34.png', '35.png', '36.png', '37.png', '38.png', '39.png']\n",
      "['0.png', '1.png', '2.png', '3.png', '4.png', '20.png', '21.png', '22.png', '23.png', '24.png', '25.png', '26.png', '27.png', '28.png', '29.png', '30.png', '31.png', '32.png', '33.png', '34.png', '35.png', '36.png', '37.png', '38.png', '39.png']\n",
      "['0.png', '1.png', '2.png', '3.png', '4.png', '20.png', '21.png', '22.png', '23.png', '24.png', '25.png', '26.png', '27.png', '28.png', '29.png', '30.png', '31.png', '32.png', '33.png', '34.png', '35.png', '36.png', '37.png', '38.png', '39.png']\n",
      "['0.png', '1.png', '2.png', '3.png', '4.png', '20.png', '21.png', '22.png', '23.png', '24.png', '25.png', '26.png', '27.png', '28.png', '29.png', '30.png', '31.png', '32.png', '33.png', '34.png', '35.png', '36.png', '37.png', '38.png', '39.png']\n",
      "['0.png', '1.png', '2.png', '3.png', '4.png', '20.png', '21.png', '22.png', '23.png', '24.png', '25.png', '26.png', '27.png', '28.png', '29.png', '30.png', '31.png', '32.png', '33.png', '34.png', '35.png', '36.png', '37.png', '38.png', '39.png']\n",
      "['0.png', '1.png', '2.png', '3.png', '4.png', '20.png', '21.png', '22.png', '23.png', '24.png', '25.png', '26.png', '27.png', '28.png', '29.png', '30.png', '31.png', '32.png', '33.png', '34.png', '35.png', '36.png', '37.png', '38.png', '39.png']\n",
      "['0.png', '1.png', '2.png', '3.png', '4.png', '20.png', '21.png', '22.png', '23.png', '24.png', '25.png', '26.png', '27.png', '28.png', '29.png', '30.png', '31.png', '32.png', '33.png', '34.png', '35.png', '36.png', '37.png', '38.png', '39.png']\n",
      "['0.png', '1.png', '2.png', '3.png', '4.png', '20.png', '21.png', '22.png', '23.png', '24.png', '25.png', '26.png', '27.png', '28.png', '29.png', '30.png', '31.png', '32.png', '33.png', '34.png', '35.png', '36.png', '37.png', '38.png', '39.png']\n",
      "['0.png', '1.png', '2.png', '3.png', '4.png', '20.png', '21.png', '22.png', '23.png', '24.png', '25.png', '26.png', '27.png', '28.png', '29.png', '30.png', '31.png', '32.png', '33.png', '34.png', '35.png', '36.png', '37.png', '38.png', '39.png']\n",
      "['0.png', '1.png', '2.png', '3.png', '4.png', '20.png', '21.png', '22.png', '23.png', '24.png', '25.png', '26.png', '27.png', '28.png', '29.png', '30.png', '31.png', '32.png', '33.png', '34.png', '35.png', '36.png', '37.png', '38.png', '39.png']\n",
      "['0.png', '1.png', '2.png', '3.png', '4.png', '20.png', '21.png', '22.png', '23.png', '24.png', '25.png', '26.png', '27.png', '28.png', '29.png', '30.png', '31.png', '32.png', '33.png', '34.png', '35.png', '36.png', '37.png', '38.png', '39.png']\n"
     ]
    },
    {
     "name": "stdout",
     "output_type": "stream",
     "text": [
      "['0.png', '1.png', '2.png', '3.png', '4.png', '20.png', '21.png', '22.png', '23.png', '24.png', '25.png', '26.png', '27.png', '28.png', '29.png', '30.png', '31.png', '32.png', '33.png', '34.png', '35.png', '36.png', '37.png', '38.png', '39.png']\n",
      "['0.png', '1.png', '2.png', '3.png', '4.png', '20.png', '21.png', '22.png', '23.png', '24.png', '25.png', '26.png', '27.png', '28.png', '29.png', '30.png', '31.png', '32.png', '33.png', '34.png', '35.png', '36.png', '37.png', '38.png', '39.png']\n",
      "['0.png', '1.png', '2.png', '3.png', '4.png', '20.png', '21.png', '22.png', '23.png', '24.png', '25.png', '26.png', '27.png', '28.png', '29.png', '30.png', '31.png', '32.png', '33.png', '34.png', '35.png', '36.png', '37.png', '38.png', '39.png']\n",
      "['0.png', '1.png', '2.png', '3.png', '4.png', '20.png', '21.png', '22.png', '23.png', '24.png', '25.png', '26.png', '27.png', '28.png', '29.png', '30.png', '31.png', '32.png', '33.png', '34.png', '35.png', '36.png', '37.png', '38.png', '39.png']\n",
      "['0.png', '1.png', '2.png', '3.png', '4.png', '20.png', '21.png', '22.png', '23.png', '24.png', '25.png', '26.png', '27.png', '28.png', '29.png', '30.png', '31.png', '32.png', '33.png', '34.png', '35.png', '36.png', '37.png', '38.png', '39.png']\n",
      "['0.png', '1.png', '2.png', '3.png', '4.png', '20.png', '21.png', '22.png', '23.png', '24.png', '25.png', '26.png', '27.png', '28.png', '29.png', '30.png', '31.png', '32.png', '33.png', '34.png', '35.png', '36.png', '37.png', '38.png', '39.png']\n",
      "['0.png', '1.png', '2.png', '3.png', '4.png', '20.png', '21.png', '22.png', '23.png', '24.png', '25.png', '26.png', '27.png', '28.png', '29.png', '30.png', '31.png', '32.png', '33.png', '34.png', '35.png', '36.png', '37.png', '38.png', '39.png']\n",
      "['0.png', '1.png', '2.png', '3.png', '4.png', '20.png', '21.png', '22.png', '23.png', '24.png', '25.png', '26.png', '27.png', '28.png', '29.png', '30.png', '31.png', '32.png', '33.png', '34.png', '35.png', '36.png', '37.png', '38.png', '39.png']\n",
      "['0.png', '1.png', '2.png', '3.png', '4.png', '20.png', '21.png', '22.png', '23.png', '24.png', '25.png', '26.png', '27.png', '28.png', '29.png', '30.png', '31.png', '32.png', '33.png', '34.png', '35.png', '36.png', '37.png', '38.png', '39.png']\n",
      "['0.png', '1.png', '2.png', '3.png', '4.png', '20.png', '21.png', '22.png', '23.png', '24.png', '25.png', '26.png', '27.png', '28.png', '29.png', '30.png', '31.png', '32.png', '33.png', '34.png', '35.png', '36.png', '37.png', '38.png', '39.png']\n",
      "['0.png', '1.png', '2.png', '3.png', '4.png', '20.png', '21.png', '22.png', '23.png', '24.png', '25.png', '26.png', '27.png', '28.png', '29.png', '30.png', '31.png', '32.png', '33.png', '34.png', '35.png', '36.png', '37.png', '38.png', '39.png']\n",
      "['0.png', '1.png', '2.png', '3.png', '4.png', '20.png', '21.png', '22.png', '23.png', '24.png', '25.png', '26.png', '27.png', '28.png', '29.png', '30.png', '31.png', '32.png', '33.png', '34.png', '35.png', '36.png', '37.png', '38.png', '39.png']\n",
      "['0.png', '1.png', '2.png', '3.png', '4.png', '20.png', '21.png', '22.png', '23.png', '24.png', '25.png', '26.png', '27.png', '28.png', '29.png', '30.png', '31.png', '32.png', '33.png', '34.png', '35.png', '36.png', '37.png', '38.png', '39.png']\n",
      "['0.png', '1.png', '2.png', '3.png', '4.png', '20.png', '21.png', '22.png', '23.png', '24.png', '25.png', '26.png', '27.png', '28.png', '29.png', '30.png', '31.png', '32.png', '33.png', '34.png', '35.png', '36.png', '37.png', '38.png', '39.png']\n",
      "['0.png', '1.png', '2.png', '3.png', '4.png', '20.png', '21.png', '22.png', '23.png', '24.png', '25.png', '26.png', '27.png', '28.png', '29.png', '30.png', '31.png', '32.png', '33.png', '34.png', '35.png', '36.png', '37.png', '38.png', '39.png']\n",
      "['0.png', '1.png', '2.png', '3.png', '4.png', '20.png', '21.png', '22.png', '23.png', '24.png', '25.png', '26.png', '27.png', '28.png', '29.png', '30.png', '31.png', '32.png', '33.png', '34.png', '35.png', '36.png', '37.png', '38.png', '39.png']\n",
      "['0.png', '1.png', '2.png', '3.png', '4.png', '20.png', '21.png', '22.png', '23.png', '24.png', '25.png', '26.png', '27.png', '28.png', '29.png', '30.png', '31.png', '32.png', '33.png', '34.png', '35.png', '36.png', '37.png', '38.png', '39.png']\n",
      "['0.png', '1.png', '2.png', '3.png', '4.png', '20.png', '21.png', '22.png', '23.png', '24.png', '25.png', '26.png', '27.png', '28.png', '29.png', '30.png', '31.png', '32.png', '33.png', '34.png', '35.png', '36.png', '37.png', '38.png', '39.png']\n",
      "['0.png', '1.png', '2.png', '3.png', '4.png', '20.png', '21.png', '22.png', '23.png', '24.png', '25.png', '26.png', '27.png', '28.png', '29.png', '30.png', '31.png', '32.png', '33.png', '34.png', '35.png', '36.png', '37.png', '38.png', '39.png']\n",
      "['0.png', '1.png', '2.png', '3.png', '4.png', '20.png', '21.png', '22.png', '23.png', '24.png', '25.png', '26.png', '27.png', '28.png', '29.png', '30.png', '31.png', '32.png', '33.png', '34.png', '35.png', '36.png', '37.png', '38.png', '39.png']\n",
      "['0.png', '1.png', '2.png', '3.png', '4.png', '20.png', '21.png', '22.png', '23.png', '24.png', '25.png', '26.png', '27.png', '28.png', '29.png', '30.png', '31.png', '32.png', '33.png', '34.png', '35.png', '36.png', '37.png', '38.png', '39.png']\n",
      "['0.png', '1.png', '2.png', '3.png', '4.png', '20.png', '21.png', '22.png', '23.png', '24.png', '25.png', '26.png', '27.png', '28.png', '29.png', '30.png', '31.png', '32.png', '33.png', '34.png', '35.png', '36.png', '37.png', '38.png', '39.png']\n",
      "['0.png', '1.png', '2.png', '3.png', '4.png', '20.png', '21.png', '22.png', '23.png', '24.png', '25.png', '26.png', '27.png', '28.png', '29.png', '30.png', '31.png', '32.png', '33.png', '34.png', '35.png', '36.png', '37.png', '38.png', '39.png']\n",
      "['0.png', '1.png', '2.png', '3.png', '4.png', '20.png', '21.png', '22.png', '23.png', '24.png', '25.png', '26.png', '27.png', '28.png', '29.png', '30.png', '31.png', '32.png', '33.png', '34.png', '35.png', '36.png', '37.png', '38.png', '39.png']\n",
      "['0.png', '1.png', '2.png', '3.png', '4.png', '20.png', '21.png', '22.png', '23.png', '24.png', '25.png', '26.png', '27.png', '28.png', '29.png', '30.png', '31.png', '32.png', '33.png', '34.png', '35.png', '36.png', '37.png', '38.png', '39.png']\n",
      "['0.png', '1.png', '2.png', '3.png', '4.png', '20.png', '21.png', '22.png', '23.png', '24.png', '25.png', '26.png', '27.png', '28.png', '29.png', '30.png', '31.png', '32.png', '33.png', '34.png', '35.png', '36.png', '37.png', '38.png', '39.png']\n",
      "['0.png', '1.png', '2.png', '3.png', '4.png', '20.png', '21.png', '22.png', '23.png', '24.png', '25.png', '26.png', '27.png', '28.png', '29.png', '30.png', '31.png', '32.png', '33.png', '34.png', '35.png', '36.png', '37.png', '38.png', '39.png']\n",
      "['0.png', '1.png', '2.png', '3.png', '4.png', '20.png', '21.png', '22.png', '23.png', '24.png', '25.png', '26.png', '27.png', '28.png', '29.png', '30.png', '31.png', '32.png', '33.png', '34.png', '35.png', '36.png', '37.png', '38.png', '39.png']\n",
      "['0.png', '1.png', '2.png', '3.png', '4.png', '20.png', '21.png', '22.png', '23.png', '24.png', '25.png', '26.png', '27.png', '28.png', '29.png', '30.png', '31.png', '32.png', '33.png', '34.png', '35.png', '36.png', '37.png', '38.png', '39.png']\n",
      "['0.png', '1.png', '2.png', '3.png', '4.png', '20.png', '21.png', '22.png', '23.png', '24.png', '25.png', '26.png', '27.png', '28.png', '29.png', '30.png', '31.png', '32.png', '33.png', '34.png', '35.png', '36.png', '37.png', '38.png', '39.png']\n",
      "['0.png', '1.png', '2.png', '3.png', '4.png', '20.png', '21.png', '22.png', '23.png', '24.png', '25.png', '26.png', '27.png', '28.png', '29.png', '30.png', '31.png', '32.png', '33.png', '34.png', '35.png', '36.png', '37.png', '38.png', '39.png']\n",
      "['0.png', '1.png', '2.png', '3.png', '4.png', '20.png', '21.png', '22.png', '23.png', '24.png', '25.png', '26.png', '27.png', '28.png', '29.png', '30.png', '31.png', '32.png', '33.png', '34.png', '35.png', '36.png', '37.png', '38.png', '39.png']\n",
      "['0.png', '1.png', '2.png', '3.png', '4.png', '20.png', '21.png', '22.png', '23.png', '24.png', '25.png', '26.png', '27.png', '28.png', '29.png', '30.png', '31.png', '32.png', '33.png', '34.png', '35.png', '36.png', '37.png', '38.png', '39.png']\n",
      "['0.png', '1.png', '2.png', '3.png', '4.png', '20.png', '21.png', '22.png', '23.png', '24.png', '25.png', '26.png', '27.png', '28.png', '29.png', '30.png', '31.png', '32.png', '33.png', '34.png', '35.png', '36.png', '37.png', '38.png', '39.png']\n"
     ]
    },
    {
     "name": "stdout",
     "output_type": "stream",
     "text": [
      "['0.png', '1.png', '2.png', '3.png', '4.png', '20.png', '21.png', '22.png', '23.png', '24.png', '25.png', '26.png', '27.png', '28.png', '29.png', '30.png', '31.png', '32.png', '33.png', '34.png', '35.png', '36.png', '37.png', '38.png', '39.png']\n",
      "['0.png', '1.png', '2.png', '3.png', '4.png', '20.png', '21.png', '22.png', '23.png', '24.png', '25.png', '26.png', '27.png', '28.png', '29.png', '30.png', '31.png', '32.png', '33.png', '34.png', '35.png', '36.png', '37.png', '38.png', '39.png']\n",
      "['0.png', '1.png', '2.png', '3.png', '4.png', '20.png', '21.png', '22.png', '23.png', '24.png', '25.png', '26.png', '27.png', '28.png', '29.png', '30.png', '31.png', '32.png', '33.png', '34.png', '35.png', '36.png', '37.png', '38.png', '39.png']\n",
      "['0.png', '1.png', '2.png', '3.png', '4.png', '20.png', '21.png', '22.png', '23.png', '24.png', '25.png', '26.png', '27.png', '28.png', '29.png', '30.png', '31.png', '32.png', '33.png', '34.png', '35.png', '36.png', '37.png', '38.png', '39.png']\n",
      "['0.png', '1.png', '2.png', '3.png', '4.png', '20.png', '21.png', '22.png', '23.png', '24.png', '25.png', '26.png', '27.png', '28.png', '29.png', '30.png', '31.png', '32.png', '33.png', '34.png', '35.png', '36.png', '37.png', '38.png', '39.png']\n",
      "['0.png', '1.png', '2.png', '3.png', '4.png', '20.png', '21.png', '22.png', '23.png', '24.png', '25.png', '26.png', '27.png', '28.png', '29.png', '30.png', '31.png', '32.png', '33.png', '34.png', '35.png', '36.png', '37.png', '38.png', '39.png']\n",
      "['0.png', '1.png', '2.png', '3.png', '4.png', '20.png', '21.png', '22.png', '23.png', '24.png', '25.png', '26.png', '27.png', '28.png', '29.png', '30.png', '31.png', '32.png', '33.png', '34.png', '35.png', '36.png', '37.png', '38.png', '39.png']\n",
      "['0.png', '1.png', '2.png', '3.png', '4.png', '20.png', '21.png', '22.png', '23.png', '24.png', '25.png', '26.png', '27.png', '28.png', '29.png', '30.png', '31.png', '32.png', '33.png', '34.png', '35.png', '36.png', '37.png', '38.png', '39.png']\n",
      "['0.png', '1.png', '2.png', '3.png', '4.png', '20.png', '21.png', '22.png', '23.png', '24.png', '25.png', '26.png', '27.png', '28.png', '29.png', '30.png', '31.png', '32.png', '33.png', '34.png', '35.png', '36.png', '37.png', '38.png', '39.png']\n",
      "['0.png', '1.png', '2.png', '3.png', '4.png', '20.png', '21.png', '22.png', '23.png', '24.png', '25.png', '26.png', '27.png', '28.png', '29.png', '30.png', '31.png', '32.png', '33.png', '34.png', '35.png', '36.png', '37.png', '38.png', '39.png']\n",
      "['0.png', '1.png', '2.png', '3.png', '4.png', '20.png', '21.png', '22.png', '23.png', '24.png', '25.png', '26.png', '27.png', '28.png', '29.png', '30.png', '31.png', '32.png', '33.png', '34.png', '35.png', '36.png', '37.png', '38.png', '39.png']\n",
      "['0.png', '1.png', '2.png', '3.png', '4.png', '20.png', '21.png', '22.png', '23.png', '24.png', '25.png', '26.png', '27.png', '28.png', '29.png', '30.png', '31.png', '32.png', '33.png', '34.png', '35.png', '36.png', '37.png', '38.png', '39.png']\n",
      "['0.png', '1.png', '2.png', '3.png', '4.png', '20.png', '21.png', '22.png', '23.png', '24.png', '25.png', '26.png', '27.png', '28.png', '29.png', '30.png', '31.png', '32.png', '33.png', '34.png', '35.png', '36.png', '37.png', '38.png', '39.png']\n",
      "['0.png', '1.png', '2.png', '3.png', '4.png', '20.png', '21.png', '22.png', '23.png', '24.png', '25.png', '26.png', '27.png', '28.png', '29.png', '30.png', '31.png', '32.png', '33.png', '34.png', '35.png', '36.png', '37.png', '38.png', '39.png']\n",
      "['0.png', '1.png', '2.png', '3.png', '4.png', '20.png', '21.png', '22.png', '23.png', '24.png', '25.png', '26.png', '27.png', '28.png', '29.png', '30.png', '31.png', '32.png', '33.png', '34.png', '35.png', '36.png', '37.png', '38.png', '39.png']\n",
      "['0.png', '1.png', '2.png', '3.png', '4.png', '20.png', '21.png', '22.png', '23.png', '24.png', '25.png', '26.png', '27.png', '28.png', '29.png', '30.png', '31.png', '32.png', '33.png', '34.png', '35.png', '36.png', '37.png', '38.png', '39.png']\n",
      "['0.png', '1.png', '2.png', '3.png', '4.png', '20.png', '21.png', '22.png', '23.png', '24.png', '25.png', '26.png', '27.png', '28.png', '29.png', '30.png', '31.png', '32.png', '33.png', '34.png', '35.png', '36.png', '37.png', '38.png', '39.png']\n",
      "['0.png', '1.png', '2.png', '3.png', '4.png', '20.png', '21.png', '22.png', '23.png', '24.png', '25.png', '26.png', '27.png', '28.png', '29.png', '30.png', '31.png', '32.png', '33.png', '34.png', '35.png', '36.png', '37.png', '38.png', '39.png']\n",
      "['0.png', '1.png', '2.png', '3.png', '4.png', '20.png', '21.png', '22.png', '23.png', '24.png', '25.png', '26.png', '27.png', '28.png', '29.png', '30.png', '31.png', '32.png', '33.png', '34.png', '35.png', '36.png', '37.png', '38.png', '39.png']\n",
      "['0.png', '1.png', '2.png', '3.png', '4.png', '20.png', '21.png', '22.png', '23.png', '24.png', '25.png', '26.png', '27.png', '28.png', '29.png', '30.png', '31.png', '32.png', '33.png', '34.png', '35.png', '36.png', '37.png', '38.png', '39.png']\n",
      "['0.png', '1.png', '2.png', '3.png', '4.png', '20.png', '21.png', '22.png', '23.png', '24.png', '25.png', '26.png', '27.png', '28.png', '29.png', '30.png', '31.png', '32.png', '33.png', '34.png', '35.png', '36.png', '37.png', '38.png', '39.png']\n",
      "['0.png', '1.png', '2.png', '3.png', '4.png', '20.png', '21.png', '22.png', '23.png', '24.png', '25.png', '26.png', '27.png', '28.png', '29.png', '30.png', '31.png', '32.png', '33.png', '34.png', '35.png', '36.png', '37.png', '38.png', '39.png']\n",
      "['0.png', '1.png', '2.png', '3.png', '4.png', '20.png', '21.png', '22.png', '23.png', '24.png', '25.png', '26.png', '27.png', '28.png', '29.png', '30.png', '31.png', '32.png', '33.png', '34.png', '35.png', '36.png', '37.png', '38.png', '39.png']\n",
      "['0.png', '1.png', '2.png', '3.png', '4.png', '20.png', '21.png', '22.png', '23.png', '24.png', '25.png', '26.png', '27.png', '28.png', '29.png', '30.png', '31.png', '32.png', '33.png', '34.png', '35.png', '36.png', '37.png', '38.png', '39.png']\n",
      "['0.png', '1.png', '2.png', '3.png', '4.png', '20.png', '21.png', '22.png', '23.png', '24.png', '25.png', '26.png', '27.png', '28.png', '29.png', '30.png', '31.png', '32.png', '33.png', '34.png', '35.png', '36.png', '37.png', '38.png', '39.png']\n",
      "['0.png', '1.png', '2.png', '3.png', '4.png', '20.png', '21.png', '22.png', '23.png', '24.png', '25.png', '26.png', '27.png', '28.png', '29.png', '30.png', '31.png', '32.png', '33.png', '34.png', '35.png', '36.png', '37.png', '38.png', '39.png']\n",
      "['0.png', '1.png', '2.png', '3.png', '4.png', '20.png', '21.png', '22.png', '23.png', '24.png', '25.png', '26.png', '27.png', '28.png', '29.png', '30.png', '31.png', '32.png', '33.png', '34.png', '35.png', '36.png', '37.png', '38.png', '39.png']\n",
      "['0.png', '1.png', '2.png', '3.png', '4.png', '20.png', '21.png', '22.png', '23.png', '24.png', '25.png', '26.png', '27.png', '28.png', '29.png', '30.png', '31.png', '32.png', '33.png', '34.png', '35.png', '36.png', '37.png', '38.png', '39.png']\n",
      "['0.png', '1.png', '2.png', '3.png', '4.png', '20.png', '21.png', '22.png', '23.png', '24.png', '25.png', '26.png', '27.png', '28.png', '29.png', '30.png', '31.png', '32.png', '33.png', '34.png', '35.png', '36.png', '37.png', '38.png', '39.png']\n",
      "['0.png', '1.png', '2.png', '3.png', '4.png', '20.png', '21.png', '22.png', '23.png', '24.png', '25.png', '26.png', '27.png', '28.png', '29.png', '30.png', '31.png', '32.png', '33.png', '34.png', '35.png', '36.png', '37.png', '38.png', '39.png']\n",
      "['0.png', '1.png', '2.png', '3.png', '4.png', '20.png', '21.png', '22.png', '23.png', '24.png', '25.png', '26.png', '27.png', '28.png', '29.png', '30.png', '31.png', '32.png', '33.png', '34.png', '35.png', '36.png', '37.png', '38.png', '39.png']\n",
      "['0.png', '1.png', '2.png', '3.png', '4.png', '20.png', '21.png', '22.png', '23.png', '24.png', '25.png', '26.png', '27.png', '28.png', '29.png', '30.png', '31.png', '32.png', '33.png', '34.png', '35.png', '36.png', '37.png', '38.png', '39.png']\n",
      "['0.png', '1.png', '2.png', '3.png', '4.png', '20.png', '21.png', '22.png', '23.png', '24.png', '25.png', '26.png', '27.png', '28.png', '29.png', '30.png', '31.png', '32.png', '33.png', '34.png', '35.png', '36.png', '37.png', '38.png', '39.png']\n",
      "['0.png', '1.png', '2.png', '3.png', '4.png', '20.png', '21.png', '22.png', '23.png', '24.png', '25.png', '26.png', '27.png', '28.png', '29.png', '30.png', '31.png', '32.png', '33.png', '34.png', '35.png', '36.png', '37.png', '38.png', '39.png']\n"
     ]
    },
    {
     "name": "stdout",
     "output_type": "stream",
     "text": [
      "['0.png', '1.png', '2.png', '3.png', '4.png', '20.png', '21.png', '22.png', '23.png', '24.png', '25.png', '26.png', '27.png', '28.png', '29.png', '30.png', '31.png', '32.png', '33.png', '34.png', '35.png', '36.png', '37.png', '38.png', '39.png']\n",
      "['0.png', '1.png', '2.png', '3.png', '4.png', '20.png', '21.png', '22.png', '23.png', '24.png', '25.png', '26.png', '27.png', '28.png', '29.png', '30.png', '31.png', '32.png', '33.png', '34.png', '35.png', '36.png', '37.png', '38.png', '39.png']\n",
      "['0.png', '1.png', '2.png', '3.png', '4.png', '20.png', '21.png', '22.png', '23.png', '24.png', '25.png', '26.png', '27.png', '28.png', '29.png', '30.png', '31.png', '32.png', '33.png', '34.png', '35.png', '36.png', '37.png', '38.png', '39.png']\n",
      "['0.png', '1.png', '2.png', '3.png', '4.png', '20.png', '21.png', '22.png', '23.png', '24.png', '25.png', '26.png', '27.png', '28.png', '29.png', '30.png', '31.png', '32.png', '33.png', '34.png', '35.png', '36.png', '37.png', '38.png', '39.png']\n",
      "['0.png', '1.png', '2.png', '3.png', '4.png', '20.png', '21.png', '22.png', '23.png', '24.png', '25.png', '26.png', '27.png', '28.png', '29.png', '30.png', '31.png', '32.png', '33.png', '34.png', '35.png', '36.png', '37.png', '38.png', '39.png']\n",
      "['0.png', '1.png', '2.png', '3.png', '4.png', '20.png', '21.png', '22.png', '23.png', '24.png', '25.png', '26.png', '27.png', '28.png', '29.png', '30.png', '31.png', '32.png', '33.png', '34.png', '35.png', '36.png', '37.png', '38.png', '39.png']\n",
      "['0.png', '1.png', '2.png', '3.png', '4.png', '20.png', '21.png', '22.png', '23.png', '24.png', '25.png', '26.png', '27.png', '28.png', '29.png', '30.png', '31.png', '32.png', '33.png', '34.png', '35.png', '36.png', '37.png', '38.png', '39.png']\n",
      "['0.png', '1.png', '2.png', '3.png', '4.png', '20.png', '21.png', '22.png', '23.png', '24.png', '25.png', '26.png', '27.png', '28.png', '29.png', '30.png', '31.png', '32.png', '33.png', '34.png', '35.png', '36.png', '37.png', '38.png', '39.png']\n",
      "['0.png', '1.png', '2.png', '3.png', '4.png', '20.png', '21.png', '22.png', '23.png', '24.png', '25.png', '26.png', '27.png', '28.png', '29.png', '30.png', '31.png', '32.png', '33.png', '34.png', '35.png', '36.png', '37.png', '38.png', '39.png']\n",
      "['0.png', '1.png', '2.png', '3.png', '4.png', '20.png', '21.png', '22.png', '23.png', '24.png', '25.png', '26.png', '27.png', '28.png', '29.png', '30.png', '31.png', '32.png', '33.png', '34.png', '35.png', '36.png', '37.png', '38.png', '39.png']\n",
      "['0.png', '1.png', '2.png', '3.png', '4.png', '20.png', '21.png', '22.png', '23.png', '24.png', '25.png', '26.png', '27.png', '28.png', '29.png', '30.png', '31.png', '32.png', '33.png', '34.png', '35.png', '36.png', '37.png', '38.png', '39.png']\n",
      "['0.png', '1.png', '2.png', '3.png', '4.png', '20.png', '21.png', '22.png', '23.png', '24.png', '25.png', '26.png', '27.png', '28.png', '29.png', '30.png', '31.png', '32.png', '33.png', '34.png', '35.png', '36.png', '37.png', '38.png', '39.png']\n",
      "['0.png', '1.png', '2.png', '3.png', '4.png', '20.png', '21.png', '22.png', '23.png', '24.png', '25.png', '26.png', '27.png', '28.png', '29.png', '30.png', '31.png', '32.png', '33.png', '34.png', '35.png', '36.png', '37.png', '38.png', '39.png']\n",
      "['0.png', '1.png', '2.png', '3.png', '4.png', '20.png', '21.png', '22.png', '23.png', '24.png', '25.png', '26.png', '27.png', '28.png', '29.png', '30.png', '31.png', '32.png', '33.png', '34.png', '35.png', '36.png', '37.png', '38.png', '39.png']\n",
      "['0.png', '1.png', '2.png', '3.png', '4.png', '20.png', '21.png', '22.png', '23.png', '24.png', '25.png', '26.png', '27.png', '28.png', '29.png', '30.png', '31.png', '32.png', '33.png', '34.png', '35.png', '36.png', '37.png', '38.png', '39.png']\n",
      "['0.png', '1.png', '2.png', '3.png', '4.png', '20.png', '21.png', '22.png', '23.png', '24.png', '25.png', '26.png', '27.png', '28.png', '29.png', '30.png', '31.png', '32.png', '33.png', '34.png', '35.png', '36.png', '37.png', '38.png', '39.png']\n",
      "['0.png', '1.png', '2.png', '3.png', '4.png', '20.png', '21.png', '22.png', '23.png', '24.png', '25.png', '26.png', '27.png', '28.png', '29.png', '30.png', '31.png', '32.png', '33.png', '34.png', '35.png', '36.png', '37.png', '38.png', '39.png']\n",
      "['0.png', '1.png', '2.png', '3.png', '4.png', '20.png', '21.png', '22.png', '23.png', '24.png', '25.png', '26.png', '27.png', '28.png', '29.png', '30.png', '31.png', '32.png', '33.png', '34.png', '35.png', '36.png', '37.png', '38.png', '39.png']\n",
      "['0.png', '1.png', '2.png', '3.png', '4.png', '20.png', '21.png', '22.png', '23.png', '24.png', '25.png', '26.png', '27.png', '28.png', '29.png', '30.png', '31.png', '32.png', '33.png', '34.png', '35.png', '36.png', '37.png', '38.png', '39.png']\n",
      "['0.png', '1.png', '2.png', '3.png', '4.png', '20.png', '21.png', '22.png', '23.png', '24.png', '25.png', '26.png', '27.png', '28.png', '29.png', '30.png', '31.png', '32.png', '33.png', '34.png', '35.png', '36.png', '37.png', '38.png', '39.png']\n",
      "['0.png', '1.png', '2.png', '3.png', '4.png', '20.png', '21.png', '22.png', '23.png', '24.png', '25.png', '26.png', '27.png', '28.png', '29.png', '30.png', '31.png', '32.png', '33.png', '34.png', '35.png', '36.png', '37.png', '38.png', '39.png']\n",
      "['0.png', '1.png', '2.png', '3.png', '4.png', '20.png', '21.png', '22.png', '23.png', '24.png', '25.png', '26.png', '27.png', '28.png', '29.png', '30.png', '31.png', '32.png', '33.png', '34.png', '35.png', '36.png', '37.png', '38.png', '39.png']\n",
      "['0.png', '1.png', '2.png', '3.png', '4.png', '20.png', '21.png', '22.png', '23.png', '24.png', '25.png', '26.png', '27.png', '28.png', '29.png', '30.png', '31.png', '32.png', '33.png', '34.png', '35.png', '36.png', '37.png', '38.png', '39.png']\n",
      "['0.png', '1.png', '2.png', '3.png', '4.png', '20.png', '21.png', '22.png', '23.png', '24.png', '25.png', '26.png', '27.png', '28.png', '29.png', '30.png', '31.png', '32.png', '33.png', '34.png', '35.png', '36.png', '37.png', '38.png', '39.png']\n",
      "['0.png', '1.png', '2.png', '3.png', '4.png', '20.png', '21.png', '22.png', '23.png', '24.png', '25.png', '26.png', '27.png', '28.png', '29.png', '30.png', '31.png', '32.png', '33.png', '34.png', '35.png', '36.png', '37.png', '38.png', '39.png']\n",
      "['0.png', '1.png', '2.png', '3.png', '4.png', '20.png', '21.png', '22.png', '23.png', '24.png', '25.png', '26.png', '27.png', '28.png', '29.png', '30.png', '31.png', '32.png', '33.png', '34.png', '35.png', '36.png', '37.png', '38.png', '39.png']\n",
      "['0.png', '1.png', '2.png', '3.png', '4.png', '20.png', '21.png', '22.png', '23.png', '24.png', '25.png', '26.png', '27.png', '28.png', '29.png', '30.png', '31.png', '32.png', '33.png', '34.png', '35.png', '36.png', '37.png', '38.png', '39.png']\n",
      "['0.png', '1.png', '2.png', '3.png', '4.png', '20.png', '21.png', '22.png', '23.png', '24.png', '25.png', '26.png', '27.png', '28.png', '29.png', '30.png', '31.png', '32.png', '33.png', '34.png', '35.png', '36.png', '37.png', '38.png', '39.png']\n"
     ]
    }
   ],
   "source": [
    "with torch.no_grad():\n",
    "    for idx, (source, target) in enumerate(train_loader):\n",
    "        source, target = source.to(device), target.to(device)\n",
    "        output = model(source, target, 0.3, True)\n",
    "        output = vae.decoder(torch.squeeze(output[rnd]))\n",
    "        folder_name = test_output_folder + str(idx)\n",
    "        \n",
    "        os.mkdir(folder_name)\n",
    "        os.mkdir(folder_name + \"/Pred/\")\n",
    "        os.mkdir(folder_name + \"/Real/\")\n",
    "        \n",
    "        img_x = vae.decoder(torch.squeeze(source[rnd])).detach().cpu()\n",
    "        \n",
    "        for i in range(seq_len_x):\n",
    "            image = img_x[i]\n",
    "            image = FT.to_pil_image(image)\n",
    "            image.save(f'{folder_name}/Pred/{i}.png')\n",
    "            \n",
    "        output = output.cpu()\n",
    "        for i in range(seq_len_y):\n",
    "            image = output[i]\n",
    "            image = FT.to_pil_image(image)\n",
    "            image.save(f'{folder_name}/Pred/{20+i}.png')\n",
    "            \n",
    "        Images2Video(folder_name+\"/Pred/\", folder_name+'/Pred/output.avi', (64, 64))\n",
    "        \n",
    "        for i in range(seq_len_x):\n",
    "            image = img_x[i]\n",
    "            image = FT.to_pil_image(image)\n",
    "            image.save(f'{folder_name}/Real/{i}.png')\n",
    "        \n",
    "        img_y = vae.decoder(torch.squeeze(target[rnd])).detach().cpu()\n",
    "        for i in range(seq_len_y):\n",
    "            image = img_y[i]\n",
    "            image = FT.to_pil_image(image)\n",
    "            image.save(f'{folder_name}/Real/{20+i}.png')\n",
    "            \n",
    "            \n",
    "        Images2Video(folder_name+\"/Real/\", folder_name+'/Real/output.avi', (64, 64))\n",
    "        \n",
    "        "
   ]
  },
  {
   "cell_type": "code",
   "execution_count": null,
   "metadata": {},
   "outputs": [],
   "source": []
  },
  {
   "cell_type": "code",
   "execution_count": 30,
   "metadata": {},
   "outputs": [],
   "source": []
  },
  {
   "cell_type": "code",
   "execution_count": 31,
   "metadata": {},
   "outputs": [],
   "source": [
    "with torch.no_grad():\n",
    "    pred = model(images_x, target, 0.5, True)\n",
    "    pred = vae.decoder(torch.squeeze(pred))"
   ]
  },
  {
   "cell_type": "code",
   "execution_count": 32,
   "metadata": {},
   "outputs": [],
   "source": [
    "pred = pred.cpu()"
   ]
  },
  {
   "cell_type": "code",
   "execution_count": 33,
   "metadata": {},
   "outputs": [
    {
     "data": {
      "image/png": "[encoded data removed]",
      "text/plain": [
       "<Figure size 432x288 with 10 Axes>"
      ]
     },
     "metadata": {
      "needs_background": "light"
     },
     "output_type": "display_data"
    }
   ],
   "source": [
    "for i in range(10):\n",
    "    plt.subplot(2, 5, i+1)\n",
    "    plt.imshow(pred[i].view(64, 64), cmap=\"gray\")"
   ]
  },
  {
   "cell_type": "code",
   "execution_count": null,
   "metadata": {},
   "outputs": [],
   "source": []
  },
  {
   "cell_type": "code",
   "execution_count": 39,
   "metadata": {},
   "outputs": [],
   "source": [
    "img_x = vae.decoder(torch.squeeze(images_x[0])).detach().cpu()\n",
    "\n",
    "for i in range(seq_len_x):\n",
    "    image = img_x[i]\n",
    "    image = FT.to_pil_image(image)\n",
    "    image.save(f'generated/seq2seq/{i}.png')"
   ]
  },
  {
   "cell_type": "code",
   "execution_count": 40,
   "metadata": {},
   "outputs": [],
   "source": [
    "# img_x = vae.decoder(torch.squeeze(target[0])).detach().cpu()\n",
    "\n",
    "# for i in range(seq_len_y):\n",
    "#     image = img_x[i]\n",
    "#     image = FT.to_pil_image(image)\n",
    "#     image.save(f'generated/seq2seq/{20+i}.png')"
   ]
  },
  {
   "cell_type": "code",
   "execution_count": 35,
   "metadata": {},
   "outputs": [],
   "source": [
    "for i in range(seq_len_y):\n",
    "    image = pred[i]\n",
    "    image = FT.to_pil_image(image)\n",
    "    image.save(f'generated/seq2seq/{20+i}.png')"
   ]
  },
  {
   "cell_type": "code",
   "execution_count": null,
   "metadata": {},
   "outputs": [],
   "source": []
  },
  {
   "cell_type": "code",
   "execution_count": null,
   "metadata": {},
   "outputs": [],
   "source": []
  },
  {
   "cell_type": "code",
   "execution_count": null,
   "metadata": {},
   "outputs": [],
   "source": [
    "# class RNNEncoder(nn.Module):\n",
    "#     def __init__(self, rnn_num_layers=1, input_feature_len=256, sequence_len=5, hidden_size=256, bidirectional=False, device='cpu', rnn_dropout=0.2):\n",
    "#         super().__init__()\n",
    "#         self.sequence_len = sequence_len\n",
    "#         self.hidden_size = hidden_size\n",
    "#         self.input_feature_len = input_feature_len\n",
    "#         self.num_layers = rnn_num_layers\n",
    "#         self.rnn_directions = 2 if bidirectional else 1\n",
    "#         self.gru = nn.GRU(\n",
    "#             num_layers=rnn_num_layers,\n",
    "#             input_size=input_feature_len,\n",
    "#             hidden_size=hidden_size,\n",
    "#             batch_first=True,\n",
    "#             bidirectional=bidirectional,\n",
    "#             dropout=rnn_dropout\n",
    "#         )\n",
    "#         self.device = device\n",
    "\n",
    "#     def forward(self, input_seq):\n",
    "#         ht = torch.zeros(self.num_layers * self.rnn_directions, input_seq.size(0), self.hidden_size, device=self.device)\n",
    "#         if input_seq.ndim < 3:\n",
    "#             input_seq.unsqueeze_(2)\n",
    "#         gru_out, hidden = self.gru(input_seq, ht)\n",
    "#         print(gru_out.shape)\n",
    "#         print(hidden.shape)\n",
    "#         if self.rnn_directions * self.num_layers > 1:\n",
    "#             num_layers = self.rnn_directions * self.num_layers\n",
    "#             if self.rnn_directions > 1:\n",
    "#                 gru_out = gru_out.view(input_seq.size(0), self.sequence_len, self.rnn_directions, self.hidden_size)\n",
    "#                 gru_out = torch.sum(gru_out, axis=2)\n",
    "#             hidden = hidden.view(self.num_layers, self.rnn_directions, input_seq.size(0), self.hidden_size)\n",
    "#             if self.num_layers > 0:\n",
    "#                 hidden = hidden[-1]\n",
    "#             else:\n",
    "#                 hidden = hidden.squeeze(0)\n",
    "#             hidden = hidden.sum(axis=0)\n",
    "#         else:\n",
    "#             hidden.squeeze_(0)\n",
    "#         return gru_out, hidden\n"
   ]
  },
  {
   "cell_type": "code",
   "execution_count": 31,
   "metadata": {},
   "outputs": [],
   "source": [
    "# class DecoderCell(nn.Module):\n",
    "#     def __init__(self, input_feature_len, hidden_size, dropout=0.2):\n",
    "#         super().__init__()\n",
    "#         self.decoder_rnn_cell = nn.GRUCell(\n",
    "#             input_size=input_feature_len,\n",
    "#             hidden_size=hidden_size,\n",
    "#         )\n",
    "#         self.out = nn.Linear(hidden_size, 1)\n",
    "#         self.attention = False\n",
    "#         self.dropout = nn.Dropout(dropout)\n",
    "\n",
    "#     def forward(self, prev_hidden, y):\n",
    "#         rnn_hidden = self.decoder_rnn_cell(y, prev_hidden)\n",
    "#         output = self.out(rnn_hidden)\n",
    "#         return output, self.dropout(rnn_hidden)"
   ]
  },
  {
   "cell_type": "code",
   "execution_count": 32,
   "metadata": {},
   "outputs": [],
   "source": [
    "# class EncoderDecoderWrapper(nn.Module):\n",
    "#     def __init__(self, encoder, decoder_cell, output_size=5, teacher_forcing=0.3, sequence_len=336, decoder_input=True, device='cpu'):\n",
    "#         super().__init__()\n",
    "#         self.encoder = encoder\n",
    "#         self.decoder_cell = decoder_cell\n",
    "#         self.output_size = output_size\n",
    "#         self.teacher_forcing = teacher_forcing\n",
    "# #         self.sequence_length = sequence_len\n",
    "#         self.decoder_input = decoder_input\n",
    "#         self.device = device\n",
    "\n",
    "#     def forward(self, xb, yb=None):\n",
    "#         if self.decoder_input:\n",
    "#             decoder_input = xb[-1]\n",
    "#             input_seq = xb[0]\n",
    "#             if len(xb) > 2:\n",
    "#                 encoder_output, encoder_hidden = self.encoder(input_seq, *xb[1:-1])\n",
    "#             else:\n",
    "#                 encoder_output, encoder_hidden = self.encoder(input_seq)\n",
    "#         else:\n",
    "#             if type(xb) is list and len(xb) > 1:\n",
    "#                 input_seq = xb[0]\n",
    "#                 encoder_output, encoder_hidden = self.encoder(*xb)\n",
    "#             else:\n",
    "#                 input_seq = xb\n",
    "#                 encoder_output, encoder_hidden = self.encoder(input_seq)\n",
    "#         prev_hidden = encoder_hidden\n",
    "#         outputs = torch.zeros(input_seq.size(0), self.output_size, device=self.device)\n",
    "#         y_prev = input_seq[:, -1, 0].unsqueeze(1)\n",
    "#         for i in range(self.output_size):\n",
    "#             step_decoder_input = torch.cat((y_prev, decoder_input[:, i]), axis=1)\n",
    "#             if (yb is not None) and (i > 0) and (torch.rand(1) < self.teacher_forcing):\n",
    "#                 step_decoder_input = torch.cat((yb[:, i].unsqueeze(1), decoder_input[:, i]), axis=1)\n",
    "#             rnn_output, prev_hidden = self.decoder_cell(prev_hidden, step_decoder_input)\n",
    "#             y_prev = rnn_output\n",
    "#             outputs[:, i] = rnn_output.squeeze(1)\n",
    "#         return outputs"
   ]
  },
  {
   "cell_type": "code",
   "execution_count": null,
   "metadata": {},
   "outputs": [],
   "source": []
  },
  {
   "cell_type": "code",
   "execution_count": 33,
   "metadata": {},
   "outputs": [],
   "source": [
    "model = EncoderDecoderWrapper(RNNEncoder(), DecoderCell(256, 256)).to(device)"
   ]
  },
  {
   "cell_type": "code",
   "execution_count": null,
   "metadata": {},
   "outputs": [],
   "source": []
  },
  {
   "cell_type": "code",
   "execution_count": null,
   "metadata": {},
   "outputs": [],
   "source": []
  },
  {
   "cell_type": "code",
   "execution_count": 34,
   "metadata": {},
   "outputs": [],
   "source": [
    "criterion = nn.MSELoss()\n",
    "optimizer = torch.optim.AdamW(model.parameters(), lr=0.002)\n",
    "scheduler = torch.optim.lr_scheduler.ReduceLROnPlateau(optimizer, patience=2, verbose=True)"
   ]
  },
  {
   "cell_type": "code",
   "execution_count": 35,
   "metadata": {},
   "outputs": [],
   "source": [
    "num_epochs = 100\n",
    "loss_hist = []"
   ]
  },
  {
   "cell_type": "code",
   "execution_count": null,
   "metadata": {},
   "outputs": [],
   "source": []
  },
  {
   "cell_type": "code",
   "execution_count": null,
   "metadata": {},
   "outputs": [],
   "source": []
  },
  {
   "cell_type": "code",
   "execution_count": 36,
   "metadata": {},
   "outputs": [
    {
     "ename": "RuntimeError",
     "evalue": "input.size(-1) must be equal to input_size. Expected 256, got 1",
     "output_type": "error",
     "traceback": [
      "\u001b[0;31m---------------------------------------------------------------------------\u001b[0m",
      "\u001b[0;31mRuntimeError\u001b[0m                              Traceback (most recent call last)",
      "\u001b[0;32m<ipython-input-36-1c6f2d687935>\u001b[0m in \u001b[0;36m<module>\u001b[0;34m\u001b[0m\n\u001b[1;32m      7\u001b[0m \u001b[0;34m\u001b[0m\u001b[0m\n\u001b[1;32m      8\u001b[0m \u001b[0;34m\u001b[0m\u001b[0m\n\u001b[0;32m----> 9\u001b[0;31m         \u001b[0mprediction\u001b[0m \u001b[0;34m=\u001b[0m \u001b[0mmodel\u001b[0m\u001b[0;34m(\u001b[0m\u001b[0mlatents_x\u001b[0m\u001b[0;34m)\u001b[0m\u001b[0;34m\u001b[0m\u001b[0;34m\u001b[0m\u001b[0m\n\u001b[0m\u001b[1;32m     10\u001b[0m \u001b[0;34m\u001b[0m\u001b[0m\n\u001b[1;32m     11\u001b[0m         \u001b[0mprint\u001b[0m\u001b[0;34m(\u001b[0m\u001b[0mprediction\u001b[0m\u001b[0;34m.\u001b[0m\u001b[0mshape\u001b[0m\u001b[0;34m)\u001b[0m\u001b[0;34m\u001b[0m\u001b[0;34m\u001b[0m\u001b[0m\n",
      "\u001b[0;32m~/anaconda3/envs/dance/lib/python3.7/site-packages/torch/nn/modules/module.py\u001b[0m in \u001b[0;36m_call_impl\u001b[0;34m(self, *input, **kwargs)\u001b[0m\n\u001b[1;32m    720\u001b[0m             \u001b[0mresult\u001b[0m \u001b[0;34m=\u001b[0m \u001b[0mself\u001b[0m\u001b[0;34m.\u001b[0m\u001b[0m_slow_forward\u001b[0m\u001b[0;34m(\u001b[0m\u001b[0;34m*\u001b[0m\u001b[0minput\u001b[0m\u001b[0;34m,\u001b[0m \u001b[0;34m**\u001b[0m\u001b[0mkwargs\u001b[0m\u001b[0;34m)\u001b[0m\u001b[0;34m\u001b[0m\u001b[0;34m\u001b[0m\u001b[0m\n\u001b[1;32m    721\u001b[0m         \u001b[0;32melse\u001b[0m\u001b[0;34m:\u001b[0m\u001b[0;34m\u001b[0m\u001b[0;34m\u001b[0m\u001b[0m\n\u001b[0;32m--> 722\u001b[0;31m             \u001b[0mresult\u001b[0m \u001b[0;34m=\u001b[0m \u001b[0mself\u001b[0m\u001b[0;34m.\u001b[0m\u001b[0mforward\u001b[0m\u001b[0;34m(\u001b[0m\u001b[0;34m*\u001b[0m\u001b[0minput\u001b[0m\u001b[0;34m,\u001b[0m \u001b[0;34m**\u001b[0m\u001b[0mkwargs\u001b[0m\u001b[0;34m)\u001b[0m\u001b[0;34m\u001b[0m\u001b[0;34m\u001b[0m\u001b[0m\n\u001b[0m\u001b[1;32m    723\u001b[0m         for hook in itertools.chain(\n\u001b[1;32m    724\u001b[0m                 \u001b[0m_global_forward_hooks\u001b[0m\u001b[0;34m.\u001b[0m\u001b[0mvalues\u001b[0m\u001b[0;34m(\u001b[0m\u001b[0;34m)\u001b[0m\u001b[0;34m,\u001b[0m\u001b[0;34m\u001b[0m\u001b[0;34m\u001b[0m\u001b[0m\n",
      "\u001b[0;32m<ipython-input-32-86c8684c7d60>\u001b[0m in \u001b[0;36mforward\u001b[0;34m(self, xb, yb)\u001b[0m\n\u001b[1;32m     17\u001b[0m                 \u001b[0mencoder_output\u001b[0m\u001b[0;34m,\u001b[0m \u001b[0mencoder_hidden\u001b[0m \u001b[0;34m=\u001b[0m \u001b[0mself\u001b[0m\u001b[0;34m.\u001b[0m\u001b[0mencoder\u001b[0m\u001b[0;34m(\u001b[0m\u001b[0minput_seq\u001b[0m\u001b[0;34m,\u001b[0m \u001b[0;34m*\u001b[0m\u001b[0mxb\u001b[0m\u001b[0;34m[\u001b[0m\u001b[0;36m1\u001b[0m\u001b[0;34m:\u001b[0m\u001b[0;34m-\u001b[0m\u001b[0;36m1\u001b[0m\u001b[0;34m]\u001b[0m\u001b[0;34m)\u001b[0m\u001b[0;34m\u001b[0m\u001b[0;34m\u001b[0m\u001b[0m\n\u001b[1;32m     18\u001b[0m             \u001b[0;32melse\u001b[0m\u001b[0;34m:\u001b[0m\u001b[0;34m\u001b[0m\u001b[0;34m\u001b[0m\u001b[0m\n\u001b[0;32m---> 19\u001b[0;31m                 \u001b[0mencoder_output\u001b[0m\u001b[0;34m,\u001b[0m \u001b[0mencoder_hidden\u001b[0m \u001b[0;34m=\u001b[0m \u001b[0mself\u001b[0m\u001b[0;34m.\u001b[0m\u001b[0mencoder\u001b[0m\u001b[0;34m(\u001b[0m\u001b[0minput_seq\u001b[0m\u001b[0;34m)\u001b[0m\u001b[0;34m\u001b[0m\u001b[0;34m\u001b[0m\u001b[0m\n\u001b[0m\u001b[1;32m     20\u001b[0m         \u001b[0;32melse\u001b[0m\u001b[0;34m:\u001b[0m\u001b[0;34m\u001b[0m\u001b[0;34m\u001b[0m\u001b[0m\n\u001b[1;32m     21\u001b[0m             \u001b[0;32mif\u001b[0m \u001b[0mtype\u001b[0m\u001b[0;34m(\u001b[0m\u001b[0mxb\u001b[0m\u001b[0;34m)\u001b[0m \u001b[0;32mis\u001b[0m \u001b[0mlist\u001b[0m \u001b[0;32mand\u001b[0m \u001b[0mlen\u001b[0m\u001b[0;34m(\u001b[0m\u001b[0mxb\u001b[0m\u001b[0;34m)\u001b[0m \u001b[0;34m>\u001b[0m \u001b[0;36m1\u001b[0m\u001b[0;34m:\u001b[0m\u001b[0;34m\u001b[0m\u001b[0;34m\u001b[0m\u001b[0m\n",
      "\u001b[0;32m~/anaconda3/envs/dance/lib/python3.7/site-packages/torch/nn/modules/module.py\u001b[0m in \u001b[0;36m_call_impl\u001b[0;34m(self, *input, **kwargs)\u001b[0m\n\u001b[1;32m    720\u001b[0m             \u001b[0mresult\u001b[0m \u001b[0;34m=\u001b[0m \u001b[0mself\u001b[0m\u001b[0;34m.\u001b[0m\u001b[0m_slow_forward\u001b[0m\u001b[0;34m(\u001b[0m\u001b[0;34m*\u001b[0m\u001b[0minput\u001b[0m\u001b[0;34m,\u001b[0m \u001b[0;34m**\u001b[0m\u001b[0mkwargs\u001b[0m\u001b[0;34m)\u001b[0m\u001b[0;34m\u001b[0m\u001b[0;34m\u001b[0m\u001b[0m\n\u001b[1;32m    721\u001b[0m         \u001b[0;32melse\u001b[0m\u001b[0;34m:\u001b[0m\u001b[0;34m\u001b[0m\u001b[0;34m\u001b[0m\u001b[0m\n\u001b[0;32m--> 722\u001b[0;31m             \u001b[0mresult\u001b[0m \u001b[0;34m=\u001b[0m \u001b[0mself\u001b[0m\u001b[0;34m.\u001b[0m\u001b[0mforward\u001b[0m\u001b[0;34m(\u001b[0m\u001b[0;34m*\u001b[0m\u001b[0minput\u001b[0m\u001b[0;34m,\u001b[0m \u001b[0;34m**\u001b[0m\u001b[0mkwargs\u001b[0m\u001b[0;34m)\u001b[0m\u001b[0;34m\u001b[0m\u001b[0;34m\u001b[0m\u001b[0m\n\u001b[0m\u001b[1;32m    723\u001b[0m         for hook in itertools.chain(\n\u001b[1;32m    724\u001b[0m                 \u001b[0m_global_forward_hooks\u001b[0m\u001b[0;34m.\u001b[0m\u001b[0mvalues\u001b[0m\u001b[0;34m(\u001b[0m\u001b[0;34m)\u001b[0m\u001b[0;34m,\u001b[0m\u001b[0;34m\u001b[0m\u001b[0;34m\u001b[0m\u001b[0m\n",
      "\u001b[0;32m<ipython-input-30-3ffc38da3282>\u001b[0m in \u001b[0;36mforward\u001b[0;34m(self, input_seq)\u001b[0m\n\u001b[1;32m     21\u001b[0m         \u001b[0;32mif\u001b[0m \u001b[0minput_seq\u001b[0m\u001b[0;34m.\u001b[0m\u001b[0mndim\u001b[0m \u001b[0;34m<\u001b[0m \u001b[0;36m3\u001b[0m\u001b[0;34m:\u001b[0m\u001b[0;34m\u001b[0m\u001b[0;34m\u001b[0m\u001b[0m\n\u001b[1;32m     22\u001b[0m             \u001b[0minput_seq\u001b[0m\u001b[0;34m.\u001b[0m\u001b[0munsqueeze_\u001b[0m\u001b[0;34m(\u001b[0m\u001b[0;36m2\u001b[0m\u001b[0;34m)\u001b[0m\u001b[0;34m\u001b[0m\u001b[0;34m\u001b[0m\u001b[0m\n\u001b[0;32m---> 23\u001b[0;31m         \u001b[0mgru_out\u001b[0m\u001b[0;34m,\u001b[0m \u001b[0mhidden\u001b[0m \u001b[0;34m=\u001b[0m \u001b[0mself\u001b[0m\u001b[0;34m.\u001b[0m\u001b[0mgru\u001b[0m\u001b[0;34m(\u001b[0m\u001b[0minput_seq\u001b[0m\u001b[0;34m,\u001b[0m \u001b[0mht\u001b[0m\u001b[0;34m)\u001b[0m\u001b[0;34m\u001b[0m\u001b[0;34m\u001b[0m\u001b[0m\n\u001b[0m\u001b[1;32m     24\u001b[0m         \u001b[0mprint\u001b[0m\u001b[0;34m(\u001b[0m\u001b[0mgru_out\u001b[0m\u001b[0;34m.\u001b[0m\u001b[0mshape\u001b[0m\u001b[0;34m)\u001b[0m\u001b[0;34m\u001b[0m\u001b[0;34m\u001b[0m\u001b[0m\n\u001b[1;32m     25\u001b[0m         \u001b[0mprint\u001b[0m\u001b[0;34m(\u001b[0m\u001b[0mhidden\u001b[0m\u001b[0;34m.\u001b[0m\u001b[0mshape\u001b[0m\u001b[0;34m)\u001b[0m\u001b[0;34m\u001b[0m\u001b[0;34m\u001b[0m\u001b[0m\n",
      "\u001b[0;32m~/anaconda3/envs/dance/lib/python3.7/site-packages/torch/nn/modules/module.py\u001b[0m in \u001b[0;36m_call_impl\u001b[0;34m(self, *input, **kwargs)\u001b[0m\n\u001b[1;32m    720\u001b[0m             \u001b[0mresult\u001b[0m \u001b[0;34m=\u001b[0m \u001b[0mself\u001b[0m\u001b[0;34m.\u001b[0m\u001b[0m_slow_forward\u001b[0m\u001b[0;34m(\u001b[0m\u001b[0;34m*\u001b[0m\u001b[0minput\u001b[0m\u001b[0;34m,\u001b[0m \u001b[0;34m**\u001b[0m\u001b[0mkwargs\u001b[0m\u001b[0;34m)\u001b[0m\u001b[0;34m\u001b[0m\u001b[0;34m\u001b[0m\u001b[0m\n\u001b[1;32m    721\u001b[0m         \u001b[0;32melse\u001b[0m\u001b[0;34m:\u001b[0m\u001b[0;34m\u001b[0m\u001b[0;34m\u001b[0m\u001b[0m\n\u001b[0;32m--> 722\u001b[0;31m             \u001b[0mresult\u001b[0m \u001b[0;34m=\u001b[0m \u001b[0mself\u001b[0m\u001b[0;34m.\u001b[0m\u001b[0mforward\u001b[0m\u001b[0;34m(\u001b[0m\u001b[0;34m*\u001b[0m\u001b[0minput\u001b[0m\u001b[0;34m,\u001b[0m \u001b[0;34m**\u001b[0m\u001b[0mkwargs\u001b[0m\u001b[0;34m)\u001b[0m\u001b[0;34m\u001b[0m\u001b[0;34m\u001b[0m\u001b[0m\n\u001b[0m\u001b[1;32m    723\u001b[0m         for hook in itertools.chain(\n\u001b[1;32m    724\u001b[0m                 \u001b[0m_global_forward_hooks\u001b[0m\u001b[0;34m.\u001b[0m\u001b[0mvalues\u001b[0m\u001b[0;34m(\u001b[0m\u001b[0;34m)\u001b[0m\u001b[0;34m,\u001b[0m\u001b[0;34m\u001b[0m\u001b[0;34m\u001b[0m\u001b[0m\n",
      "\u001b[0;32m~/anaconda3/envs/dance/lib/python3.7/site-packages/torch/nn/modules/rnn.py\u001b[0m in \u001b[0;36mforward\u001b[0;34m(self, input, hx)\u001b[0m\n\u001b[1;32m    730\u001b[0m             \u001b[0mhx\u001b[0m \u001b[0;34m=\u001b[0m \u001b[0mself\u001b[0m\u001b[0;34m.\u001b[0m\u001b[0mpermute_hidden\u001b[0m\u001b[0;34m(\u001b[0m\u001b[0mhx\u001b[0m\u001b[0;34m,\u001b[0m \u001b[0msorted_indices\u001b[0m\u001b[0;34m)\u001b[0m\u001b[0;34m\u001b[0m\u001b[0;34m\u001b[0m\u001b[0m\n\u001b[1;32m    731\u001b[0m \u001b[0;34m\u001b[0m\u001b[0m\n\u001b[0;32m--> 732\u001b[0;31m         \u001b[0mself\u001b[0m\u001b[0;34m.\u001b[0m\u001b[0mcheck_forward_args\u001b[0m\u001b[0;34m(\u001b[0m\u001b[0minput\u001b[0m\u001b[0;34m,\u001b[0m \u001b[0mhx\u001b[0m\u001b[0;34m,\u001b[0m \u001b[0mbatch_sizes\u001b[0m\u001b[0;34m)\u001b[0m\u001b[0;34m\u001b[0m\u001b[0;34m\u001b[0m\u001b[0m\n\u001b[0m\u001b[1;32m    733\u001b[0m         \u001b[0;32mif\u001b[0m \u001b[0mbatch_sizes\u001b[0m \u001b[0;32mis\u001b[0m \u001b[0;32mNone\u001b[0m\u001b[0;34m:\u001b[0m\u001b[0;34m\u001b[0m\u001b[0;34m\u001b[0m\u001b[0m\n\u001b[1;32m    734\u001b[0m             result = _VF.gru(input, hx, self._flat_weights, self.bias, self.num_layers,\n",
      "\u001b[0;32m~/anaconda3/envs/dance/lib/python3.7/site-packages/torch/nn/modules/rnn.py\u001b[0m in \u001b[0;36mcheck_forward_args\u001b[0;34m(self, input, hidden, batch_sizes)\u001b[0m\n\u001b[1;32m    196\u001b[0m \u001b[0;34m\u001b[0m\u001b[0m\n\u001b[1;32m    197\u001b[0m     \u001b[0;32mdef\u001b[0m \u001b[0mcheck_forward_args\u001b[0m\u001b[0;34m(\u001b[0m\u001b[0mself\u001b[0m\u001b[0;34m,\u001b[0m \u001b[0minput\u001b[0m\u001b[0;34m:\u001b[0m \u001b[0mTensor\u001b[0m\u001b[0;34m,\u001b[0m \u001b[0mhidden\u001b[0m\u001b[0;34m:\u001b[0m \u001b[0mTensor\u001b[0m\u001b[0;34m,\u001b[0m \u001b[0mbatch_sizes\u001b[0m\u001b[0;34m:\u001b[0m \u001b[0mOptional\u001b[0m\u001b[0;34m[\u001b[0m\u001b[0mTensor\u001b[0m\u001b[0;34m]\u001b[0m\u001b[0;34m)\u001b[0m\u001b[0;34m:\u001b[0m\u001b[0;34m\u001b[0m\u001b[0;34m\u001b[0m\u001b[0m\n\u001b[0;32m--> 198\u001b[0;31m         \u001b[0mself\u001b[0m\u001b[0;34m.\u001b[0m\u001b[0mcheck_input\u001b[0m\u001b[0;34m(\u001b[0m\u001b[0minput\u001b[0m\u001b[0;34m,\u001b[0m \u001b[0mbatch_sizes\u001b[0m\u001b[0;34m)\u001b[0m\u001b[0;34m\u001b[0m\u001b[0;34m\u001b[0m\u001b[0m\n\u001b[0m\u001b[1;32m    199\u001b[0m         \u001b[0mexpected_hidden_size\u001b[0m \u001b[0;34m=\u001b[0m \u001b[0mself\u001b[0m\u001b[0;34m.\u001b[0m\u001b[0mget_expected_hidden_size\u001b[0m\u001b[0;34m(\u001b[0m\u001b[0minput\u001b[0m\u001b[0;34m,\u001b[0m \u001b[0mbatch_sizes\u001b[0m\u001b[0;34m)\u001b[0m\u001b[0;34m\u001b[0m\u001b[0;34m\u001b[0m\u001b[0m\n\u001b[1;32m    200\u001b[0m \u001b[0;34m\u001b[0m\u001b[0m\n",
      "\u001b[0;32m~/anaconda3/envs/dance/lib/python3.7/site-packages/torch/nn/modules/rnn.py\u001b[0m in \u001b[0;36mcheck_input\u001b[0;34m(self, input, batch_sizes)\u001b[0m\n\u001b[1;32m    177\u001b[0m             raise RuntimeError(\n\u001b[1;32m    178\u001b[0m                 'input.size(-1) must be equal to input_size. Expected {}, got {}'.format(\n\u001b[0;32m--> 179\u001b[0;31m                     self.input_size, input.size(-1)))\n\u001b[0m\u001b[1;32m    180\u001b[0m \u001b[0;34m\u001b[0m\u001b[0m\n\u001b[1;32m    181\u001b[0m     \u001b[0;32mdef\u001b[0m \u001b[0mget_expected_hidden_size\u001b[0m\u001b[0;34m(\u001b[0m\u001b[0mself\u001b[0m\u001b[0;34m,\u001b[0m \u001b[0minput\u001b[0m\u001b[0;34m:\u001b[0m \u001b[0mTensor\u001b[0m\u001b[0;34m,\u001b[0m \u001b[0mbatch_sizes\u001b[0m\u001b[0;34m:\u001b[0m \u001b[0mOptional\u001b[0m\u001b[0;34m[\u001b[0m\u001b[0mTensor\u001b[0m\u001b[0;34m]\u001b[0m\u001b[0;34m)\u001b[0m \u001b[0;34m->\u001b[0m \u001b[0mTuple\u001b[0m\u001b[0;34m[\u001b[0m\u001b[0mint\u001b[0m\u001b[0;34m,\u001b[0m \u001b[0mint\u001b[0m\u001b[0;34m,\u001b[0m \u001b[0mint\u001b[0m\u001b[0;34m]\u001b[0m\u001b[0;34m:\u001b[0m\u001b[0;34m\u001b[0m\u001b[0;34m\u001b[0m\u001b[0m\n",
      "\u001b[0;31mRuntimeError\u001b[0m: input.size(-1) must be equal to input_size. Expected 256, got 1"
     ]
    }
   ],
   "source": [
    "for epoch in range(num_epochs):\n",
    "    for idx, (latents) in enumerate(frame_loader):\n",
    "        model.zero_grad()\n",
    "        \n",
    "        latents_x,  latents_y = latents[:, 0:seq_len, :].to(device), latents[:, seq_len:seq_len+seq_len, :].to(device)\n",
    "        \n",
    "\n",
    "        \n",
    "        prediction = model(latents_x)\n",
    "        \n",
    "        print(prediction.shape)\n",
    "        \n",
    "        \n",
    "    \n",
    "        \n",
    "        \n",
    "#         pred_y = vae.decoder(prediction[:, seq_len-1, :])\n",
    "        \n",
    "#         loss = criterion(pred_y, y)\n",
    "        \n",
    "#         loss_hist.append(loss.item())\n",
    "        \n",
    "#         loss.backward()\n",
    "\n",
    "\n",
    "        optimizer.step()\n",
    "        \n",
    "        if idx % 100 == 0:\n",
    "            print(f'Epoch: {epoch} / {num_epochs} Batch:: {idx}/{len(frame_loader)} Loss: {loss}')\n",
    "    \n",
    "    mean_loss = sum(loss_hist)/len(loss_hist)\n",
    "    scheduler.step(mean_loss)"
   ]
  },
  {
   "cell_type": "code",
   "execution_count": 50,
   "metadata": {},
   "outputs": [
    {
     "data": {
      "image/png": "[encoded data removed]",
      "text/plain": [
       "<Figure size 432x288 with 1 Axes>"
      ]
     },
     "metadata": {
      "needs_background": "light"
     },
     "output_type": "display_data"
    }
   ],
   "source": [
    "plt.plot(loss_hist, label=\"Training loss\")\n",
    "plt.legend()\n",
    "plt.show()"
   ]
  },
  {
   "cell_type": "code",
   "execution_count": 53,
   "metadata": {},
   "outputs": [
    {
     "data": {
      "text/plain": [
       "<matplotlib.image.AxesImage at 0x7f87c296fe10>"
      ]
     },
     "execution_count": 53,
     "metadata": {},
     "output_type": "execute_result"
    },
    {
     "data": {
      "image/png": "[encoded data removed]",
      "text/plain": [
       "<Figure size 432x288 with 1 Axes>"
      ]
     },
     "metadata": {
      "needs_background": "light"
     },
     "output_type": "display_data"
    }
   ],
   "source": [
    "plt.imshow(pred_y[3].detach().cpu().view(64, 64), cmap=\"gray\")"
   ]
  },
  {
   "cell_type": "code",
   "execution_count": 54,
   "metadata": {},
   "outputs": [
    {
     "data": {
      "text/plain": [
       "<matplotlib.image.AxesImage at 0x7f87c2944fd0>"
      ]
     },
     "execution_count": 54,
     "metadata": {},
     "output_type": "execute_result"
    },
    {
     "data": {
      "image/png": "[encoded data removed]",
      "text/plain": [
       "<Figure size 432x288 with 1 Axes>"
      ]
     },
     "metadata": {
      "needs_background": "light"
     },
     "output_type": "display_data"
    }
   ],
   "source": [
    "plt.imshow(y[3].cpu().view(64, 64), cmap=\"gray\")"
   ]
  },
  {
   "cell_type": "code",
   "execution_count": 56,
   "metadata": {},
   "outputs": [
    {
     "data": {
      "image/png": "[encoded data removed]",
      "text/plain": [
       "<Figure size 432x288 with 5 Axes>"
      ]
     },
     "metadata": {
      "needs_background": "light"
     },
     "output_type": "display_data"
    }
   ],
   "source": [
    "with torch.no_grad():\n",
    "    img = vae.decoder(torch.squeeze(prediction[3])).detach().cpu()\n",
    "    for i in range(seq_len):\n",
    "        plt.subplot(1, 5, i+1)\n",
    "        plt.imshow(img[i].view(64, 64), cmap=\"gray\")"
   ]
  },
  {
   "cell_type": "code",
   "execution_count": null,
   "metadata": {},
   "outputs": [],
   "source": []
  }
 ],
 "metadata": {
  "kernelspec": {
   "display_name": "Python 3",
   "language": "python",
   "name": "python3"
  },
  "language_info": {
   "codemirror_mode": {
    "name": "ipython",
    "version": 3
   },
   "file_extension": ".py",
   "mimetype": "text/x-python",
   "name": "python",
   "nbconvert_exporter": "python",
   "pygments_lexer": "ipython3",
   "version": "3.7.9"
  }
 },
 "nbformat": 4,
 "nbformat_minor": 4
}
